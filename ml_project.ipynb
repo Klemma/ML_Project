{
 "cells": [
  {
   "cell_type": "code",
   "execution_count": 1,
   "id": "vital-visitor",
   "metadata": {},
   "outputs": [],
   "source": [
    "import nltk\n",
    "import pymorphy2\n",
    "import re\n",
    "\n",
    "from tqdm import tqdm\n",
    "from os import listdir\n",
    "from os.path import isfile, join"
   ]
  },
  {
   "cell_type": "code",
   "execution_count": 2,
   "id": "polish-stick",
   "metadata": {},
   "outputs": [],
   "source": [
    "inp_path = \".\\\\data\\\\some_data\\\\raw_data\\\\\""
   ]
  },
  {
   "cell_type": "code",
   "execution_count": 3,
   "id": "interstate-reason",
   "metadata": {},
   "outputs": [],
   "source": [
    "files = [file for file in listdir(inp_path) if isfile(join(inp_path, file))]"
   ]
  },
  {
   "cell_type": "code",
   "execution_count": 4,
   "id": "warming-gregory",
   "metadata": {},
   "outputs": [],
   "source": [
    "texts = []"
   ]
  },
  {
   "cell_type": "code",
   "execution_count": 5,
   "id": "valid-mortgage",
   "metadata": {},
   "outputs": [
    {
     "name": "stderr",
     "output_type": "stream",
     "text": [
      "100%|████████████████████████████████████████████████████████████████████████████████████| 2/2 [00:00<00:00, 16.04it/s]\n"
     ]
    }
   ],
   "source": [
    "for file in tqdm(files):\n",
    "    with open(inp_path + file, 'r', encoding='utf-8') as f:\n",
    "        texts.extend(f.readlines())"
   ]
  },
  {
   "cell_type": "code",
   "execution_count": 6,
   "id": "equipped-outside",
   "metadata": {},
   "outputs": [
    {
     "name": "stderr",
     "output_type": "stream",
     "text": [
      "100%|██████████████████████████████████████████████████████████████████████| 360278/360278 [00:00<00:00, 445393.23it/s]\n"
     ]
    }
   ],
   "source": [
    "texts = [text.translate({ord('\\n'): None}) for text in tqdm(texts)]"
   ]
  },
  {
   "cell_type": "code",
   "execution_count": 7,
   "id": "prerequisite-migration",
   "metadata": {},
   "outputs": [],
   "source": [
    "lemmatized_texts = []"
   ]
  },
  {
   "cell_type": "code",
   "execution_count": 8,
   "id": "civic-behavior",
   "metadata": {},
   "outputs": [],
   "source": [
    "morph = pymorphy2.MorphAnalyzer()"
   ]
  },
  {
   "cell_type": "code",
   "execution_count": 9,
   "id": "aggressive-german",
   "metadata": {},
   "outputs": [
    {
     "name": "stderr",
     "output_type": "stream",
     "text": [
      "100%|████████████████████████████████████████████████████████████████████████| 360278/360278 [00:40<00:00, 8830.67it/s]\n"
     ]
    }
   ],
   "source": [
    "for text in tqdm(texts):\n",
    "    tokenized_text = nltk.wordpunct_tokenize(text)\n",
    "    lemmatized_text = [morph.parse(word)[0].normal_form for word in tokenized_text]\n",
    "    lemmatized_text = ' '.join([str(word) for word in lemmatized_text])\n",
    "    lemmatized_text = re.sub(r'\\s([?.!\"](?:\\s|$))', r'\\1', lemmatized_text)\n",
    "    lemmatized_texts.append(lemmatized_text)"
   ]
  },
  {
   "cell_type": "code",
   "execution_count": 10,
   "id": "valued-klein",
   "metadata": {},
   "outputs": [],
   "source": [
    "out_path = \".\\\\data\\\\some_data\\\\processed_data\\\\\""
   ]
  },
  {
   "cell_type": "code",
   "execution_count": 11,
   "id": "earlier-particle",
   "metadata": {},
   "outputs": [
    {
     "name": "stderr",
     "output_type": "stream",
     "text": [
      "100%|█████████████████████████████████████████████████████████████████████| 360278/360278 [00:00<00:00, 3284048.39it/s]\n"
     ]
    }
   ],
   "source": [
    "with open(out_path + \"original_texts.txt\", 'w', encoding='utf-8') as f:\n",
    "    f.writelines([text + '\\n' for text in tqdm(texts)])"
   ]
  },
  {
   "cell_type": "code",
   "execution_count": 12,
   "id": "italian-calvin",
   "metadata": {},
   "outputs": [
    {
     "name": "stderr",
     "output_type": "stream",
     "text": [
      "100%|█████████████████████████████████████████████████████████████████████| 360278/360278 [00:00<00:00, 2767058.33it/s]\n"
     ]
    }
   ],
   "source": [
    "with open(out_path + \"lemmatized_texts.txt\", 'w', encoding='utf-8') as f:\n",
    "    f.writelines([lemmatized_text + '\\n' for lemmatized_text in tqdm(lemmatized_texts)])"
   ]
  },
  {
   "cell_type": "code",
   "execution_count": null,
   "id": "innocent-workplace",
   "metadata": {},
   "outputs": [],
   "source": []
  }
 ],
 "metadata": {
  "kernelspec": {
   "display_name": "python37_venv",
   "language": "python",
   "name": "python37_venv"
  },
  "language_info": {
   "codemirror_mode": {
    "name": "ipython",
    "version": 3
   },
   "file_extension": ".py",
   "mimetype": "text/x-python",
   "name": "python",
   "nbconvert_exporter": "python",
   "pygments_lexer": "ipython3",
   "version": "3.7.0"
  }
 },
 "nbformat": 4,
 "nbformat_minor": 5
}

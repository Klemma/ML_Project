{
 "cells": [
  {
   "cell_type": "markdown",
   "id": "mathematical-zealand",
   "metadata": {},
   "source": [
    "## Импорт необходимых библиотек"
   ]
  },
  {
   "cell_type": "code",
   "execution_count": 29,
   "id": "fundamental-switch",
   "metadata": {},
   "outputs": [],
   "source": [
    "import re\n",
    "import spacy\n",
    "import csv\n",
    "import torch\n",
    "import nltk\n",
    "\n",
    "from itertools import chain\n",
    "from tqdm import tqdm"
   ]
  },
  {
   "cell_type": "markdown",
   "id": "closed-coalition",
   "metadata": {},
   "source": [
    "## Подготовка данных"
   ]
  },
  {
   "cell_type": "code",
   "execution_count": 2,
   "id": "macro-still",
   "metadata": {},
   "outputs": [],
   "source": [
    "nlp = spacy.load('ru_core_news_lg')"
   ]
  },
  {
   "cell_type": "code",
   "execution_count": 3,
   "id": "unauthorized-bradley",
   "metadata": {},
   "outputs": [],
   "source": [
    "data_path = \"./data/some_data/processed_data/\""
   ]
  },
  {
   "cell_type": "code",
   "execution_count": 4,
   "id": "frequent-attribute",
   "metadata": {},
   "outputs": [],
   "source": [
    "with open(data_path + \"original_texts.txt\", 'r', encoding='utf-8') as f:\n",
    "    orig_texts = f.read().split('\\n')"
   ]
  },
  {
   "cell_type": "code",
   "execution_count": 5,
   "id": "instrumental-condition",
   "metadata": {},
   "outputs": [],
   "source": [
    "with open(data_path + \"lemmatized_texts_no_nsubj.txt\", 'r', encoding='utf-8') as f:\n",
    "    lemm_texts_no_nsubj = f.read().split('\\n')"
   ]
  },
  {
   "cell_type": "code",
   "execution_count": 6,
   "id": "greatest-chester",
   "metadata": {},
   "outputs": [
    {
     "data": {
      "text/plain": [
       "['tok2vec', 'morphologizer', 'parser', 'ner', 'attribute_ruler', 'lemmatizer']"
      ]
     },
     "execution_count": 6,
     "metadata": {},
     "output_type": "execute_result"
    }
   ],
   "source": [
    "pipeline = nlp.pipe_names.copy()\n",
    "pipeline"
   ]
  },
  {
   "cell_type": "code",
   "execution_count": 7,
   "id": "moving-interview",
   "metadata": {},
   "outputs": [
    {
     "data": {
      "text/plain": [
       "['ner', 'attribute_ruler', 'lemmatizer']"
      ]
     },
     "execution_count": 7,
     "metadata": {},
     "output_type": "execute_result"
    }
   ],
   "source": [
    "pipeline.remove('parser')\n",
    "pipeline.remove('tok2vec')\n",
    "pipeline.remove('morphologizer')\n",
    "pipeline"
   ]
  },
  {
   "cell_type": "markdown",
   "id": "guilty-imagination",
   "metadata": {},
   "source": [
    "### Построение csv-файла с необходимыми признаками"
   ]
  },
  {
   "cell_type": "code",
   "execution_count": 8,
   "id": "continuing-workstation",
   "metadata": {},
   "outputs": [],
   "source": [
    "total = []\n",
    "\n",
    "for i, text in tqdm(enumerate((nlp.pipe(orig_texts, disable=pipeline)))):\n",
    "    for token in text:\n",
    "        if token.dep_ == 'nsubj':\n",
    "            morphology = token.morph.to_dict()\n",
    "            total.append({\n",
    "                'orig_texts': orig_texts[i],\n",
    "                'lemm_texts_no_nsubj': lemm_texts_no_nsubj[i],\n",
    "                'nsubj': token.text,\n",
    "                'number': morphology.get('Number', 'Sing'),\n",
    "                'gender': morphology.get('Gender', 'Masc'),\n",
    "                'verb_tense': token.head.morph.to_dict().get('Tense', 'Pres')\n",
    "            })\n",
    "            break"
   ]
  },
  {
   "cell_type": "code",
   "execution_count": 275,
   "id": "conceptual-terry",
   "metadata": {},
   "outputs": [
    {
     "name": "stderr",
     "output_type": "stream",
     "text": [
      "100%|██████████████████████████████████████████████████████████████████████| 358502/358502 [00:00<00:00, 435706.28it/s]\n"
     ]
    }
   ],
   "source": [
    "with open(data_path + 'total.csv', 'w', encoding='utf-8') as f:\n",
    "    csv_writer = csv.writer(f, delimiter=',')\n",
    "    csv_writer.writerow(['orig_texts', 'lemm_texts_no_nsubj', 'nsubj', 'number', 'gender', 'tense'])\n",
    "    for item in tqdm(total):\n",
    "        csv_writer.writerow(item.values())"
   ]
  },
  {
   "cell_type": "markdown",
   "id": "surface-cross",
   "metadata": {},
   "source": [
    "### Токенизация предложений"
   ]
  },
  {
   "cell_type": "code",
   "execution_count": 46,
   "id": "clean-kennedy",
   "metadata": {},
   "outputs": [],
   "source": [
    "tokenized_texts = [nltk.tokenize.wordpunct_tokenize(text.lower()) for text in tqdm(lemm_texts_no_nsubj)]"
   ]
  },
  {
   "cell_type": "markdown",
   "id": "literary-cooper",
   "metadata": {},
   "source": [
    "### Определяем класс словаря, в котором каждому токену ставится в соответствие число"
   ]
  },
  {
   "cell_type": "code",
   "execution_count": 44,
   "id": "young-corpus",
   "metadata": {},
   "outputs": [],
   "source": [
    "class Vocab:\n",
    "    def __init__(self, tokens, unk_index):\n",
    "        self._tokens = tokens\n",
    "        self._token_to_id = { token: i for i, token in enumerate(tokens) }\n",
    "        self._unk_index = unk_index\n",
    "        \n",
    "    def __len__(self):\n",
    "        return len(self._tokens)\n",
    "    \n",
    "    def word_to_id(self, word):\n",
    "        return self._token_to_id.get(word, self._unk_index)\n",
    "    \n",
    "    def id_to_word(self, idx):\n",
    "        return self._tokens[idx]"
   ]
  },
  {
   "cell_type": "code",
   "execution_count": null,
   "id": "marked-destination",
   "metadata": {},
   "outputs": [],
   "source": []
  }
 ],
 "metadata": {
  "kernelspec": {
   "display_name": "Python 3",
   "language": "python",
   "name": "python3"
  },
  "language_info": {
   "codemirror_mode": {
    "name": "ipython",
    "version": 3
   },
   "file_extension": ".py",
   "mimetype": "text/x-python",
   "name": "python",
   "nbconvert_exporter": "python",
   "pygments_lexer": "ipython3",
   "version": "3.9.2"
  }
 },
 "nbformat": 4,
 "nbformat_minor": 5
}

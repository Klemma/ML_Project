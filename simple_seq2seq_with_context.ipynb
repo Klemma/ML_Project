{
 "cells": [
  {
   "cell_type": "code",
   "execution_count": 1,
   "metadata": {},
   "outputs": [],
   "source": [
    "RANDOM_STATE = 1"
   ]
  },
  {
   "cell_type": "markdown",
   "metadata": {},
   "source": [
    "## Импорт необходимых зависимостей"
   ]
  },
  {
   "cell_type": "code",
   "execution_count": 2,
   "metadata": {},
   "outputs": [],
   "source": [
    "import pandas as pd\n",
    "import numpy as np\n",
    "import nltk\n",
    "import torch\n",
    "import torch.nn as nn\n",
    "import torch.optim\n",
    "import time\n",
    "import pickle\n",
    "import torch.nn.functional as F\n",
    "\n",
    "from random import random, sample\n",
    "from typing import List\n",
    "from collections import Counter\n",
    "from itertools import chain\n",
    "from functools import reduce\n",
    "from tqdm.auto import tqdm\n",
    "from sklearn import model_selection\n",
    "from torch.utils.data import DataLoader, TensorDataset"
   ]
  },
  {
   "cell_type": "markdown",
   "metadata": {},
   "source": [
    "## Подготовка данных"
   ]
  },
  {
   "cell_type": "code",
   "execution_count": 3,
   "metadata": {},
   "outputs": [],
   "source": [
    "df = pd.read_csv('./data/simple_sentences/processed/dataset.csv')"
   ]
  },
  {
   "cell_type": "code",
   "execution_count": 4,
   "metadata": {},
   "outputs": [
    {
     "data": {
      "text/html": [
       "<div>\n",
       "<style scoped>\n",
       "    .dataframe tbody tr th:only-of-type {\n",
       "        vertical-align: middle;\n",
       "    }\n",
       "\n",
       "    .dataframe tbody tr th {\n",
       "        vertical-align: top;\n",
       "    }\n",
       "\n",
       "    .dataframe thead th {\n",
       "        text-align: right;\n",
       "    }\n",
       "</style>\n",
       "<table border=\"1\" class=\"dataframe\">\n",
       "  <thead>\n",
       "    <tr style=\"text-align: right;\">\n",
       "      <th></th>\n",
       "      <th>lemm_texts</th>\n",
       "      <th>orig_texts</th>\n",
       "      <th>nsubj</th>\n",
       "      <th>gender</th>\n",
       "      <th>tense</th>\n",
       "      <th>number</th>\n",
       "    </tr>\n",
       "  </thead>\n",
       "  <tbody>\n",
       "    <tr>\n",
       "      <th>0</th>\n",
       "      <td>я предлагать оригинальный подарок для малыш!</td>\n",
       "      <td>я предлагаю оригинальный подарок для малыша!</td>\n",
       "      <td>я</td>\n",
       "      <td>undefined</td>\n",
       "      <td>pres</td>\n",
       "      <td>sing</td>\n",
       "    </tr>\n",
       "    <tr>\n",
       "      <th>1</th>\n",
       "      <td>я обезательный перезвонить в любой случай.</td>\n",
       "      <td>я обезательно перезвоню в любом случае.</td>\n",
       "      <td>я</td>\n",
       "      <td>undefined</td>\n",
       "      <td>fut</td>\n",
       "      <td>sing</td>\n",
       "    </tr>\n",
       "    <tr>\n",
       "      <th>2</th>\n",
       "      <td>цена на память я не помнить.</td>\n",
       "      <td>цены на память я не помню.</td>\n",
       "      <td>я</td>\n",
       "      <td>undefined</td>\n",
       "      <td>pres</td>\n",
       "      <td>sing</td>\n",
       "    </tr>\n",
       "    <tr>\n",
       "      <th>3</th>\n",
       "      <td>я не помнить , где находиться.</td>\n",
       "      <td>я не помню, где находились.</td>\n",
       "      <td>я</td>\n",
       "      <td>undefined</td>\n",
       "      <td>pres</td>\n",
       "      <td>sing</td>\n",
       "    </tr>\n",
       "    <tr>\n",
       "      <th>4</th>\n",
       "      <td>я работать на высококачественный американский ...</td>\n",
       "      <td>я работаю на высококачественных американских м...</td>\n",
       "      <td>я</td>\n",
       "      <td>undefined</td>\n",
       "      <td>pres</td>\n",
       "      <td>sing</td>\n",
       "    </tr>\n",
       "    <tr>\n",
       "      <th>...</th>\n",
       "      <td>...</td>\n",
       "      <td>...</td>\n",
       "      <td>...</td>\n",
       "      <td>...</td>\n",
       "      <td>...</td>\n",
       "      <td>...</td>\n",
       "    </tr>\n",
       "    <tr>\n",
       "      <th>356967</th>\n",
       "      <td>другой ящерица медленно подбрести к свой товарка.</td>\n",
       "      <td>другая ящерица медленно подбрела к своей товарке.</td>\n",
       "      <td>ящерица</td>\n",
       "      <td>fem</td>\n",
       "      <td>past</td>\n",
       "      <td>sing</td>\n",
       "    </tr>\n",
       "    <tr>\n",
       "      <th>356968</th>\n",
       "      <td>зелёный ящерица застылый на мраморный ступень.</td>\n",
       "      <td>зеленая ящерица застыла на мраморной ступени.</td>\n",
       "      <td>ящерица</td>\n",
       "      <td>fem</td>\n",
       "      <td>past</td>\n",
       "      <td>sing</td>\n",
       "    </tr>\n",
       "    <tr>\n",
       "      <th>356969</th>\n",
       "      <td>больший ящерица шмыгнуть по песок.</td>\n",
       "      <td>большая ящерица шмыгнула по песку.</td>\n",
       "      <td>ящерица</td>\n",
       "      <td>fem</td>\n",
       "      <td>past</td>\n",
       "      <td>sing</td>\n",
       "    </tr>\n",
       "    <tr>\n",
       "      <th>356970</th>\n",
       "      <td>домашний ящерица быстро пробежать вдоль штора.</td>\n",
       "      <td>домашняя ящерица быстро пробежала вдоль штор.</td>\n",
       "      <td>ящерица</td>\n",
       "      <td>fem</td>\n",
       "      <td>past</td>\n",
       "      <td>sing</td>\n",
       "    </tr>\n",
       "    <tr>\n",
       "      <th>356971</th>\n",
       "      <td>крошечный ящерка сбежать с валун.</td>\n",
       "      <td>крошечная ящерка сбежала с валуна.</td>\n",
       "      <td>ящерка</td>\n",
       "      <td>fem</td>\n",
       "      <td>past</td>\n",
       "      <td>sing</td>\n",
       "    </tr>\n",
       "  </tbody>\n",
       "</table>\n",
       "<p>356972 rows × 6 columns</p>\n",
       "</div>"
      ],
      "text/plain": [
       "                                               lemm_texts  \\\n",
       "0            я предлагать оригинальный подарок для малыш!   \n",
       "1              я обезательный перезвонить в любой случай.   \n",
       "2                            цена на память я не помнить.   \n",
       "3                          я не помнить , где находиться.   \n",
       "4       я работать на высококачественный американский ...   \n",
       "...                                                   ...   \n",
       "356967  другой ящерица медленно подбрести к свой товарка.   \n",
       "356968     зелёный ящерица застылый на мраморный ступень.   \n",
       "356969                 больший ящерица шмыгнуть по песок.   \n",
       "356970     домашний ящерица быстро пробежать вдоль штора.   \n",
       "356971                  крошечный ящерка сбежать с валун.   \n",
       "\n",
       "                                               orig_texts    nsubj     gender  \\\n",
       "0            я предлагаю оригинальный подарок для малыша!        я  undefined   \n",
       "1                 я обезательно перезвоню в любом случае.        я  undefined   \n",
       "2                              цены на память я не помню.        я  undefined   \n",
       "3                             я не помню, где находились.        я  undefined   \n",
       "4       я работаю на высококачественных американских м...        я  undefined   \n",
       "...                                                   ...      ...        ...   \n",
       "356967  другая ящерица медленно подбрела к своей товарке.  ящерица        fem   \n",
       "356968      зеленая ящерица застыла на мраморной ступени.  ящерица        fem   \n",
       "356969                 большая ящерица шмыгнула по песку.  ящерица        fem   \n",
       "356970      домашняя ящерица быстро пробежала вдоль штор.  ящерица        fem   \n",
       "356971                 крошечная ящерка сбежала с валуна.   ящерка        fem   \n",
       "\n",
       "       tense number  \n",
       "0       pres   sing  \n",
       "1        fut   sing  \n",
       "2       pres   sing  \n",
       "3       pres   sing  \n",
       "4       pres   sing  \n",
       "...      ...    ...  \n",
       "356967  past   sing  \n",
       "356968  past   sing  \n",
       "356969  past   sing  \n",
       "356970  past   sing  \n",
       "356971  past   sing  \n",
       "\n",
       "[356972 rows x 6 columns]"
      ]
     },
     "execution_count": 4,
     "metadata": {},
     "output_type": "execute_result"
    }
   ],
   "source": [
    "df"
   ]
  },
  {
   "cell_type": "markdown",
   "metadata": {},
   "source": [
    "### Определение классов словаря и трансформера текста"
   ]
  },
  {
   "cell_type": "code",
   "execution_count": 5,
   "metadata": {},
   "outputs": [],
   "source": [
    "class Vocab:\n",
    "    def __init__(self, tokens: List[str], unk_idx: int):\n",
    "        self._tokens = tokens\n",
    "        self._token_to_idx = {token: idx for idx, token in enumerate(tokens)}\n",
    "        self._unk_idx = unk_idx\n",
    "        \n",
    "    def token_to_idx(self, token: str) -> int:\n",
    "        return self._token_to_idx.get(token, self._unk_idx)\n",
    "    \n",
    "    def idx_to_token(self, idx: int) -> str:\n",
    "        return self._tokens[idx]"
   ]
  },
  {
   "cell_type": "code",
   "execution_count": 6,
   "metadata": {},
   "outputs": [],
   "source": [
    "class TextTransformer:\n",
    "    def __init__(self, vocab_size: int):\n",
    "        self.vocab = None\n",
    "        self.vocab_size = vocab_size\n",
    "        self.special_tokens_to_idx = {'<UNK>': 0, '<PAD>': 1, '<SOS>': 2, '<EOS>': 3}\n",
    "        self._tokenizer = nltk.tokenize.wordpunct_tokenize\n",
    "    \n",
    "    def tokenize(self, text) -> List[str]:\n",
    "        return self._tokenizer(text.lower())\n",
    "    \n",
    "    def set_vocab(self, vocab: Vocab):\n",
    "        self.vocab = vocab\n",
    "        self.vocab_size = len(vocab)\n",
    "    \n",
    "    def build_vocab(self, tokens: List[str]):\n",
    "        tokens_ = [special_token for special_token in self.special_tokens_to_idx.keys()]\n",
    "        special_tokens_amount = len(self.special_tokens_to_idx)\n",
    "        \n",
    "        for token, _ in Counter(tokens).most_common(self.vocab_size - special_tokens_amount):\n",
    "            tokens_.append(token)\n",
    "        \n",
    "        unk_idx = self.special_tokens_to_idx.get('<UNK>')\n",
    "        self.vocab = Vocab(tokens_, unk_idx)\n",
    "        \n",
    "    def transform_text(self, text: str) -> List[int]:\n",
    "        tokenized_text = self.tokenize(text)\n",
    "        transformed = [self.vocab.token_to_idx(token) for token in tokenized_text]\n",
    "        return transformed\n",
    "    \n",
    "    def fit(self, texts: List[str]) -> None:\n",
    "        transformed_texts = []\n",
    "        \n",
    "        tokenized_texts = [self.tokenize(text) for text in tqdm(texts, 'Tokenizing texts')]\n",
    "        tokens = chain(*tokenized_texts)\n",
    "        self.build_vocab(tokens)\n",
    "        \n",
    "        for tokenized_text in tqdm(tokenized_texts, 'Transforming texts'):\n",
    "            transformed = [self.vocab.token_to_idx(token) for token in tokenized_text]\n",
    "            transformed_texts.append(transformed)\n",
    "    \n",
    "    def transform_texts(self, texts: List[str]) -> List[List[int]]:\n",
    "        transformed_texts = [transform_text(text) for text in tqdm(texts, 'Transforming texts')]\n",
    "        return transformed_texts\n",
    "    \n",
    "    def text_to_tensor(self, text: str, max_seq_len=8) -> torch.tensor:\n",
    "        transformed_text = self.transform_text(text)\n",
    "        pad_idx = self.special_tokens_to_idx.get('<PAD>')\n",
    "        sos_idx = self.special_tokens_to_idx.get('<SOS>')\n",
    "        eos_idx = self.special_tokens_to_idx.get('<EOS>')\n",
    "        \n",
    "        pad_size = 0\n",
    "        if len(transformed_text) >= max_seq_len:\n",
    "            transformed_text = transformed_text[:max_seq_len]\n",
    "        else:\n",
    "            pad_size = max_seq_len - len(transformed_text)\n",
    "            transformed_text.extend([pad_idx] * pad_size)   \n",
    "        transformed_text.insert(0, sos_idx)\n",
    "        transformed_text.insert(len(transformed_text) - pad_size, eos_idx)\n",
    "        \n",
    "        tensor = torch.tensor(transformed_text, dtype=torch.long)\n",
    "        return tensor.unsqueeze(0)\n",
    "    \n",
    "    def texts_to_tensor(self, texts: List[str], max_seq_len=8) -> torch.tensor:\n",
    "        pad_idx = self.special_tokens_to_idx.get('<PAD>')\n",
    "        sos_idx = self.special_tokens_to_idx.get('<SOS>')\n",
    "        eos_idx = self.special_tokens_to_idx.get('<EOS>')\n",
    "        transformed_texts = []\n",
    "        \n",
    "        for text in tqdm(texts, 'Building tensor'):\n",
    "            transformed_text = self.transform_text(text)\n",
    "            pad_size = 0\n",
    "            if len(transformed_text) >= max_seq_len:\n",
    "                transformed_text = transformed_text[:max_seq_len]\n",
    "            else:\n",
    "                pad_size = max_seq_len - len(transformed_text)\n",
    "                transformed_text.extend([pad_idx] * pad_size)   \n",
    "            transformed_text.insert(0, sos_idx)\n",
    "            transformed_text.insert(len(transformed_text) - pad_size, eos_idx)\n",
    "            transformed_texts.append(transformed_text)\n",
    "        \n",
    "        tensor = torch.tensor(transformed_texts, dtype=torch.long).permute(1, 0)\n",
    "        return tensor"
   ]
  },
  {
   "cell_type": "markdown",
   "metadata": {},
   "source": [
    "### Разбиение данных на обучающую, тестовую и валидационную выборки"
   ]
  },
  {
   "cell_type": "code",
   "execution_count": 7,
   "metadata": {},
   "outputs": [],
   "source": [
    "train_df, test_df = model_selection.train_test_split(df, test_size=0.1, random_state=RANDOM_STATE)"
   ]
  },
  {
   "cell_type": "code",
   "execution_count": 8,
   "metadata": {},
   "outputs": [],
   "source": [
    "test_df, val_df = model_selection.train_test_split(test_df, test_size=0.25, random_state=RANDOM_STATE)"
   ]
  },
  {
   "cell_type": "markdown",
   "metadata": {},
   "source": [
    "### Токенизация текстов и индексация токенов"
   ]
  },
  {
   "cell_type": "code",
   "execution_count": 9,
   "metadata": {},
   "outputs": [],
   "source": [
    "lemm_vocab_size = 35000\n",
    "orig_vocab_size = 75000"
   ]
  },
  {
   "cell_type": "code",
   "execution_count": 10,
   "metadata": {},
   "outputs": [],
   "source": [
    "lemm_text_transformer = TextTransformer(lemm_vocab_size)\n",
    "orig_text_transformer = TextTransformer(orig_vocab_size)"
   ]
  },
  {
   "cell_type": "code",
   "execution_count": 11,
   "metadata": {},
   "outputs": [
    {
     "data": {
      "application/vnd.jupyter.widget-view+json": {
       "model_id": "c8b5669f2557462ab8dd8733d37902b0",
       "version_major": 2,
       "version_minor": 0
      },
      "text/plain": [
       "Tokenizing texts:   0%|          | 0/321274 [00:00<?, ?it/s]"
      ]
     },
     "metadata": {},
     "output_type": "display_data"
    },
    {
     "data": {
      "application/vnd.jupyter.widget-view+json": {
       "model_id": "984606850f5940ec92310cdaba1439d2",
       "version_major": 2,
       "version_minor": 0
      },
      "text/plain": [
       "Transforming texts:   0%|          | 0/321274 [00:00<?, ?it/s]"
      ]
     },
     "metadata": {},
     "output_type": "display_data"
    }
   ],
   "source": [
    "lemm_text_transformer.fit(train_df.lemm_texts)"
   ]
  },
  {
   "cell_type": "code",
   "execution_count": 12,
   "metadata": {},
   "outputs": [
    {
     "data": {
      "application/vnd.jupyter.widget-view+json": {
       "model_id": "c6123c92ffa448a8acad4ca8cf495b85",
       "version_major": 2,
       "version_minor": 0
      },
      "text/plain": [
       "Tokenizing texts:   0%|          | 0/321274 [00:00<?, ?it/s]"
      ]
     },
     "metadata": {},
     "output_type": "display_data"
    },
    {
     "data": {
      "application/vnd.jupyter.widget-view+json": {
       "model_id": "3ffc2cca7f7e46f988f30a3fe6f02bef",
       "version_major": 2,
       "version_minor": 0
      },
      "text/plain": [
       "Transforming texts:   0%|          | 0/321274 [00:00<?, ?it/s]"
      ]
     },
     "metadata": {},
     "output_type": "display_data"
    }
   ],
   "source": [
    "orig_text_transformer.fit(train_df.orig_texts)"
   ]
  },
  {
   "cell_type": "markdown",
   "metadata": {},
   "source": [
    "### Перевод данных в тензоры"
   ]
  },
  {
   "cell_type": "code",
   "execution_count": 13,
   "metadata": {},
   "outputs": [
    {
     "data": {
      "application/vnd.jupyter.widget-view+json": {
       "model_id": "35251ec76ea54b80a2e60ddbedcadf2e",
       "version_major": 2,
       "version_minor": 0
      },
      "text/plain": [
       "Building tensor:   0%|          | 0/321274 [00:00<?, ?it/s]"
      ]
     },
     "metadata": {},
     "output_type": "display_data"
    },
    {
     "data": {
      "application/vnd.jupyter.widget-view+json": {
       "model_id": "cc1a8f79cc18446b8a331895fa439e19",
       "version_major": 2,
       "version_minor": 0
      },
      "text/plain": [
       "Building tensor:   0%|          | 0/26773 [00:00<?, ?it/s]"
      ]
     },
     "metadata": {},
     "output_type": "display_data"
    },
    {
     "data": {
      "application/vnd.jupyter.widget-view+json": {
       "model_id": "9249064d4b08443eab24e3c3809fd850",
       "version_major": 2,
       "version_minor": 0
      },
      "text/plain": [
       "Building tensor:   0%|          | 0/8925 [00:00<?, ?it/s]"
      ]
     },
     "metadata": {},
     "output_type": "display_data"
    }
   ],
   "source": [
    "train_lemm_tensor = lemm_text_transformer.texts_to_tensor(train_df.lemm_texts.to_list())\n",
    "test_lemm_tensor = lemm_text_transformer.texts_to_tensor(test_df.lemm_texts.to_list())\n",
    "val_lemm_tensor = lemm_text_transformer.texts_to_tensor(val_df.lemm_texts.to_list())"
   ]
  },
  {
   "cell_type": "code",
   "execution_count": 14,
   "metadata": {},
   "outputs": [
    {
     "data": {
      "application/vnd.jupyter.widget-view+json": {
       "model_id": "adda9474c1754adba1ae9bd8bf92fdbf",
       "version_major": 2,
       "version_minor": 0
      },
      "text/plain": [
       "Building tensor:   0%|          | 0/321274 [00:00<?, ?it/s]"
      ]
     },
     "metadata": {},
     "output_type": "display_data"
    },
    {
     "data": {
      "application/vnd.jupyter.widget-view+json": {
       "model_id": "c2a602f06e814904847f759a4b3775b2",
       "version_major": 2,
       "version_minor": 0
      },
      "text/plain": [
       "Building tensor:   0%|          | 0/26773 [00:00<?, ?it/s]"
      ]
     },
     "metadata": {},
     "output_type": "display_data"
    },
    {
     "data": {
      "application/vnd.jupyter.widget-view+json": {
       "model_id": "1e8d82c80c61446ebcb6b8fc8b57932b",
       "version_major": 2,
       "version_minor": 0
      },
      "text/plain": [
       "Building tensor:   0%|          | 0/8925 [00:00<?, ?it/s]"
      ]
     },
     "metadata": {},
     "output_type": "display_data"
    }
   ],
   "source": [
    "train_orig_tensor = orig_text_transformer.texts_to_tensor(train_df.orig_texts.to_list())\n",
    "test_orig_tensor = orig_text_transformer.texts_to_tensor(test_df.orig_texts.to_list())\n",
    "val_orig_tensor = orig_text_transformer.texts_to_tensor(val_df.orig_texts.to_list())"
   ]
  },
  {
   "cell_type": "code",
   "execution_count": 15,
   "metadata": {},
   "outputs": [],
   "source": [
    "def transform_context(df, df_type: str):\n",
    "    gender_rows = pd.get_dummies(df.gender).iterrows()\n",
    "    tense_rows = pd.get_dummies(df.tense).iterrows()\n",
    "    nsubj_to_idx = orig_text_transformer.vocab.token_to_idx\n",
    "    \n",
    "    transformed_genders = [row[1].to_list() for row in tqdm(gender_rows, f'Transforming genders ({df_type})')]\n",
    "    transformed_tenses = [row[1].to_list() for row in tqdm(tense_rows, f'Transforming tenses ({df_type})')]\n",
    "    transformed_nsubjes = [nsubj_to_idx(nsubj) for nsubj in tqdm(df.nsubj, f'Transforming nsubjes ({df_type})')]\n",
    "    \n",
    "    context = [transformed_nsubjes, transformed_genders, transformed_tenses]\n",
    "    return context"
   ]
  },
  {
   "cell_type": "code",
   "execution_count": 16,
   "metadata": {},
   "outputs": [
    {
     "data": {
      "application/vnd.jupyter.widget-view+json": {
       "model_id": "e7b3fbbfba674fb4b7544299e4b75d82",
       "version_major": 2,
       "version_minor": 0
      },
      "text/plain": [
       "Transforming genders (train): 0it [00:00, ?it/s]"
      ]
     },
     "metadata": {},
     "output_type": "display_data"
    },
    {
     "data": {
      "application/vnd.jupyter.widget-view+json": {
       "model_id": "341ec3fe4a2646c8858ae7f73513a51e",
       "version_major": 2,
       "version_minor": 0
      },
      "text/plain": [
       "Transforming tenses (train): 0it [00:00, ?it/s]"
      ]
     },
     "metadata": {},
     "output_type": "display_data"
    },
    {
     "data": {
      "application/vnd.jupyter.widget-view+json": {
       "model_id": "12cd91e0208a456c832002411bd9e5c8",
       "version_major": 2,
       "version_minor": 0
      },
      "text/plain": [
       "Transforming nsubjes (train):   0%|          | 0/321274 [00:00<?, ?it/s]"
      ]
     },
     "metadata": {},
     "output_type": "display_data"
    },
    {
     "data": {
      "application/vnd.jupyter.widget-view+json": {
       "model_id": "3a5407152b8e4c7d80b7698845b7b720",
       "version_major": 2,
       "version_minor": 0
      },
      "text/plain": [
       "Transforming genders (test): 0it [00:00, ?it/s]"
      ]
     },
     "metadata": {},
     "output_type": "display_data"
    },
    {
     "data": {
      "application/vnd.jupyter.widget-view+json": {
       "model_id": "f4e9f38ce9524241aafbc382feddd665",
       "version_major": 2,
       "version_minor": 0
      },
      "text/plain": [
       "Transforming tenses (test): 0it [00:00, ?it/s]"
      ]
     },
     "metadata": {},
     "output_type": "display_data"
    },
    {
     "data": {
      "application/vnd.jupyter.widget-view+json": {
       "model_id": "a6e1d6b8085a427389059e1c7dc06264",
       "version_major": 2,
       "version_minor": 0
      },
      "text/plain": [
       "Transforming nsubjes (test):   0%|          | 0/26773 [00:00<?, ?it/s]"
      ]
     },
     "metadata": {},
     "output_type": "display_data"
    },
    {
     "data": {
      "application/vnd.jupyter.widget-view+json": {
       "model_id": "bfecb9d3709a4a368688b18a951d5a0b",
       "version_major": 2,
       "version_minor": 0
      },
      "text/plain": [
       "Transforming genders (validation): 0it [00:00, ?it/s]"
      ]
     },
     "metadata": {},
     "output_type": "display_data"
    },
    {
     "data": {
      "application/vnd.jupyter.widget-view+json": {
       "model_id": "dc4317a108374b1abeb0ce9931795dac",
       "version_major": 2,
       "version_minor": 0
      },
      "text/plain": [
       "Transforming tenses (validation): 0it [00:00, ?it/s]"
      ]
     },
     "metadata": {},
     "output_type": "display_data"
    },
    {
     "data": {
      "application/vnd.jupyter.widget-view+json": {
       "model_id": "c60c3d74da7a460e998337bd9aed5bb9",
       "version_major": 2,
       "version_minor": 0
      },
      "text/plain": [
       "Transforming nsubjes (validation):   0%|          | 0/8925 [00:00<?, ?it/s]"
      ]
     },
     "metadata": {},
     "output_type": "display_data"
    }
   ],
   "source": [
    "train_context = transform_context(train_df, 'train')\n",
    "test_context = transform_context(test_df, 'test')\n",
    "val_context = transform_context(val_df, 'validation')"
   ]
  },
  {
   "cell_type": "code",
   "execution_count": 17,
   "metadata": {},
   "outputs": [],
   "source": [
    "def context_to_tensors(nsubj_list, gender_list, tense_list):\n",
    "    nsubj_tensor = torch.tensor(nsubj_list)\n",
    "    gender_tensor = torch.tensor(gender_list, dtype=torch.float32)\n",
    "    tense_tensor = torch.tensor(tense_list, dtype=torch.float32)\n",
    "    \n",
    "    context_tensors = [nsubj_tensor, gender_tensor, tense_tensor]\n",
    "    return context_tensors"
   ]
  },
  {
   "cell_type": "code",
   "execution_count": 18,
   "metadata": {},
   "outputs": [],
   "source": [
    "train_context_tensors = context_to_tensors(*train_context)\n",
    "test_context_tensors = context_to_tensors(*test_context)\n",
    "val_context_tensors = context_to_tensors(*val_context)"
   ]
  },
  {
   "cell_type": "code",
   "execution_count": 19,
   "metadata": {},
   "outputs": [],
   "source": [
    "def cut_to_fit_batch(tensor: torch.Tensor, batch_size: int):\n",
    "    n_samples = tensor.shape[1]\n",
    "    new_n_samples = (n_samples // batch_size) * batch_size\n",
    "    result, _ = tensor.split(new_n_samples, dim=1)\n",
    "    return torch.transpose(result, 1, 0)"
   ]
  },
  {
   "cell_type": "markdown",
   "metadata": {},
   "source": [
    "## Построение модели"
   ]
  },
  {
   "cell_type": "code",
   "execution_count": 20,
   "metadata": {},
   "outputs": [],
   "source": [
    "class ContextMem(nn.Module):\n",
    "    def __init__(self, input_size, hidden_size, output_size, nsubj_embedding_size, device):\n",
    "        super(ContextMem, self).__init__()\n",
    "        \n",
    "        self.device = device\n",
    "        \n",
    "        self.gender_proj = nn.Linear(input_size, hidden_size, bias=False)\n",
    "        self.tense_proj = nn.Linear(input_size, hidden_size, bias=False)\n",
    "        self.fc_out = nn.Linear(hidden_size * 2 + nsubj_embedding_size, output_size, bias=False)\n",
    "        \n",
    "    def forward(self, nsubj_embedding, gender, tense):\n",
    "        # nsubj_embedding_shape: (batch_size, embedding_size)\n",
    "        # gender_shape: (batch_size, input_size)\n",
    "        # tense_shape: (batch_size, input_size)\n",
    "        \n",
    "        gender = self.gender_proj(gender)\n",
    "        # gender_shape: (batch_size, hidden_size)\n",
    "        \n",
    "        tense = self.tense_proj(tense)\n",
    "        # tense_shape: (batch_size, hidden_size)    \n",
    "        \n",
    "        context = torch.cat([nsubj_embedding, gender, tense], dim=1)\n",
    "        # context_shape: (batch_size, hidden_size * 2 + embedding_size) \n",
    "        \n",
    "        context = self.fc_out(context)\n",
    "        # context_shape: (batch_size, output_size)\n",
    "        \n",
    "        return context"
   ]
  },
  {
   "cell_type": "code",
   "execution_count": 21,
   "metadata": {},
   "outputs": [],
   "source": [
    "class EncoderRNN(nn.Module):\n",
    "    def __init__(self,\n",
    "                 vocab_size, embedding_size, hidden_size,\n",
    "                 pad_idx, device, num_layers, dropout_p):\n",
    "        \n",
    "        super(EncoderRNN, self).__init__()\n",
    "        \n",
    "        self.device = device\n",
    "        self.num_layers = num_layers\n",
    "        \n",
    "        self.hidden_size = hidden_size\n",
    "        \n",
    "        self.embedding = nn.Sequential(\n",
    "            nn.Embedding(vocab_size, embedding_size, pad_idx),\n",
    "            nn.Dropout(dropout_p)\n",
    "        )\n",
    "        self.lstm = nn.LSTM(embedding_size, hidden_size, num_layers, dropout=dropout_p)\n",
    "        \n",
    "    def forward(self, x, hidden, cell):\n",
    "        # x_shape: (seq_len, batch_size)\n",
    "        embedding = self.embedding(x)\n",
    "        # embedding_shape: (seq_len, batch_size, embedding_size)\n",
    "        output, (hidden, cell) = self.lstm(embedding, (hidden, cell))\n",
    "        # output_shape: (seq_len, batch_size, hidden_size)\n",
    "        # hidden_shape: (num_layers, batch_size, hidden_size)\n",
    "        # cell_shape: (num_layers, batch_size, hidden_size)\n",
    "        return hidden, cell"
   ]
  },
  {
   "cell_type": "code",
   "execution_count": 22,
   "metadata": {},
   "outputs": [],
   "source": [
    "class DecoderRNN(nn.Module):\n",
    "    def __init__(self,\n",
    "                 vocab_size, embedding_size, hidden_size, output_size,\n",
    "                 pad_idx, device, num_layers, dropout_p):\n",
    "        \n",
    "        super(DecoderRNN, self).__init__()\n",
    "        \n",
    "        self.device = device\n",
    "        \n",
    "        self.hidden_size = hidden_size\n",
    "        self.num_layers = num_layers\n",
    "        \n",
    "        self.embedding = nn.Sequential(\n",
    "            nn.Embedding(vocab_size, embedding_size, pad_idx),\n",
    "            nn.Dropout(dropout_p)\n",
    "        )\n",
    "        self.lstm = nn.LSTM(embedding_size, hidden_size, num_layers, dropout=dropout_p)\n",
    "        self.fc = nn.Linear(hidden_size, output_size)\n",
    "        \n",
    "    def forward(self, x, hidden, cell):\n",
    "        x = x.unsqueeze(0)\n",
    "        # x_shape:      (seq_len=1, batch_size)\n",
    "        # hidden_shape: (num_layers, batch_size, hidden_size)\n",
    "        # cell_shape:   (num_layers, batch_size, hidden_size)\n",
    "        \n",
    "        embedding = self.embedding(x)\n",
    "        # embedding_shape: (seq_len=1, batch_size, embedding_size)\n",
    "        \n",
    "        lstm_out, (hidden, cell) = self.lstm(embedding, (hidden, cell))\n",
    "        # lstm_out_shape: (seq_len=1, batch_size, hidden_size)\n",
    "        \n",
    "        fc_out = self.fc(lstm_out)\n",
    "        # fc_out_shape: (seq_len=1, batch_size, output_size)\n",
    "        # output_shape: (seq_len=1, batch_size, output_size)\n",
    "        \n",
    "        return fc_out, hidden, cell"
   ]
  },
  {
   "cell_type": "code",
   "execution_count": 23,
   "metadata": {},
   "outputs": [],
   "source": [
    "class Seq2SeqModel(nn.Module):\n",
    "    def __init__(self,\n",
    "                 encoder_vocab_size, decoder_vocab_size,\n",
    "                 embedding_size, hidden_size, output_size,\n",
    "                 context_input_size, context_hidden_size, context_output_size,\n",
    "                 pad_idx, device, num_layers, dropout_p):\n",
    "        \n",
    "        super(Seq2SeqModel, self).__init__()\n",
    "        \n",
    "        self.device = device\n",
    "        \n",
    "        self.num_layers = num_layers\n",
    "        self.decoder_vocab_size = decoder_vocab_size\n",
    "        \n",
    "        self.context_mem = ContextMem(context_input_size, context_hidden_size, context_output_size, embedding_size, device).to(device)\n",
    "        self.encoder = EncoderRNN(encoder_vocab_size, embedding_size, hidden_size, pad_idx, device, num_layers, dropout_p).to(device)\n",
    "        self.decoder = DecoderRNN(decoder_vocab_size, embedding_size, hidden_size, output_size, pad_idx, device, num_layers, dropout_p).to(device)\n",
    "        \n",
    "    def forward(self, input, target, context, teacher_forcing_ratio=0.5):\n",
    "        batch_size = input.shape[1]\n",
    "        target_len = target.shape[0]\n",
    "        target_vocab_size = self.decoder_vocab_size\n",
    "        \n",
    "        outputs = torch.zeros(target_len, batch_size, target_vocab_size, device=self.device)\n",
    "\n",
    "        nsubj, gender, tense = context\n",
    "        # nsubj_shape:  (batch_size)\n",
    "        # gender_shape: (batch_size, context_input_size)\n",
    "        # tense_shape:  (batch_size, context_input_size)\n",
    "        \n",
    "        nsubj_embedding = self.decoder.embedding(nsubj).squeeze(0)\n",
    "        # nsubj_embedding_shape: (batch_size, embedding_size)\n",
    "        \n",
    "        hidden = self.context_mem(nsubj_embedding, gender, tense)\n",
    "        cell = hidden.clone()\n",
    "        # hidden, cell shapes: (batch_size, context_output_size=hidden_size)\n",
    "        \n",
    "        if self.num_layers == 1:\n",
    "            hidden.unsqueeze_(0)\n",
    "            cell.unsqueeze_(0)\n",
    "            # hidden, cell shapes: (1, batch_size, context_output_size=hidden_size)\n",
    "        else:\n",
    "            hidden = torch.cat([hidden.unsqueeze(0)] * self.num_layers, 0)\n",
    "            cell = torch.cat([cell.unsqueeze(0)] * self.num_layers, 0)\n",
    "            # hidden, cell shapes: (num_layers, batch_size, context_output_size=hidden_size)\n",
    "        \n",
    "        hidden, cell = self.encoder(input, hidden, cell)\n",
    "        # hidden, cell shapes: (num_layers, batch_size, hidden_size)\n",
    "        \n",
    "        prev_token_idx = target[0]\n",
    "        # prev_token_shape: (batch_size)\n",
    "        \n",
    "        for t in range(1, target_len):\n",
    "            output, hidden, cell = self.decoder(prev_token_idx, hidden, cell)\n",
    "            outputs[t] = output.squeeze(0)\n",
    "            \n",
    "            best_prediction = outputs[t].argmax(dim=1)\n",
    "            # best_prediction_shape: (batch_size)\n",
    "            prev_token_idx = target[t] if random() < teacher_forcing_ratio else best_prediction\n",
    "        \n",
    "        return outputs"
   ]
  },
  {
   "cell_type": "markdown",
   "metadata": {},
   "source": [
    "## Обучение модели"
   ]
  },
  {
   "cell_type": "markdown",
   "metadata": {},
   "source": [
    "### Функция сохранения текущего состояния модели"
   ]
  },
  {
   "cell_type": "code",
   "execution_count": 24,
   "metadata": {},
   "outputs": [],
   "source": [
    "def save_model(model: Seq2SeqModel, optimizer, epoch, path):\n",
    "    checkpoint = {\n",
    "        'model_state_dict'    : model.state_dict(),\n",
    "        'optimizer_state_dict': optimizer.state_dict(),\n",
    "        'criterion'           : criterion,\n",
    "        'epoch'               : epoch\n",
    "#         'lemm_vocab': lemm_text_transformer.vocab,\n",
    "#         'orig_vocab': orig_text_transformer.vocab,\n",
    "        \n",
    "    }\n",
    "    \n",
    "    torch.save(checkpoint, path)\n",
    "#     with open(path, mode='wb') as f:\n",
    "#         pickle.dump(checkpoint, f)"
   ]
  },
  {
   "cell_type": "markdown",
   "metadata": {},
   "source": [
    "### Функция загрузки уже тренировавшейся модели"
   ]
  },
  {
   "cell_type": "code",
   "execution_count": 25,
   "metadata": {},
   "outputs": [],
   "source": [
    "def load_model(model: Seq2SeqModel, optimizer, criterion, path, device=torch.device('cpu'), for_inference=True):\n",
    "#     with open(path, mode='rb') as f:\n",
    "#         checkpoint = pickle.load(f)\n",
    "    checkpoint = torch.load(path, map_location=device)\n",
    "    \n",
    "    model.load_state_dict(checkpoint['model_state_dict'])\n",
    "#     lemm_text_transformer.set_vocab(checkpoint['lemm_vocab'])\n",
    "#     orig_text_transformer.set_vocab(checkpoint['orig_vocab'])\n",
    "    if not for_inference:\n",
    "        optimizer.load_state_dict(checkpoint['optimizer_state_dict'])\n",
    "        epoch = checkpoint['epoch']\n",
    "        criterion = checkpoint['criterion']\n",
    "\n",
    "        return epoch"
   ]
  },
  {
   "cell_type": "markdown",
   "metadata": {},
   "source": [
    "### Инициализация гиперпараметров"
   ]
  },
  {
   "cell_type": "code",
   "execution_count": 26,
   "metadata": {},
   "outputs": [],
   "source": [
    "learning_rate = 0.001\n",
    "batch_size = 256\n",
    "epochs_amount = 8\n",
    "lemm_vocab_size = 35000\n",
    "orig_vocab_size = 75000\n",
    "hidden_size = 512\n",
    "embedding_size = 300\n",
    "num_layers = 2\n",
    "max_norm = 1.0\n",
    "dropout_p = 0.5\n",
    "context_input_size = 4\n",
    "context_hidden_size = 256\n",
    "context_output_size = hidden_size\n",
    "patience = 2\n",
    "output_size = orig_vocab_size\n",
    "pad_idx = lemm_text_transformer.special_tokens_to_idx.get('<PAD>')\n",
    "model_path = './models/'\n",
    "model_name = 'simple_seq2seq_with_context.model'"
   ]
  },
  {
   "cell_type": "code",
   "execution_count": 27,
   "metadata": {},
   "outputs": [],
   "source": [
    "device = torch.device(\"cuda\" if torch.cuda.is_available() else \"cpu\")"
   ]
  },
  {
   "cell_type": "code",
   "execution_count": 28,
   "metadata": {},
   "outputs": [],
   "source": [
    "model = Seq2SeqModel(lemm_vocab_size, orig_vocab_size, embedding_size, hidden_size, output_size,\n",
    "                     context_input_size, context_hidden_size, context_output_size,\n",
    "                     pad_idx, device, num_layers, dropout_p).to(device)"
   ]
  },
  {
   "cell_type": "code",
   "execution_count": 29,
   "metadata": {},
   "outputs": [],
   "source": [
    "optimizer = torch.optim.Adam(model.parameters(), lr=learning_rate)"
   ]
  },
  {
   "cell_type": "code",
   "execution_count": 30,
   "metadata": {},
   "outputs": [],
   "source": [
    "criterion = nn.CrossEntropyLoss(ignore_index=pad_idx)"
   ]
  },
  {
   "cell_type": "code",
   "execution_count": 31,
   "metadata": {},
   "outputs": [
    {
     "name": "stdout",
     "output_type": "stream",
     "text": [
      "Loaded model from ./models/\n"
     ]
    }
   ],
   "source": [
    "try:\n",
    "    epoch = load_model(model, optimizer, criterion, model_path + model_name, device)\n",
    "    print(f'Loaded model from {model_path}')\n",
    "except:\n",
    "    print(f'No models found at {model_path}')\n",
    "    epoch = 1"
   ]
  },
  {
   "cell_type": "markdown",
   "metadata": {},
   "source": [
    "### Урезание данных для соответствия размеру батча"
   ]
  },
  {
   "cell_type": "code",
   "execution_count": 32,
   "metadata": {},
   "outputs": [],
   "source": [
    "train_lemm_tensor_f = cut_to_fit_batch(train_lemm_tensor, batch_size)\n",
    "train_orig_tensor_f = cut_to_fit_batch(train_orig_tensor, batch_size)\n",
    "\n",
    "test_lemm_tensor_f = cut_to_fit_batch(test_lemm_tensor, batch_size)\n",
    "test_orig_tensor_f = cut_to_fit_batch(test_orig_tensor, batch_size)\n",
    "\n",
    "val_lemm_tensor_f = cut_to_fit_batch(val_lemm_tensor, batch_size)\n",
    "val_orig_tensor_f = cut_to_fit_batch(val_orig_tensor, batch_size)"
   ]
  },
  {
   "cell_type": "code",
   "execution_count": 33,
   "metadata": {},
   "outputs": [],
   "source": [
    "train_context_tensors_f = [cut_to_fit_batch(tensor.unsqueeze(0), batch_size).squeeze(1) for tensor in train_context_tensors]\n",
    "test_context_tensors_f = [cut_to_fit_batch(tensor.unsqueeze(0), batch_size).squeeze(1) for tensor in test_context_tensors]\n",
    "val_context_tensors_f = [cut_to_fit_batch(tensor.unsqueeze(0), batch_size).squeeze(1) for tensor in val_context_tensors]"
   ]
  },
  {
   "cell_type": "markdown",
   "metadata": {},
   "source": [
    "### Инициализация данных итерируемых по батчам"
   ]
  },
  {
   "cell_type": "code",
   "execution_count": 34,
   "metadata": {},
   "outputs": [],
   "source": [
    "train_dataset = TensorDataset(train_lemm_tensor_f, train_orig_tensor_f, *train_context_tensors_f)\n",
    "test_dataset = TensorDataset(test_lemm_tensor_f, test_orig_tensor_f, *test_context_tensors_f)\n",
    "val_dataset = TensorDataset(val_lemm_tensor_f, val_orig_tensor_f, *val_context_tensors_f)"
   ]
  },
  {
   "cell_type": "code",
   "execution_count": 35,
   "metadata": {},
   "outputs": [],
   "source": [
    "train_loader = DataLoader(train_dataset, batch_size=batch_size)\n",
    "test_loader = DataLoader(test_dataset, batch_size=1)\n",
    "val_loader = DataLoader(val_dataset, batch_size=batch_size)"
   ]
  },
  {
   "cell_type": "markdown",
   "metadata": {},
   "source": [
    "### Определение функции проверки работы сети между эпохами обучения"
   ]
  },
  {
   "cell_type": "code",
   "execution_count": 36,
   "metadata": {},
   "outputs": [],
   "source": [
    "def test_evaluate(model, input, context, target_len=8):\n",
    "    with torch.no_grad():\n",
    "        model.eval()\n",
    "        \n",
    "        input = input.to(device)\n",
    "\n",
    "        nsubj, gender, tense = context\n",
    "        nsubj_embedding = model.decoder.embedding(nsubj)\n",
    "\n",
    "        hidden = model.context_mem(nsubj_embedding, gender, tense)\n",
    "        cell = hidden.clone()\n",
    "\n",
    "        if model.num_layers == 1:\n",
    "            hidden.unsqueeze_(0)\n",
    "            cell.unsqueeze_(0)\n",
    "            # hidden, cell shapes: (1, batch_size, context_output_size=hidden_size)\n",
    "        else:\n",
    "            hidden = torch.cat([hidden.unsqueeze(0)] * model.num_layers, 0)\n",
    "            cell = torch.cat([cell.unsqueeze(0)] * model.num_layers, 0)\n",
    "            # hidden, cell shapes: (num_layers, batch_size, context_output_size=hidden_size)\n",
    "\n",
    "        sos_idx = lemm_text_transformer.special_tokens_to_idx.get('<SOS>')\n",
    "        eos_idx = lemm_text_transformer.special_tokens_to_idx.get('<EOS>')\n",
    "\n",
    "        hidden, cell = model.encoder(input, hidden, cell)\n",
    "\n",
    "        predicted_indexes = [sos_idx]\n",
    "\n",
    "        for _ in range(1, target_len):\n",
    "            prev_idx = torch.tensor([predicted_indexes[-1]], dtype=torch.long, device=device)\n",
    "\n",
    "            output, hidden, cell = model.decoder(prev_idx, hidden, cell)\n",
    "            output = output.squeeze(0)\n",
    "\n",
    "            best_prediction = output.argmax(dim=1).item()\n",
    "\n",
    "            if best_prediction == eos_idx:\n",
    "                break\n",
    "\n",
    "            predicted_indexes.append(best_prediction)\n",
    "\n",
    "\n",
    "        predicted_tokens = [orig_text_transformer.vocab.idx_to_token(idx) for idx in predicted_indexes]\n",
    "        return predicted_tokens[1:]"
   ]
  },
  {
   "cell_type": "markdown",
   "metadata": {},
   "source": [
    "### Определение функции обучения сети"
   ]
  },
  {
   "cell_type": "code",
   "execution_count": 37,
   "metadata": {},
   "outputs": [],
   "source": [
    "def train(model, optimizer, criterion, train_data, val_data, test_data, epochs_amount, max_norm, context, patience=3, current_epoch=1, n_prints=5):\n",
    "    min_mean_val_loss = float('+inf')\n",
    "    initial_patiece = patience\n",
    "    print_every = len(train_data) // n_prints\n",
    "    \n",
    "    for epoch in tqdm(range(current_epoch, epochs_amount + 1), 'Epochs'):\n",
    "        print(f'\\nEpoch [{epoch} / {epochs_amount}]')\n",
    "        \n",
    "        model.train()\n",
    "        for iteration, (input, target, nsubj, gender, tense) in enumerate(tqdm(train_data, 'Epoch training iterations')):\n",
    "            optimizer.zero_grad()\n",
    "            \n",
    "            input = torch.transpose(input, 1, 0).to(device)   \n",
    "            # input_shape: (seq_len, batch_size)\n",
    "            \n",
    "            target = torch.transpose(target, 1, 0).to(device)\n",
    "            # target_shape: (seq_len, batch_size)\n",
    "            \n",
    "            context = (nsubj.to(device), gender.to(device), tense.to(device))\n",
    "            \n",
    "            output = model(input, target, context)\n",
    "            # output_shape: (seq_len, batch_size, orig_vocab_size) but need (N, orig_vocab_size)\n",
    "            \n",
    "            target = target[1:].reshape(-1)\n",
    "            # now target_shape is (seq_len * batch_size)\n",
    "            \n",
    "            orig_vocab_size = output.shape[2]\n",
    "            \n",
    "            output = output[1:].reshape(-1, orig_vocab_size)\n",
    "            # now output_shape is (seq_len * batch_size, orig_vocab_size)\n",
    "            \n",
    "            loss = criterion(output, target)\n",
    "            loss.backward()\n",
    "            \n",
    "            torch.nn.utils.clip_grad_norm_(model.parameters(), max_norm=max_norm)\n",
    "            \n",
    "            optimizer.step()\n",
    "            \n",
    "            if iteration % print_every == 0:\n",
    "                print(f'\\tIteration #{iteration}: training loss = {loss.item()}')\n",
    "            elif iteration == len(train_data):\n",
    "                print(f'\\tIteration #{iteration}: training loss = {loss.item()}')\n",
    "            \n",
    "            \n",
    "        with torch.no_grad():\n",
    "            model.eval()\n",
    "            val_loss = []\n",
    "            \n",
    "            for input, target, nsubj, gender, tense in tqdm(val_data, 'Epoch validating iterations'):\n",
    "                input = torch.transpose(input, 1, 0).to(device)\n",
    "                target = torch.transpose(target, 1, 0).to(device)\n",
    "                context = (nsubj.to(device), gender.to(device), tense.to(device))\n",
    "                output = model(input, target, context)\n",
    "                \n",
    "                orig_vocab_size = output.shape[2]\n",
    "                output = output[1:].reshape(-1, orig_vocab_size)\n",
    "                target = target[1:].reshape(-1)\n",
    "                \n",
    "                val_loss.append(criterion(output, target).item())\n",
    "            \n",
    "            mean_val_loss = sum(val_loss) / len(val_loss)\n",
    "            print(f'\\tValidation loss = {mean_val_loss}')\n",
    "            if mean_val_loss < min_mean_val_loss:\n",
    "                try:\n",
    "                    save_model(model, optimizer, epoch, model_path + model_name)\n",
    "                    min_mean_val_loss = mean_val_loss\n",
    "                    patience = initial_patiece\n",
    "                except Exception as exc:\n",
    "                    print(exc)\n",
    "            else:\n",
    "                patience -= 1\n",
    "            \n",
    "            test_data = DataLoader(test_data.dataset, batch_size=1, shuffle=True)\n",
    "            for input, target, nsubj, gender, tense in test_data:\n",
    "                target = target.squeeze(0).to(device)\n",
    "                context = (nsubj.to(device), gender.to(device), tense.to(device))\n",
    "                \n",
    "                input = torch.transpose(input, 1, 0)\n",
    "                target_len = target.shape[0]\n",
    "                \n",
    "                output = test_evaluate(model, input, context, target_len)\n",
    "                decoded_input = [lemm_text_transformer.vocab.idx_to_token(idx.item()) for idx in input]\n",
    "                decoded_target = [orig_text_transformer.vocab.idx_to_token(idx.item()) for idx in target]\n",
    "                \n",
    "                print(f'\\tInput: {decoded_input}')\n",
    "                print(f'\\tOutput: {output}')\n",
    "                print(f'\\tTarget: {decoded_target}')\n",
    "                break\n",
    "        \n",
    "        if patience == 0:\n",
    "            print(f'\\nModel learning finished due to early stopping')\n",
    "            break\n"
   ]
  },
  {
   "cell_type": "markdown",
   "metadata": {},
   "source": [
    "### Определение функции эксплуатации обученной модели"
   ]
  },
  {
   "cell_type": "code",
   "execution_count": 38,
   "metadata": {},
   "outputs": [],
   "source": [
    "def evaluate(model, sentence: str, context, max_seq_len=8):\n",
    "    with torch.no_grad():\n",
    "        model.eval()\n",
    "        \n",
    "        nsubj, gender, tense = context\n",
    "        \n",
    "        nsubj = torch.tensor([orig_text_transformer.vocab.token_to_idx(nsubj)], device=device).unsqueeze(0)\n",
    "        gender = torch.tensor([gender_label_to_vec[gender]], dtype=torch.float32, device=device)\n",
    "        tense = torch.tensor([tense_label_to_vec[tense]], dtype=torch.float32, device=device)\n",
    "        \n",
    "        nsubj_embedding = model.decoder.embedding(nsubj).squeeze(0)\n",
    "\n",
    "        hidden = model.context_mem(nsubj_embedding, gender, tense)\n",
    "        cell = hidden.clone()\n",
    "\n",
    "        if model.num_layers == 1:\n",
    "            hidden.unsqueeze_(0)\n",
    "            cell.unsqueeze_(0)\n",
    "            # hidden, cell shapes: (1, batch_size, context_output_size=hidden_size)\n",
    "        else:\n",
    "            hidden = torch.cat([hidden.unsqueeze(0)] * model.num_layers, 0)\n",
    "            cell = torch.cat([cell.unsqueeze(0)] * model.num_layers, 0)\n",
    "            # hidden, cell shapes: (num_layers, batch_size, context_output_size=hidden_size)\n",
    "        \n",
    "        input_tensor = lemm_text_transformer.text_to_tensor(sentence, max_seq_len).to(device)\n",
    "        input_tensor = torch.transpose(input_tensor, 1, 0)\n",
    "        sos_idx = lemm_text_transformer.special_tokens_to_idx.get('<SOS>')\n",
    "        eos_idx = lemm_text_transformer.special_tokens_to_idx.get('<EOS>')\n",
    "\n",
    "    \n",
    "        hidden, cell = model.encoder(input_tensor, hidden, cell)\n",
    "        \n",
    "        predicted_indexes = [sos_idx]\n",
    "        \n",
    "#         while True:\n",
    "#             prev_idx = torch.tensor([predicted_indexes[-1]], dtype=torch.long, device=device)\n",
    "            \n",
    "#             output, hidden, cell = model.decoder(prev_idx, hidden, cell)\n",
    "#             output = output.squeeze(0)\n",
    "            \n",
    "#             best_prediction = output.argmax(dim=1).item()\n",
    "            \n",
    "#             if best_prediction == eos_idx:\n",
    "#                 break\n",
    "            \n",
    "#             predicted_indexes.append(best_prediction)\n",
    "                       \n",
    "        \n",
    "        for _ in range(1, max_seq_len):\n",
    "            prev_idx = torch.tensor([predicted_indexes[-1]], dtype=torch.long, device=device)\n",
    "            \n",
    "            output, hidden, cell = model.decoder(prev_idx, hidden, cell)\n",
    "            output = output.squeeze(0)\n",
    "            \n",
    "            best_prediction = output.argmax(dim=1).item()\n",
    "            \n",
    "            if best_prediction == eos_idx:\n",
    "                break\n",
    "                \n",
    "            predicted_indexes.append(best_prediction)\n",
    "        \n",
    "    predicted_tokens = [orig_text_transformer.vocab.idx_to_token(idx) for idx in predicted_indexes]\n",
    "    return predicted_tokens[1:]"
   ]
  },
  {
   "cell_type": "code",
   "execution_count": 39,
   "metadata": {
    "tags": []
   },
   "outputs": [],
   "source": [
    "# train(model, optimizer, criterion, train_loader, val_loader, test_loader, epochs_amount, max_norm, patience, epoch)"
   ]
  },
  {
   "cell_type": "code",
   "execution_count": 40,
   "metadata": {},
   "outputs": [],
   "source": [
    "# import gc\n",
    "# del model\n",
    "# del optimizer\n",
    "# gc.collect()\n",
    "# torch.cuda.empty_cache()\n",
    "# gc.collect()"
   ]
  },
  {
   "cell_type": "code",
   "execution_count": 41,
   "metadata": {},
   "outputs": [],
   "source": [
    "gender_label_to_vec = {\n",
    "    'masc'     : [0, 1, 0, 0],\n",
    "    'fem'      : [1, 0, 0, 0],\n",
    "    'undefined': [0, 0, 0, 1],\n",
    "    'neut'     : [0, 0, 1, 0]\n",
    "}\n",
    "\n",
    "tense_label_to_vec = {\n",
    "    'past'     : [0, 1, 0, 0],\n",
    "    'pres'     : [0, 0, 1, 0],\n",
    "    'fut'      : [1, 0, 0, 0],\n",
    "    'undefined': [0, 0, 0, 1]\n",
    "}"
   ]
  },
  {
   "cell_type": "code",
   "execution_count": 42,
   "metadata": {},
   "outputs": [],
   "source": [
    "def vec_to_label(label_type: str, input_vec):\n",
    "    if label_type == 'gender':\n",
    "        for label, vec in gender_label_to_vec.items():\n",
    "            if vec == input_vec:\n",
    "                return label\n",
    "        \n",
    "    elif label_type == 'tense':\n",
    "        for label, vec in tense_label_to_vec.items():\n",
    "            if vec == input_vec:\n",
    "                return label\n",
    "    else:\n",
    "        return None"
   ]
  },
  {
   "cell_type": "code",
   "execution_count": 43,
   "metadata": {},
   "outputs": [],
   "source": [
    "test_sample = train_df.sample(50)\n",
    "\n",
    "test_input = test_sample.lemm_texts.to_list()\n",
    "test_target = test_sample.orig_texts.to_list()\n",
    "\n",
    "test_nsubj = test_sample.nsubj.to_list()\n",
    "test_gender = test_sample.gender.to_list()\n",
    "test_tense = test_sample.tense.to_list()\n",
    "\n",
    "test_zipped = list(zip(test_input, test_target, test_nsubj, test_gender, test_tense))"
   ]
  },
  {
   "cell_type": "code",
   "execution_count": 132,
   "metadata": {},
   "outputs": [
    {
     "data": {
      "text/plain": [
       "['александр', 'положительно', 'относился', 'к', 'еде', '.']"
      ]
     },
     "execution_count": 132,
     "metadata": {},
     "output_type": "execute_result"
    }
   ],
   "source": [
    "evaluate(model, 'он положительно относиться к еда.', ('александр', 'masc', 'pres'))"
   ]
  },
  {
   "cell_type": "code",
   "execution_count": 126,
   "metadata": {},
   "outputs": [
    {
     "name": "stdout",
     "output_type": "stream",
     "text": [
      "Input: я почти привыкнуть к тот сказка.\n",
      "Nsubj: я\n",
      "gender: fem\n",
      "tense: past\n",
      "Output: ['я', 'почти', 'привыкла', 'к', 'той', 'сказке', '.']\n",
      "Target: я почти привыкла к той сказке.\n",
      "\n",
      "\n",
      "Input: я подняться до верхний этаж.\n",
      "Nsubj: я\n",
      "gender: masc\n",
      "tense: past\n",
      "Output: ['я', 'поднялся', 'до', 'верхней', 'этажа', '.']\n",
      "Target: я поднялся до верхнего этажа.\n",
      "\n",
      "\n",
      "Input: я подлететь на миля.\n",
      "Nsubj: я\n",
      "gender: masc\n",
      "tense: past\n",
      "Output: ['я', 'подлетел', 'на', '<UNK>', '.']\n",
      "Target: я подлетел на милю.\n",
      "\n",
      "\n",
      "Input: я напряжённо вглядываться в беспросветный темнота.\n",
      "Nsubj: я\n",
      "gender: fem\n",
      "tense: past\n",
      "Output: ['я', 'напряженно', 'вглядывалась', 'в', 'беспросветную', 'темноту', '.']\n",
      "Target: я напряженно вглядывалась в беспросветную темноту.\n",
      "\n",
      "\n",
      "Input: он шагнуть к вода.\n",
      "Nsubj: он\n",
      "gender: masc\n",
      "tense: past\n",
      "Output: ['он', 'шагнул', 'к', 'воде', '.']\n",
      "Target: он шагнул к воде.\n",
      "\n",
      "\n",
      "Input: они снова смешаться с толпа.\n",
      "Nsubj: они\n",
      "gender: undefined\n",
      "tense: past\n",
      "Output: ['они', 'снова', 'смешались', 'с', 'толпой', '.']\n",
      "Target: они снова смешались с толпой.\n",
      "\n",
      "\n",
      "Input: ты поехать к мак.\n",
      "Nsubj: ты\n",
      "gender: undefined\n",
      "tense: fut\n",
      "Output: ['ты', 'поедешь', 'к', 'маку', '.']\n",
      "Target: ты поедешь к маку.\n",
      "\n",
      "\n",
      "Input: металлический змея обвиться вокруг левый лодыжка.\n",
      "Nsubj: змея\n",
      "gender: fem\n",
      "tense: past\n",
      "Output: ['металлическая', 'змея', 'обвилась', 'вокруг', 'каждого', '<UNK>', '.']\n",
      "Target: металлическая змея обвилась вокруг левой лодыжки.\n",
      "\n",
      "\n",
      "Input: эдди оглянуться на бег.\n",
      "Nsubj: эдди\n",
      "gender: masc\n",
      "tense: past\n",
      "Output: ['эдди', 'оглянулся', 'на', 'бегу', '.']\n",
      "Target: эдди оглянулся на бегу.\n",
      "\n",
      "\n",
      "Input: я далёкий сесть от твой вирус.\n",
      "Nsubj: я\n",
      "gender: undefined\n",
      "tense: fut\n",
      "Output: ['я', 'подальше', 'сяду', 'от', 'твоих', 'вирусов', '.']\n",
      "Target: я подальше сяду от твоих вирусов.\n",
      "\n",
      "\n",
      "Input: я разъезжать по страна.\n",
      "Nsubj: я\n",
      "gender: masc\n",
      "tense: past\n",
      "Output: ['я', 'разъезжал', 'по', 'стране', '.']\n",
      "Target: я разъезжал по стране.\n",
      "\n",
      "\n",
      "Input: она войти в кабинет.\n",
      "Nsubj: она\n",
      "gender: fem\n",
      "tense: past\n",
      "Output: ['она', 'вошла', 'в', 'кабинет', '.']\n",
      "Target: она вошла в кабинет.\n",
      "\n",
      "\n",
      "Input: жорж обратиться к губернатор.\n",
      "Nsubj: жорж\n",
      "gender: masc\n",
      "tense: past\n",
      "Output: ['жорж', 'обратился', 'к', 'губернатору', '.']\n",
      "Target: жорж обратился к губернатору.\n",
      "\n",
      "\n",
      "Input: профессор застылый на место.\n",
      "Nsubj: профессор\n",
      "gender: masc\n",
      "tense: past\n",
      "Output: ['профессор', 'застыл', 'на', 'месте', '.']\n",
      "Target: профессор застыл на месте.\n",
      "\n",
      "\n",
      "Input: серёжа притаиться за чёрный куст.\n",
      "Nsubj: сережа\n",
      "gender: masc\n",
      "tense: past\n",
      "Output: ['сережа', 'притаился', 'за', 'черным', 'кустом', '.']\n",
      "Target: сережа притаился за черным кустом.\n",
      "\n",
      "\n",
      "Input: ты не скучать по порядок?\n",
      "Nsubj: ты\n",
      "gender: undefined\n",
      "tense: pres\n",
      "Output: ['ты', 'не', 'скучаешь', 'по', 'порядку', '?']\n",
      "Target: ты не скучаешь по порядку?\n",
      "\n",
      "\n",
      "Input: парнишка быть на место.\n",
      "Nsubj: парнишка\n",
      "gender: masc\n",
      "tense: undefined\n",
      "Output: ['парнишка', 'был', 'на', 'месте', '.']\n",
      "Target: парнишка был на месте.\n",
      "\n",
      "\n",
      "Input: она спуститься с насыпь.\n",
      "Nsubj: она\n",
      "gender: fem\n",
      "tense: past\n",
      "Output: ['она', 'спустилась', 'с', 'насыпи', '.']\n",
      "Target: она спустилась с насыпи.\n",
      "\n",
      "\n",
      "Input: мы хороший воевать на экран.\n",
      "Nsubj: мы\n",
      "gender: undefined\n",
      "tense: pres\n",
      "Output: ['мы', 'лучше', 'воюем', 'на', 'экране', '.']\n",
      "Target: мы лучше воюем на экране.\n",
      "\n",
      "\n",
      "Input: юноша походить на высушить кузнечик.\n",
      "Nsubj: юноша\n",
      "gender: masc\n",
      "tense: past\n",
      "Output: ['юноша', 'походил', 'на', '<UNK>', 'кандидата', '.']\n",
      "Target: юноша походил на высушенного кузнечика.\n",
      "\n",
      "\n",
      "Input: она невольно попятиться от окно.\n",
      "Nsubj: она\n",
      "gender: fem\n",
      "tense: past\n",
      "Output: ['она', 'невольно', 'попятилась', 'от', 'окна', '.']\n",
      "Target: она невольно попятилась от окна.\n",
      "\n",
      "\n",
      "Input: но я ты здесь не оставить.\n",
      "Nsubj: я\n",
      "gender: undefined\n",
      "tense: fut\n",
      "Output: ['но', 'я', 'тебе', 'здесь', 'не', 'оставлю', '.']\n",
      "Target: но я тебя здесь не оставлю.\n",
      "\n",
      "\n",
      "Input: он отвернуться к бревенчатый стена.\n",
      "Nsubj: он\n",
      "gender: masc\n",
      "tense: past\n",
      "Output: ['он', 'отвернулся', 'к', '<UNK>', 'стене', '.']\n",
      "Target: он отвернулся к бревенчатой стене.\n",
      "\n",
      "\n",
      "Input: они идти к наст.\n",
      "Nsubj: они\n",
      "gender: undefined\n",
      "tense: past\n",
      "Output: ['они', 'шли', 'к', 'насте', '.']\n",
      "Target: они шли к насте.\n",
      "\n",
      "\n",
      "Input: куликов обидеться на сми.\n",
      "Nsubj: куликов\n",
      "gender: masc\n",
      "tense: past\n",
      "Output: ['куликов', 'обиделся', 'на', '<UNK>', '.']\n",
      "Target: куликов обиделся на сми.\n",
      "\n",
      "\n",
      "Input: я слушать с больший удовольствие.\n",
      "Nsubj: я\n",
      "gender: fem\n",
      "tense: past\n",
      "Output: ['я', 'слушала', 'с', 'большим', 'удовольствием', '.']\n",
      "Target: я слушала с большим удовольствием.\n",
      "\n",
      "\n",
      "Input: иван уехать в америка.\n",
      "Nsubj: иван\n",
      "gender: masc\n",
      "tense: past\n",
      "Output: ['иван', 'уехал', 'в', 'америку', '.']\n",
      "Target: иван уехал в америку.\n",
      "\n",
      "\n",
      "Input: он почернелый от страдание.\n",
      "Nsubj: он\n",
      "gender: masc\n",
      "tense: past\n",
      "Output: ['он', 'почернел', 'от', 'столетий', '.']\n",
      "Target: он почернел от страдания.\n",
      "\n",
      "\n",
      "Input: маэстро усесться за руль.\n",
      "Nsubj: маэстро\n",
      "gender: masc\n",
      "tense: past\n",
      "Output: ['маэстро', 'уселся', 'за', 'руль', '.']\n",
      "Target: маэстро уселся за руль.\n",
      "\n",
      "\n",
      "Input: я быстро приблизиться к покойник.\n",
      "Nsubj: я\n",
      "gender: masc\n",
      "tense: past\n",
      "Output: ['я', 'быстро', 'приблизился', 'к', 'оконцу', '.']\n",
      "Target: я быстро приблизился к покойнику.\n",
      "\n",
      "\n",
      "Input: я 30 год сидеть на капля.\n",
      "Nsubj: я\n",
      "gender: fem\n",
      "tense: past\n",
      "Output: ['я', 'два', 'раза', 'сидела', 'на', 'золотом', '.']\n",
      "Target: я 30 лет сидела на каплях.\n",
      "\n",
      "\n",
      "Input: ты нуждаться в предать помощник.\n",
      "Nsubj: ты\n",
      "gender: masc\n",
      "tense: past\n",
      "Output: ['ты', 'нуждался', 'в', '<UNK>', 'помощнике', '.']\n",
      "Target: ты нуждался в преданном помощнике.\n",
      "\n",
      "\n",
      "Input: молчаливый саша попасть в самый яблочко.\n",
      "Nsubj: саша\n",
      "gender: masc\n",
      "tense: past\n",
      "Output: ['молчаливый', 'саша', 'попал', 'в', 'самую', 'яблочко', '.']\n",
      "Target: молчаливый саша попал в самое яблочко.\n",
      "\n",
      "\n",
      "Input: пассажир позвонить на работа.\n",
      "Nsubj: пассажир\n",
      "gender: masc\n",
      "tense: past\n",
      "Output: ['пассажир', 'позвонил', 'на', 'работу', '.']\n",
      "Target: пассажир позвонил на работу.\n",
      "\n",
      "\n",
      "Input: я прямо сказать о это родитель.\n",
      "Nsubj: я\n",
      "gender: masc\n",
      "tense: past\n",
      "Output: ['я', 'прямо', 'сказал', 'об', 'этом', 'родителям', '.']\n",
      "Target: я прямо сказал об этом родителям.\n",
      "\n",
      "\n",
      "Input: мы договориться на близкий суббота.\n",
      "Nsubj: мы\n",
      "gender: undefined\n",
      "tense: past\n",
      "Output: ['мы', 'договорились', 'на', 'ближайшей', 'субботу', '.']\n",
      "Target: мы договорились на ближайшую субботу.\n",
      "\n",
      "\n",
      "Input: мы затормозить на оживлённый перекрёсток.\n",
      "Nsubj: мы\n",
      "gender: undefined\n",
      "tense: past\n",
      "Output: ['мы', 'затормозили', 'на', 'трудовую', 'перекрестке', '.']\n",
      "Target: мы затормозили на оживленном перекрестке.\n",
      "\n",
      "\n",
      "Input: как давно я это не делать.\n",
      "Nsubj: я\n",
      "gender: masc\n",
      "tense: past\n",
      "Output: ['как', 'давно', 'я', 'этого', 'не', 'делал', '.']\n",
      "Target: как давно я этого не делал.\n",
      "\n",
      "\n",
      "Input: я взглянуть на насос.\n",
      "Nsubj: я\n",
      "gender: masc\n",
      "tense: past\n",
      "Output: ['я', 'взглянул', 'на', '<UNK>', '.']\n",
      "Target: я взглянул на насос.\n",
      "\n",
      "\n",
      "Input: дерек помедлить с ответ.\n",
      "Nsubj: дерек\n",
      "gender: masc\n",
      "tense: past\n",
      "Output: ['дерек', 'помедлил', 'с', 'ответом', '.']\n",
      "Target: дерек помедлил с ответом.\n",
      "\n",
      "\n",
      "Input: я очень тосковать по кейт.\n",
      "Nsubj: я\n",
      "gender: masc\n",
      "tense: past\n",
      "Output: ['я', 'очень', 'тосковал', 'по', 'кейт', '.']\n",
      "Target: я очень тосковал по кейт.\n",
      "\n",
      "\n",
      "Input: они заговорить о всякий всячина.\n",
      "Nsubj: они\n",
      "gender: undefined\n",
      "tense: past\n",
      "Output: ['они', 'заговорили', 'о', 'всякой', 'всячине', '.']\n",
      "Target: они заговорили о всякой всячине.\n",
      "\n",
      "\n",
      "Input: кассирша замереть с приоткрыть рот.\n",
      "Nsubj: кассирша\n",
      "gender: fem\n",
      "tense: past\n",
      "Output: ['кассирша', 'замерла', 'с', 'разинутым', 'ртом', '.']\n",
      "Target: кассирша замерла с приоткрытым ртом.\n",
      "\n",
      "\n",
      "Input: шериф изумлённо застылый на место.\n",
      "Nsubj: шериф\n",
      "gender: masc\n",
      "tense: past\n",
      "Output: ['шериф', 'изумленно', 'застыл', 'на', 'месте', '.']\n",
      "Target: шериф изумленно застыл на месте.\n",
      "\n",
      "\n",
      "Input: я остаться в купе.\n",
      "Nsubj: я\n",
      "gender: masc\n",
      "tense: past\n",
      "Output: ['я', 'остался', 'в', 'купе', '.']\n",
      "Target: я остался в купе.\n",
      "\n",
      "\n",
      "Input: катарин рыдать в мой объятие.\n",
      "Nsubj: катарина\n",
      "gender: fem\n",
      "tense: past\n",
      "Output: ['катарина', 'рыдала', 'в', 'моих', 'объятиях', '.']\n",
      "Target: катарина рыдала в моих объятиях.\n",
      "\n",
      "\n",
      "Input: я часто думать о этот драма.\n",
      "Nsubj: я\n",
      "gender: undefined\n",
      "tense: pres\n",
      "Output: ['я', 'часто', 'думаю', 'об', 'этой', 'истине', '.']\n",
      "Target: я часто думаю об этих драмах.\n",
      "\n",
      "\n",
      "Input: я проснуться ранний родитель.\n",
      "Nsubj: я\n",
      "gender: masc\n",
      "tense: past\n",
      "Output: ['я', 'проснулся', 'раньше', 'родителей', '.']\n",
      "Target: я проснулся раньше родителей.\n",
      "\n",
      "\n",
      "Input: ольга посмотреть на свой отражение.\n",
      "Nsubj: ольга\n",
      "gender: fem\n",
      "tense: past\n",
      "Output: ['ольга', 'посмотрела', 'на', 'свое', 'отражение', '.']\n",
      "Target: ольга посмотрела на свое отражение.\n",
      "\n",
      "\n",
      "Input: таракан отскочить в сторона.\n",
      "Nsubj: таракан\n",
      "gender: masc\n",
      "tense: past\n",
      "Output: ['таракан', 'отскочил', 'в', 'сторону', '.']\n",
      "Target: таракан отскочил в сторону.\n",
      "\n",
      "\n"
     ]
    }
   ],
   "source": [
    "for input_sent, target_sent, nsubj, gender, tense in test_zipped:\n",
    "    output = evaluate(model, input_sent, (nsubj, gender, tense))\n",
    "    \n",
    "    print(f'Input: {input_sent}')\n",
    "    print(f'Nsubj: {nsubj}\\ngender: {gender}\\ntense: {tense}')\n",
    "    print(f'Output: {output}')\n",
    "    print(f'Target: {target_sent}')\n",
    "    print('\\n')"
   ]
  },
  {
   "cell_type": "code",
   "execution_count": null,
   "metadata": {},
   "outputs": [],
   "source": []
  }
 ],
 "metadata": {
  "kernelspec": {
   "display_name": "Python 3",
   "language": "python",
   "name": "python3"
  },
  "language_info": {
   "codemirror_mode": {
    "name": "ipython",
    "version": 3
   },
   "file_extension": ".py",
   "mimetype": "text/x-python",
   "name": "python",
   "nbconvert_exporter": "python",
   "pygments_lexer": "ipython3",
   "version": "3.9.2"
  }
 },
 "nbformat": 4,
 "nbformat_minor": 4
}

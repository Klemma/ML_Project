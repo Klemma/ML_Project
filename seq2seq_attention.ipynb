{
 "cells": [
  {
   "cell_type": "markdown",
   "metadata": {},
   "source": [
    "## Импорт необходимых зависимостей"
   ]
  },
  {
   "cell_type": "code",
   "execution_count": 43,
   "metadata": {},
   "outputs": [],
   "source": [
    "import pandas as pd\n",
    "import nltk\n",
    "import torch\n",
    "import torch.nn as nn\n",
    "import torch.optim\n",
    "import numpy as np\n",
    "import time\n",
    "import pickle\n",
    "\n",
    "from random import random, sample\n",
    "from typing import List\n",
    "from collections import Counter\n",
    "from itertools import chain\n",
    "from functools import reduce\n",
    "from tqdm.auto import tqdm\n",
    "from sklearn import model_selection\n",
    "from torch.utils.data import DataLoader, TensorDataset\n",
    "from torchtext.data.metrics import bleu_score"
   ]
  },
  {
   "cell_type": "code",
   "execution_count": 2,
   "metadata": {},
   "outputs": [],
   "source": [
    "RANDOM_STATE = 1"
   ]
  },
  {
   "cell_type": "markdown",
   "metadata": {},
   "source": [
    "## Подготовка данных"
   ]
  },
  {
   "cell_type": "code",
   "execution_count": 3,
   "metadata": {},
   "outputs": [],
   "source": [
    "df = pd.read_csv('../input/seq2seqdataset/dataset.csv')"
   ]
  },
  {
   "cell_type": "code",
   "execution_count": 4,
   "metadata": {},
   "outputs": [
    {
     "data": {
      "text/html": [
       "<div>\n",
       "<style scoped>\n",
       "    .dataframe tbody tr th:only-of-type {\n",
       "        vertical-align: middle;\n",
       "    }\n",
       "\n",
       "    .dataframe tbody tr th {\n",
       "        vertical-align: top;\n",
       "    }\n",
       "\n",
       "    .dataframe thead th {\n",
       "        text-align: right;\n",
       "    }\n",
       "</style>\n",
       "<table border=\"1\" class=\"dataframe\">\n",
       "  <thead>\n",
       "    <tr style=\"text-align: right;\">\n",
       "      <th></th>\n",
       "      <th>orig_texts</th>\n",
       "      <th>lemm_texts</th>\n",
       "    </tr>\n",
       "  </thead>\n",
       "  <tbody>\n",
       "    <tr>\n",
       "      <th>0</th>\n",
       "      <td>вообще он опасался правил.</td>\n",
       "      <td>вообще он опасаться правило.</td>\n",
       "    </tr>\n",
       "    <tr>\n",
       "      <th>1</th>\n",
       "      <td>кто сможет ему родить?</td>\n",
       "      <td>кто смочь он родить?</td>\n",
       "    </tr>\n",
       "    <tr>\n",
       "      <th>2</th>\n",
       "      <td>вагон был совершенно гнилой.</td>\n",
       "      <td>вагон быть совершенно гнилой.</td>\n",
       "    </tr>\n",
       "    <tr>\n",
       "      <th>3</th>\n",
       "      <td>это оказалась станция железнодорожная.</td>\n",
       "      <td>это оказаться станция железнодорожный.</td>\n",
       "    </tr>\n",
       "    <tr>\n",
       "      <th>4</th>\n",
       "      <td>и тестирования весьма неожиданного.</td>\n",
       "      <td>и тестирование весьма неожиданный.</td>\n",
       "    </tr>\n",
       "    <tr>\n",
       "      <th>...</th>\n",
       "      <td>...</td>\n",
       "      <td>...</td>\n",
       "    </tr>\n",
       "    <tr>\n",
       "      <th>27889</th>\n",
       "      <td>лаудон же, вместо того чтобы оборонять колонии...</td>\n",
       "      <td>лаудон же, вместо тот чтобы оборонять колония ...</td>\n",
       "    </tr>\n",
       "    <tr>\n",
       "      <th>27890</th>\n",
       "      <td>я с готовностью оказал ей несколько маленьких ...</td>\n",
       "      <td>я с готовность оказать она несколько маленький...</td>\n",
       "    </tr>\n",
       "    <tr>\n",
       "      <th>27891</th>\n",
       "      <td>это конечно особая тема, и она требует самого ...</td>\n",
       "      <td>это конечно особый тема, и она требовать сам п...</td>\n",
       "    </tr>\n",
       "    <tr>\n",
       "      <th>27892</th>\n",
       "      <td>конечно, если вы смогли вскарабкаться на верши...</td>\n",
       "      <td>конечно, если вы смочь вскарабкаться на вершин...</td>\n",
       "    </tr>\n",
       "    <tr>\n",
       "      <th>27893</th>\n",
       "      <td>в ответ на это я составил свой план и попросил...</td>\n",
       "      <td>в ответ на это я составить свой план и попроси...</td>\n",
       "    </tr>\n",
       "  </tbody>\n",
       "</table>\n",
       "<p>27894 rows × 2 columns</p>\n",
       "</div>"
      ],
      "text/plain": [
       "                                              orig_texts  \\\n",
       "0                             вообще он опасался правил.   \n",
       "1                                 кто сможет ему родить?   \n",
       "2                           вагон был совершенно гнилой.   \n",
       "3                 это оказалась станция железнодорожная.   \n",
       "4                    и тестирования весьма неожиданного.   \n",
       "...                                                  ...   \n",
       "27889  лаудон же, вместо того чтобы оборонять колонии...   \n",
       "27890  я с готовностью оказал ей несколько маленьких ...   \n",
       "27891  это конечно особая тема, и она требует самого ...   \n",
       "27892  конечно, если вы смогли вскарабкаться на верши...   \n",
       "27893  в ответ на это я составил свой план и попросил...   \n",
       "\n",
       "                                              lemm_texts  \n",
       "0                           вообще он опасаться правило.  \n",
       "1                                   кто смочь он родить?  \n",
       "2                          вагон быть совершенно гнилой.  \n",
       "3                 это оказаться станция железнодорожный.  \n",
       "4                     и тестирование весьма неожиданный.  \n",
       "...                                                  ...  \n",
       "27889  лаудон же, вместо тот чтобы оборонять колония ...  \n",
       "27890  я с готовность оказать она несколько маленький...  \n",
       "27891  это конечно особый тема, и она требовать сам п...  \n",
       "27892  конечно, если вы смочь вскарабкаться на вершин...  \n",
       "27893  в ответ на это я составить свой план и попроси...  \n",
       "\n",
       "[27894 rows x 2 columns]"
      ]
     },
     "execution_count": 4,
     "metadata": {},
     "output_type": "execute_result"
    }
   ],
   "source": [
    "df"
   ]
  },
  {
   "cell_type": "markdown",
   "metadata": {},
   "source": [
    "### Определение классов словаря и трансформера текста"
   ]
  },
  {
   "cell_type": "code",
   "execution_count": 5,
   "metadata": {},
   "outputs": [],
   "source": [
    "class Vocab:\n",
    "    def __init__(self, tokens: List[str], unk_idx: int):\n",
    "        self._tokens = tokens\n",
    "        self._token_to_idx = {token: idx for idx, token in enumerate(tokens)}\n",
    "        self._unk_idx = unk_idx\n",
    "        \n",
    "    def token_to_idx(self, token: str) -> int:\n",
    "        return self._token_to_idx.get(token, self._unk_idx)\n",
    "    \n",
    "    def idx_to_token(self, idx: int) -> str:\n",
    "        return self._tokens[idx]"
   ]
  },
  {
   "cell_type": "code",
   "execution_count": 6,
   "metadata": {},
   "outputs": [],
   "source": [
    "class TextTransformer:\n",
    "    def __init__(self, vocab_size: int):\n",
    "        self.vocab = None\n",
    "        self.vocab_size = vocab_size\n",
    "        self.special_tokens_to_idx = {'<UNK>': 0, '<PAD>': 1, '<SOS>': 2, '<EOS>': 3}\n",
    "        self._tokenizer = nltk.tokenize.wordpunct_tokenize\n",
    "    \n",
    "    def tokenize(self, text) -> List[str]:\n",
    "        return self._tokenizer(text.lower())\n",
    "    \n",
    "    def build_vocab(self, tokens: List[str]):\n",
    "        tokens_ = [special_token for special_token in self.special_tokens_to_idx.keys()]\n",
    "        special_tokens_amount = len(self.special_tokens_to_idx)\n",
    "        \n",
    "        for token, _ in Counter(tokens).most_common(self.vocab_size - special_tokens_amount):\n",
    "            tokens_.append(token)\n",
    "        \n",
    "        unk_idx = self.special_tokens_to_idx.get('<UNK>')\n",
    "        self.vocab = Vocab(tokens_, unk_idx)\n",
    "        \n",
    "    def transform_text(self, text: str) -> List[int]:\n",
    "        tokenized_text = self.tokenize(text)\n",
    "        transformed = [self.vocab.token_to_idx(token) for token in tokenized_text]\n",
    "        return transformed\n",
    "    \n",
    "    def fit(self, texts: List[str]) -> None:\n",
    "        transformed_texts = []\n",
    "        \n",
    "        tokenized_texts = [self.tokenize(text) for text in tqdm(texts, 'Tokenizing texts')]\n",
    "        tokens = chain(*tokenized_texts)\n",
    "        self.build_vocab(tokens)\n",
    "        \n",
    "        for tokenized_text in tqdm(tokenized_texts, 'Transforming texts'):\n",
    "            transformed = [self.vocab.token_to_idx(token) for token in tokenized_text]\n",
    "            transformed_texts.append(transformed)\n",
    "    \n",
    "    def transform_texts(self, texts: List[str]) -> List[List[int]]:\n",
    "        transformed_texts = [transform_text(text) for text in tqdm(texts, 'Transforming texts')]\n",
    "        return transformed_texts\n",
    "    \n",
    "    def text_to_tensor(self, text: str, max_seq_len) -> torch.tensor:\n",
    "        transformed_text = self.transform_text(text)\n",
    "        pad_idx = self.special_tokens_to_idx.get('<PAD>')\n",
    "        sos_idx = self.special_tokens_to_idx.get('<SOS>')\n",
    "        eos_idx = self.special_tokens_to_idx.get('<EOS>')\n",
    "        \n",
    "        pad_size = 0\n",
    "        if len(transformed_text) >= max_seq_len:\n",
    "            transformed_text = transformed_text[:max_seq_len]\n",
    "        else:\n",
    "            pad_size = max_seq_len - len(transformed_text)\n",
    "            transformed_text.extend([pad_idx] * pad_size)   \n",
    "        transformed_text.insert(0, sos_idx)\n",
    "        transformed_text.insert(len(transformed_text) - pad_size, eos_idx)\n",
    "        \n",
    "        tensor = torch.tensor(transformed_text, dtype=torch.long)\n",
    "        return tensor.unsqueeze(0)\n",
    "    \n",
    "    def texts_to_tensor(self, texts: List[str], max_seq_len) -> torch.tensor:\n",
    "        pad_idx = self.special_tokens_to_idx.get('<PAD>')\n",
    "        sos_idx = self.special_tokens_to_idx.get('<SOS>')\n",
    "        eos_idx = self.special_tokens_to_idx.get('<EOS>')\n",
    "        transformed_texts = []\n",
    "        \n",
    "        for text in tqdm(texts, 'Building tensor'):\n",
    "            transformed_text = self.transform_text(text)\n",
    "            pad_size = 0\n",
    "            if len(transformed_text) >= max_seq_len:\n",
    "                transformed_text = transformed_text[:max_seq_len]\n",
    "            else:\n",
    "                pad_size = max_seq_len - len(transformed_text)\n",
    "                transformed_text.extend([pad_idx] * pad_size)   \n",
    "            transformed_text.insert(0, sos_idx)\n",
    "            transformed_text.insert(len(transformed_text) - pad_size, eos_idx)\n",
    "            transformed_texts.append(transformed_text)\n",
    "        \n",
    "        tensor = torch.tensor(transformed_texts, dtype=torch.long).permute(1, 0)\n",
    "        return tensor"
   ]
  },
  {
   "cell_type": "markdown",
   "metadata": {},
   "source": [
    "### Разбиение данных на обучающую, тестовую и валидационную выборки"
   ]
  },
  {
   "cell_type": "code",
   "execution_count": 7,
   "metadata": {},
   "outputs": [],
   "source": [
    "train_df, test_df = model_selection.train_test_split(df, test_size=0.1, random_state=RANDOM_STATE)"
   ]
  },
  {
   "cell_type": "code",
   "execution_count": 8,
   "metadata": {},
   "outputs": [],
   "source": [
    "test_df, val_df = model_selection.train_test_split(test_df, test_size=0.5, random_state=RANDOM_STATE)"
   ]
  },
  {
   "cell_type": "markdown",
   "metadata": {},
   "source": [
    "### Токенизация текстов и индексация токенов"
   ]
  },
  {
   "cell_type": "code",
   "execution_count": 9,
   "metadata": {},
   "outputs": [],
   "source": [
    "lemm_vocab_size = 23000\n",
    "orig_vocab_size = 65000\n",
    "max_seq_len = 50"
   ]
  },
  {
   "cell_type": "code",
   "execution_count": 10,
   "metadata": {},
   "outputs": [],
   "source": [
    "lemm_text_transformer = TextTransformer(lemm_vocab_size)\n",
    "orig_text_transformer = TextTransformer(orig_vocab_size)"
   ]
  },
  {
   "cell_type": "code",
   "execution_count": 11,
   "metadata": {},
   "outputs": [
    {
     "data": {
      "application/vnd.jupyter.widget-view+json": {
       "model_id": "6b8fd4a9e4de4bb58efe3981f615fe25",
       "version_major": 2,
       "version_minor": 0
      },
      "text/plain": [
       "Tokenizing texts:   0%|          | 0/25104 [00:00<?, ?it/s]"
      ]
     },
     "metadata": {},
     "output_type": "display_data"
    },
    {
     "data": {
      "application/vnd.jupyter.widget-view+json": {
       "model_id": "750987cd42324dbebe71c36c1485ef68",
       "version_major": 2,
       "version_minor": 0
      },
      "text/plain": [
       "Transforming texts:   0%|          | 0/25104 [00:00<?, ?it/s]"
      ]
     },
     "metadata": {},
     "output_type": "display_data"
    }
   ],
   "source": [
    "lemm_text_transformer.fit(train_df.lemm_texts)"
   ]
  },
  {
   "cell_type": "code",
   "execution_count": 12,
   "metadata": {},
   "outputs": [
    {
     "data": {
      "application/vnd.jupyter.widget-view+json": {
       "model_id": "c5ff0a7a3bd347bf9cb83fc9e6888f5b",
       "version_major": 2,
       "version_minor": 0
      },
      "text/plain": [
       "Tokenizing texts:   0%|          | 0/25104 [00:00<?, ?it/s]"
      ]
     },
     "metadata": {},
     "output_type": "display_data"
    },
    {
     "data": {
      "application/vnd.jupyter.widget-view+json": {
       "model_id": "5e95a8750cbf4f84919ed9b2034514aa",
       "version_major": 2,
       "version_minor": 0
      },
      "text/plain": [
       "Transforming texts:   0%|          | 0/25104 [00:00<?, ?it/s]"
      ]
     },
     "metadata": {},
     "output_type": "display_data"
    }
   ],
   "source": [
    "orig_text_transformer.fit(train_df.orig_texts)"
   ]
  },
  {
   "cell_type": "markdown",
   "metadata": {},
   "source": [
    "### Перевод данных в тензоры"
   ]
  },
  {
   "cell_type": "code",
   "execution_count": 13,
   "metadata": {},
   "outputs": [
    {
     "data": {
      "application/vnd.jupyter.widget-view+json": {
       "model_id": "7c3dd1a0cfe64c74a1f2ba069c052b15",
       "version_major": 2,
       "version_minor": 0
      },
      "text/plain": [
       "Building tensor:   0%|          | 0/25104 [00:00<?, ?it/s]"
      ]
     },
     "metadata": {},
     "output_type": "display_data"
    },
    {
     "data": {
      "application/vnd.jupyter.widget-view+json": {
       "model_id": "f3cd0cfc52eb476092b8617ee6c7fa91",
       "version_major": 2,
       "version_minor": 0
      },
      "text/plain": [
       "Building tensor:   0%|          | 0/1395 [00:00<?, ?it/s]"
      ]
     },
     "metadata": {},
     "output_type": "display_data"
    },
    {
     "data": {
      "application/vnd.jupyter.widget-view+json": {
       "model_id": "c6d95fda6a544ddbbab0f644e878c1df",
       "version_major": 2,
       "version_minor": 0
      },
      "text/plain": [
       "Building tensor:   0%|          | 0/1395 [00:00<?, ?it/s]"
      ]
     },
     "metadata": {},
     "output_type": "display_data"
    }
   ],
   "source": [
    "train_lemm_tensor = lemm_text_transformer.texts_to_tensor(train_df.lemm_texts.to_list(), max_seq_len)\n",
    "test_lemm_tensor = lemm_text_transformer.texts_to_tensor(test_df.lemm_texts.to_list(), max_seq_len)\n",
    "val_lemm_tensor = lemm_text_transformer.texts_to_tensor(val_df.lemm_texts.to_list(), max_seq_len)"
   ]
  },
  {
   "cell_type": "code",
   "execution_count": 14,
   "metadata": {},
   "outputs": [
    {
     "data": {
      "application/vnd.jupyter.widget-view+json": {
       "model_id": "bf68e4820c94416cbf1ad53eb8a42d8d",
       "version_major": 2,
       "version_minor": 0
      },
      "text/plain": [
       "Building tensor:   0%|          | 0/25104 [00:00<?, ?it/s]"
      ]
     },
     "metadata": {},
     "output_type": "display_data"
    },
    {
     "data": {
      "application/vnd.jupyter.widget-view+json": {
       "model_id": "b10a85d5853b472589840a9bc3886e9a",
       "version_major": 2,
       "version_minor": 0
      },
      "text/plain": [
       "Building tensor:   0%|          | 0/1395 [00:00<?, ?it/s]"
      ]
     },
     "metadata": {},
     "output_type": "display_data"
    },
    {
     "data": {
      "application/vnd.jupyter.widget-view+json": {
       "model_id": "93ffd5fd6b944f3995caea23fce3ca27",
       "version_major": 2,
       "version_minor": 0
      },
      "text/plain": [
       "Building tensor:   0%|          | 0/1395 [00:00<?, ?it/s]"
      ]
     },
     "metadata": {},
     "output_type": "display_data"
    }
   ],
   "source": [
    "train_orig_tensor = orig_text_transformer.texts_to_tensor(train_df.orig_texts.to_list(), max_seq_len)\n",
    "test_orig_tensor = orig_text_transformer.texts_to_tensor(test_df.orig_texts.to_list(), max_seq_len)\n",
    "val_orig_tensor = orig_text_transformer.texts_to_tensor(val_df.orig_texts.to_list(), max_seq_len)"
   ]
  },
  {
   "cell_type": "code",
   "execution_count": 15,
   "metadata": {},
   "outputs": [],
   "source": [
    "def cut_to_fit_batch(tensor: torch.Tensor, batch_size: int):\n",
    "    n_samples = tensor.shape[1]\n",
    "    new_n_samples = (n_samples // batch_size) * batch_size\n",
    "    result = tensor.split(new_n_samples, dim=1)[0]\n",
    "    return torch.transpose(result, 1, 0)"
   ]
  },
  {
   "cell_type": "markdown",
   "metadata": {},
   "source": [
    "## Построение модели"
   ]
  },
  {
   "cell_type": "code",
   "execution_count": 16,
   "metadata": {},
   "outputs": [],
   "source": [
    "class EncoderRNN(nn.Module):\n",
    "    def __init__(self, vocab_size: int, embedding_size: int, hidden_size: int, pad_idx: int,\n",
    "                 device, num_layers, dropout_p: float):\n",
    "        super(EncoderRNN, self).__init__()\n",
    "        \n",
    "        self.device = device\n",
    "        self.num_layers = num_layers\n",
    "        \n",
    "        self.hidden_size = hidden_size\n",
    "        \n",
    "        self.embedding = nn.Sequential(\n",
    "            nn.Embedding(vocab_size, embedding_size, pad_idx),\n",
    "            nn.Dropout(dropout_p)\n",
    "        )\n",
    "        self.lstm = nn.LSTM(embedding_size, hidden_size, num_layers, dropout=0.0, bidirectional=True)\n",
    "        self.fc_compressor_hidden = nn.Linear(hidden_size * 2, hidden_size)\n",
    "        self.fc_compressor_cell = nn.Linear(hidden_size * 2, hidden_size)\n",
    "        \n",
    "    def forward(self, x):\n",
    "        # x_shape: (seq_len, batch_size)\n",
    "        embedding = self.embedding(x)\n",
    "        # embedding_shape: (seq_len, batch_size, embedding_size)\n",
    "        encoder_states, (hidden, cell) = self.lstm(embedding)\n",
    "        # encoder_states: (seq_len, batch_size, hidden_size * 2)\n",
    "        # hidden_shape: (num_layers=1 * 2, batch_size, hidden_size)\n",
    "        # cell_shape: (num_layers=1 * 2, batch_size, hidden_size)\n",
    "        \n",
    "        bi_hidden = torch.cat((hidden[0], hidden[1]), dim=1).unsqueeze(0).permute(1, 0, 2)\n",
    "        bi_cell = torch.cat((cell[0], cell[1]), dim=1).unsqueeze(0).permute(1, 0, 2)\n",
    "        # bi_hidden, bi_cell shapes: (batch_size, 1, hidden_size * 2)\n",
    "        \n",
    "        hidden_compressed = self.fc_compressor_hidden(bi_hidden).permute(1, 0, 2)\n",
    "        cell_compressed = self.fc_compressor_hidden(bi_cell).permute(1, 0, 2)\n",
    "        # hidden_compressed, cell_compressed shapes: (1, batch_size, hidden_size)\n",
    "        \n",
    "        return encoder_states, hidden_compressed, cell_compressed\n",
    "    \n",
    "    def init_hidden_state(self, batch_size: int):\n",
    "        hidden = torch.zeros(self.num_layers, batch_size, self.hidden_size).to(self.device)\n",
    "        cell = torch.zeros(self.num_layers, batch_size, self.hidden_size).to(self.device)\n",
    "        return hidden, cell"
   ]
  },
  {
   "cell_type": "code",
   "execution_count": 17,
   "metadata": {},
   "outputs": [],
   "source": [
    "class DecoderRNN(nn.Module):\n",
    "    def __init__(self, vocab_size: int, embedding_size: int, hidden_size: int, output_size: int, pad_idx: int,\n",
    "                 device, num_layers, dropout_p: float):\n",
    "        super(DecoderRNN, self).__init__()\n",
    "        \n",
    "        self.device = device\n",
    "        \n",
    "        self.hidden_size = hidden_size\n",
    "        self.num_layers = num_layers\n",
    "        \n",
    "        self.embedding = nn.Sequential(\n",
    "            nn.Embedding(vocab_size, embedding_size, pad_idx),\n",
    "            nn.Dropout(dropout_p)\n",
    "        )\n",
    "        self.attn_weights = nn.Sequential(\n",
    "            nn.Linear(hidden_size * 3, hidden_size, bias=False),\n",
    "            nn.Tanh(),\n",
    "            nn.Linear(hidden_size, 1, bias=False),\n",
    "            nn.Softmax(dim=1)\n",
    "        )\n",
    "        self.lstm = nn.LSTM(embedding_size + 2 * hidden_size, hidden_size, num_layers, dropout=0.0)\n",
    "        self.fc_out = nn.Linear(hidden_size, output_size)\n",
    "    \n",
    "    def forward(self, x, encoder_states, hidden, cell):\n",
    "        x = x.unsqueeze(0)\n",
    "        # x_shape: (seq_len=1, batch_size)\n",
    "        # hidden_shape: (1, batch_size, hidden_size)\n",
    "        # cell_shape: (1, batch_size, hidden_size)\n",
    "        encoder_states = torch.transpose(encoder_states, 1, 0)\n",
    "        # encoder_states_shape: (batch_size, seq_len, hidden_size * 2)\n",
    "        embedding = self.embedding(x)\n",
    "        # embedding_shape: (seq_len=1, batch_size, embedding_size)\n",
    "        \n",
    "        seq_len = encoder_states.shape[1]\n",
    "        hidden_repeated = hidden.repeat(seq_len, 1, 1).permute(1, 0, 2)\n",
    "        # hidden_repeated_shape: (batch_size, seq_len, hidden_size)\n",
    "        \n",
    "        attn_weights = self.attn_weights(torch.cat((hidden_repeated, encoder_states), dim=2))\n",
    "        # attn_weights_shape: (batch_size, seq_len, 1)\n",
    "        \n",
    "        context_vec = torch.bmm(attn_weights.permute(0, 2, 1), encoder_states).permute(1, 0, 2)\n",
    "        # context_vec_shape: (1, batch_size, hidden_size * 2)\n",
    "        \n",
    "        combined = torch.cat((embedding, context_vec), dim=2)\n",
    "        # combined_shape: (1, batch_size, embedding_size + 2 * hidden_size)\n",
    "        \n",
    "        lstm_out, (hidden, cell) = self.lstm(combined, (hidden, cell))\n",
    "        # lstm_out_shape: (seq_len=1, batch_size, hidden_size)\n",
    "        fc_out = self.fc_out(lstm_out)\n",
    "        # fc_out_shape: (seq_len=1, batch_size, output_size)\n",
    "        \n",
    "        return fc_out, hidden, cell"
   ]
  },
  {
   "cell_type": "code",
   "execution_count": 18,
   "metadata": {},
   "outputs": [],
   "source": [
    "class Seq2SeqModel(nn.Module):\n",
    "    def __init__(self, encoder_vocab_size: int, decoder_vocab_size: int, embedding_size: int, hidden_size: int, output_size: int,\n",
    "                 pad_idx: int, device, num_layers, dropout_p: float):\n",
    "        super(Seq2SeqModel, self).__init__()\n",
    "        \n",
    "        self.device = device\n",
    "        \n",
    "        self.encoder = EncoderRNN(encoder_vocab_size, embedding_size, hidden_size, pad_idx, device, num_layers, dropout_p).to(device)\n",
    "        self.decoder = DecoderRNN(decoder_vocab_size, embedding_size, hidden_size, output_size, pad_idx, device, num_layers, dropout_p).to(device)\n",
    "        self.decoder_vocab_size = decoder_vocab_size\n",
    "        \n",
    "    def forward(self, input, target, teacher_forcing_ratio=0.5):\n",
    "        batch_size = input.shape[1]\n",
    "        target_len = target.shape[0]\n",
    "        target_vocab_size = self.decoder_vocab_size\n",
    "        \n",
    "        outputs = torch.zeros(target_len, batch_size, target_vocab_size, device=self.device)\n",
    "        \n",
    "        encoder_states, hidden, cell = self.encoder(input)\n",
    "        # hidden, cell shapes: (num_layers * 2, batch_size, hidden_size)\n",
    "        \n",
    "        prev_token_idx = target[0]\n",
    "        # prev_token_shape: (batch_size)\n",
    "        \n",
    "        for t in range(1, target_len):\n",
    "            output, hidden, cell = self.decoder(prev_token_idx, encoder_states, hidden, cell)\n",
    "            # output_shape: (1, batch_size, output_size)\n",
    "            outputs[t] = output.squeeze(0)\n",
    "            \n",
    "            best_prediction = outputs[t].argmax(dim=1)\n",
    "            # best_prediction_shape: (batch_size)\n",
    "            prev_token_idx = target[t] if random() < teacher_forcing_ratio else best_prediction\n",
    "        \n",
    "        return outputs"
   ]
  },
  {
   "cell_type": "markdown",
   "metadata": {},
   "source": [
    "## Обучение модели"
   ]
  },
  {
   "cell_type": "markdown",
   "metadata": {},
   "source": [
    "### Функция сохранения текущего состояния модели"
   ]
  },
  {
   "cell_type": "code",
   "execution_count": 19,
   "metadata": {},
   "outputs": [],
   "source": [
    "def save_model(model, optimizer, epoch, path):\n",
    "    checkpoint = {\n",
    "        'model_state_dict': model.state_dict(),\n",
    "        'optimizer_state_dict': optimizer.state_dict(),\n",
    "        'criterion': criterion,\n",
    "        'epoch': epoch\n",
    "    }\n",
    "    \n",
    "    torch.save(checkpoint, path)"
   ]
  },
  {
   "cell_type": "markdown",
   "metadata": {},
   "source": [
    "### Функция загрузки уже тренировавшейся модели"
   ]
  },
  {
   "cell_type": "code",
   "execution_count": 20,
   "metadata": {},
   "outputs": [],
   "source": [
    "def load_model(model, optimizer, criterion, path, for_inference=True, device=torch.device('cpu')):\n",
    "    checkpoint = torch.load(path, map_location=device)\n",
    "\n",
    "    model.load_state_dict(checkpoint['model_state_dict'])\n",
    "    \n",
    "    if not for_inference:\n",
    "        optimizer.load_state_dict(checkpoint['optimizer_state_dict'])\n",
    "        epoch = checkpoint['epoch']\n",
    "        criterion = checkpoint['criterion']\n",
    "\n",
    "        return epoch"
   ]
  },
  {
   "cell_type": "markdown",
   "metadata": {},
   "source": [
    "### Инициализация гиперпараметров"
   ]
  },
  {
   "cell_type": "code",
   "execution_count": 21,
   "metadata": {},
   "outputs": [],
   "source": [
    "learning_rate = 0.001\n",
    "batch_size = 128\n",
    "epochs_amount = 50\n",
    "hidden_size = 1024\n",
    "embedding_size = 300\n",
    "num_layers = 1\n",
    "max_norm = 1.0\n",
    "dropout_p = 0.5\n",
    "patience = 5\n",
    "output_size = orig_vocab_size\n",
    "pad_idx = lemm_text_transformer.special_tokens_to_idx.get('<PAD>')\n",
    "model_path = './'\n",
    "model_name = 'seq2seq_attention.model'"
   ]
  },
  {
   "cell_type": "code",
   "execution_count": 22,
   "metadata": {},
   "outputs": [],
   "source": [
    "device = torch.device(\"cuda\" if torch.cuda.is_available() else \"cpu\")"
   ]
  },
  {
   "cell_type": "code",
   "execution_count": 23,
   "metadata": {},
   "outputs": [],
   "source": [
    "model = Seq2SeqModel(lemm_vocab_size, orig_vocab_size, embedding_size, hidden_size, output_size, pad_idx, device, num_layers, dropout_p).to(device)"
   ]
  },
  {
   "cell_type": "code",
   "execution_count": 24,
   "metadata": {},
   "outputs": [],
   "source": [
    "optimizer = torch.optim.Adam(model.parameters(), lr=learning_rate)"
   ]
  },
  {
   "cell_type": "code",
   "execution_count": 25,
   "metadata": {},
   "outputs": [],
   "source": [
    "criterion = nn.CrossEntropyLoss(ignore_index=pad_idx)"
   ]
  },
  {
   "cell_type": "code",
   "execution_count": 26,
   "metadata": {},
   "outputs": [
    {
     "name": "stdout",
     "output_type": "stream",
     "text": [
      "No models found at ./\n"
     ]
    }
   ],
   "source": [
    "try:\n",
    "    epoch = load_model(model, optimizer, criterion, model_path + model_name, for_inference=False)\n",
    "    print(f'Loaded model from {model_path}')\n",
    "except:\n",
    "    print(f'No models found at {model_path}')\n",
    "    epoch = 1"
   ]
  },
  {
   "cell_type": "markdown",
   "metadata": {},
   "source": [
    "### Урезание данных для соответствия размеру батча"
   ]
  },
  {
   "cell_type": "code",
   "execution_count": 27,
   "metadata": {},
   "outputs": [],
   "source": [
    "train_lemm_tensor_f = cut_to_fit_batch(train_lemm_tensor, batch_size)\n",
    "train_orig_tensor_f = cut_to_fit_batch(train_orig_tensor, batch_size)\n",
    "\n",
    "test_lemm_tensor_f = cut_to_fit_batch(test_lemm_tensor, batch_size)\n",
    "test_orig_tensor_f = cut_to_fit_batch(test_orig_tensor, batch_size)\n",
    "\n",
    "val_lemm_tensor_f = cut_to_fit_batch(val_lemm_tensor, batch_size)\n",
    "val_orig_tensor_f = cut_to_fit_batch(val_orig_tensor, batch_size)"
   ]
  },
  {
   "cell_type": "markdown",
   "metadata": {},
   "source": [
    "### Инициализация данных итерируемых по батчам"
   ]
  },
  {
   "cell_type": "code",
   "execution_count": 28,
   "metadata": {},
   "outputs": [],
   "source": [
    "train_dataset = TensorDataset(train_lemm_tensor_f, train_orig_tensor_f)\n",
    "test_dataset = TensorDataset(test_lemm_tensor_f, test_orig_tensor_f)\n",
    "val_dataset = TensorDataset(val_lemm_tensor_f, val_orig_tensor_f)"
   ]
  },
  {
   "cell_type": "code",
   "execution_count": 29,
   "metadata": {},
   "outputs": [],
   "source": [
    "train_loader = DataLoader(train_dataset, batch_size=batch_size)\n",
    "test_loader = DataLoader(test_dataset, batch_size=1)\n",
    "val_loader = DataLoader(val_dataset, batch_size=batch_size)"
   ]
  },
  {
   "cell_type": "markdown",
   "metadata": {},
   "source": [
    "### Определение функции проверки работы сети между эпохами обучения"
   ]
  },
  {
   "cell_type": "code",
   "execution_count": 30,
   "metadata": {},
   "outputs": [],
   "source": [
    "def test_evaluate(model, input, target_len):\n",
    "    input = input.to(device)\n",
    "    sos_idx = lemm_text_transformer.special_tokens_to_idx.get('<SOS>')\n",
    "    eos_idx = lemm_text_transformer.special_tokens_to_idx.get('<EOS>')\n",
    "    \n",
    "    with torch.no_grad():\n",
    "        model.eval()\n",
    "        encoder_states, hidden, cell = model.encoder(input)\n",
    "        \n",
    "        predicted_indexes = [sos_idx]\n",
    "        \n",
    "        for _ in range(1, target_len):\n",
    "            prev_idx = torch.tensor([predicted_indexes[-1]], dtype=torch.long, device=device)\n",
    "            \n",
    "            output, hidden, cell = model.decoder(prev_idx, encoder_states, hidden, cell)\n",
    "            output = output.squeeze(0)\n",
    "            \n",
    "            best_prediction = output.argmax(dim=1).item()\n",
    "            \n",
    "            if best_prediction == eos_idx:\n",
    "                break\n",
    "                \n",
    "            predicted_indexes.append(best_prediction)\n",
    "                        \n",
    "        \n",
    "    predicted_tokens = [orig_text_transformer.vocab.idx_to_token(idx) for idx in predicted_indexes]\n",
    "    return predicted_tokens[1:]"
   ]
  },
  {
   "cell_type": "markdown",
   "metadata": {},
   "source": [
    "### Определение функции обучения сети"
   ]
  },
  {
   "cell_type": "code",
   "execution_count": 31,
   "metadata": {},
   "outputs": [],
   "source": [
    "def train(model, optimizer, criterion, train_data, val_data, test_data, epochs_amount, max_norm, patience=2, current_epoch=1, n_prints=5):\n",
    "    min_mean_val_loss = float('+inf')\n",
    "    initial_patiece = patience\n",
    "    print_every = len(train_data) // n_prints\n",
    "    \n",
    "    for epoch in tqdm(range(current_epoch, epochs_amount + 1), 'Epochs'):\n",
    "        print(f'\\nEpoch [{epoch} / {epochs_amount}]')\n",
    "        \n",
    "        model.train()\n",
    "        for iteration, (input, target) in enumerate(tqdm(train_data, 'Epoch training iterations')):\n",
    "            optimizer.zero_grad()\n",
    "            # input = lemm_texts, target = orig_texts\n",
    "            input = torch.transpose(input, 1, 0).to(device)\n",
    "            # input_shape: (seq_len, batch_size)\n",
    "            target = torch.transpose(target, 1, 0).to(device)\n",
    "            # target_shape: (seq_len, batch_size)\n",
    "            output = model(input, target)\n",
    "            # output_shape: (seq_len, batch_size, orig_vocab_size) but need (N, orig_vocab_size)\n",
    "            target = target[1:].reshape(-1)\n",
    "            # now target_shape is (seq_len * batch_size)\n",
    "            orig_vocab_size = output.shape[2]\n",
    "            output = output[1:].reshape(-1, orig_vocab_size)\n",
    "            # now output_shape is (seq_len * batch_size, orig_vocab_size)\n",
    "            \n",
    "            loss = criterion(output, target)\n",
    "            loss.backward()\n",
    "            \n",
    "            torch.nn.utils.clip_grad_norm_(model.parameters(), max_norm=max_norm)\n",
    "            \n",
    "            optimizer.step()\n",
    "            \n",
    "            if iteration % print_every == 0:\n",
    "                print(f'\\tIteration #{iteration}: training loss = {loss.item()}')\n",
    "            elif iteration == len(train_data):\n",
    "                print(f'\\tIteration #{iteration}: training loss = {loss.item()}')\n",
    "            \n",
    "            \n",
    "        with torch.no_grad():\n",
    "            model.eval()\n",
    "            val_loss = []\n",
    "            \n",
    "            for input, target in tqdm(val_data, 'Epoch validating iterations'):\n",
    "                input = torch.transpose(input, 1, 0).to(device)\n",
    "                target = torch.transpose(target, 1, 0).to(device)\n",
    "                \n",
    "                output = model(input, target)\n",
    "                orig_vocab_size = output.shape[2]\n",
    "                output = output[1:].reshape(-1, orig_vocab_size)\n",
    "                target = target[1:].reshape(-1)\n",
    "                \n",
    "                val_loss.append(criterion(output, target).item())\n",
    "            \n",
    "            mean_val_loss = sum(val_loss) / len(val_loss)\n",
    "            print(f'\\tValidation loss = {mean_val_loss}')\n",
    "            if mean_val_loss < min_mean_val_loss:\n",
    "                try:\n",
    "                    save_model(model, optimizer, epoch, model_path + model_name)\n",
    "                    min_mean_val_loss = mean_val_loss\n",
    "                    patience = initial_patiece\n",
    "                except Exception as exc:\n",
    "                    print(exc)\n",
    "            else:\n",
    "                patience -= 1\n",
    "            \n",
    "            test_data = DataLoader(test_data.dataset, batch_size=1, shuffle=True)\n",
    "            for input, target in test_data:\n",
    "                target = target.squeeze(0).to(device)\n",
    "                \n",
    "                input = torch.transpose(input, 1, 0)\n",
    "                target_len = target.shape[0]\n",
    "                \n",
    "                output = test_evaluate(model, input, target_len)\n",
    "                decoded_input = [lemm_text_transformer.vocab.idx_to_token(idx.item()) for idx in input]\n",
    "                decoded_target = [orig_text_transformer.vocab.idx_to_token(idx.item()) for idx in target]\n",
    "                \n",
    "                print(f'\\tInput: {decoded_input}')\n",
    "                print(f'\\tOutput: {output}')\n",
    "                print(f'\\tTarget: {decoded_target}')\n",
    "                break\n",
    "        \n",
    "        if patience == 0:\n",
    "            print(f'\\nModel learning finished due to early stopping')\n",
    "            break\n"
   ]
  },
  {
   "cell_type": "markdown",
   "metadata": {},
   "source": [
    "### Определение функции эксплуатации обученной модели"
   ]
  },
  {
   "cell_type": "code",
   "execution_count": 37,
   "metadata": {},
   "outputs": [],
   "source": [
    "def evaluate(model: Seq2SeqModel, sentence: str, max_seq_len):\n",
    "    input_tensor = lemm_text_transformer.text_to_tensor(sentence, max_seq_len).to(device)\n",
    "    input_tensor = torch.transpose(input_tensor, 1, 0)\n",
    "    sos_idx = lemm_text_transformer.special_tokens_to_idx.get('<SOS>')\n",
    "    eos_idx = lemm_text_transformer.special_tokens_to_idx.get('<EOS>')\n",
    "    \n",
    "    with torch.no_grad():\n",
    "        model.eval()\n",
    "        encoder_states, hidden, cell = model.encoder(input_tensor)\n",
    "        \n",
    "        predicted_indexes = [sos_idx]\n",
    "        \n",
    "#         while True:\n",
    "#             prev_idx = torch.tensor([predicted_indexes[-1]], dtype=torch.long, device=device)\n",
    "            \n",
    "#             output, hidden, cell = model.decoder(prev_idx, hidden, cell)\n",
    "#             output = output.squeeze(0)\n",
    "            \n",
    "#             best_prediction = output.argmax(dim=1).item()\n",
    "            \n",
    "#             if best_prediction == eos_idx:\n",
    "#                 break\n",
    "            \n",
    "#             predicted_indexes.append(best_prediction)\n",
    "                       \n",
    "        \n",
    "        for _ in range(1, max_seq_len):\n",
    "            prev_idx = torch.tensor([predicted_indexes[-1]], dtype=torch.long, device=device)\n",
    "            \n",
    "            output, hidden, cell = model.decoder(prev_idx, encoder_states, hidden, cell)\n",
    "            output = output.squeeze(0)\n",
    "            \n",
    "            best_prediction = output.argmax(dim=1).item()\n",
    "            \n",
    "            if best_prediction == eos_idx:\n",
    "                break\n",
    "                \n",
    "            predicted_indexes.append(best_prediction)\n",
    "        \n",
    "    predicted_tokens = [orig_text_transformer.vocab.idx_to_token(idx) for idx in predicted_indexes]\n",
    "    return predicted_tokens[1:]"
   ]
  },
  {
   "cell_type": "code",
   "execution_count": 33,
   "metadata": {
    "tags": []
   },
   "outputs": [
    {
     "data": {
      "application/vnd.jupyter.widget-view+json": {
       "model_id": "210808e67d114476b0be5ffe15aa6ad4",
       "version_major": 2,
       "version_minor": 0
      },
      "text/plain": [
       "Epochs:   0%|          | 0/50 [00:00<?, ?it/s]"
      ]
     },
     "metadata": {},
     "output_type": "display_data"
    },
    {
     "name": "stdout",
     "output_type": "stream",
     "text": [
      "\n",
      "Epoch [1 / 50]\n"
     ]
    },
    {
     "data": {
      "application/vnd.jupyter.widget-view+json": {
       "model_id": "651e8b21482346428d382aa96dddd46f",
       "version_major": 2,
       "version_minor": 0
      },
      "text/plain": [
       "Epoch training iterations:   0%|          | 0/196 [00:00<?, ?it/s]"
      ]
     },
     "metadata": {},
     "output_type": "display_data"
    },
    {
     "name": "stdout",
     "output_type": "stream",
     "text": [
      "\tIteration #0: training loss = 11.082454681396484\n",
      "\tIteration #39: training loss = 7.634047508239746\n",
      "\tIteration #78: training loss = 7.2979631423950195\n",
      "\tIteration #117: training loss = 7.249302387237549\n",
      "\tIteration #156: training loss = 7.125059127807617\n",
      "\tIteration #195: training loss = 7.19857120513916\n"
     ]
    },
    {
     "data": {
      "application/vnd.jupyter.widget-view+json": {
       "model_id": "e07d8099f30a4377983a413dbf7edd09",
       "version_major": 2,
       "version_minor": 0
      },
      "text/plain": [
       "Epoch validating iterations:   0%|          | 0/10 [00:00<?, ?it/s]"
      ]
     },
     "metadata": {},
     "output_type": "display_data"
    },
    {
     "name": "stdout",
     "output_type": "stream",
     "text": [
      "\tValidation loss = 6.95167555809021\n",
      "\tInput: ['<SOS>', 'ведь', 'природа', '<UNK>', 'и', '<UNK>', 'предельно', 'просто', 'и', 'ясно', 'объяснить', 'даже', 'в', 'школьный', 'учебник', ',', 'и', 'они', 'ничего', 'общий', 'между', 'себя', 'не', 'иметь', ',', 'а', 'даже', 'представлять', 'себя', 'противоположный', 'химический', 'процесс', '.', '<EOS>', '<PAD>', '<PAD>', '<PAD>', '<PAD>', '<PAD>', '<PAD>', '<PAD>', '<PAD>', '<PAD>', '<PAD>', '<PAD>', '<PAD>', '<PAD>', '<PAD>', '<PAD>', '<PAD>', '<PAD>', '<PAD>']\n",
      "\tOutput: ['поэтому', 'в', 'и', 'в', 'и', 'в', 'и', 'в', 'и', 'в', 'и', ',', ',', ',', ',', ',', ',', ',', ',', ',', ',', ',', ',', ',', ',', ',', 'и', '.']\n",
      "\tTarget: ['<SOS>', 'ведь', 'природа', '<UNK>', 'и', '<UNK>', 'предельно', 'просто', 'и', 'ясно', '<UNK>', 'даже', 'в', 'школьном', 'учебнике', ',', 'и', 'они', 'ничего', 'общего', 'между', 'собой', 'не', 'имеют', ',', 'а', 'даже', 'представляют', 'собой', 'противоположные', 'химические', 'процессы', '.', '<EOS>', '<PAD>', '<PAD>', '<PAD>', '<PAD>', '<PAD>', '<PAD>', '<PAD>', '<PAD>', '<PAD>', '<PAD>', '<PAD>', '<PAD>', '<PAD>', '<PAD>', '<PAD>', '<PAD>', '<PAD>', '<PAD>']\n",
      "\n",
      "Epoch [2 / 50]\n"
     ]
    },
    {
     "data": {
      "application/vnd.jupyter.widget-view+json": {
       "model_id": "d0dcb78ff3fe4c09b8e352737c6d1e61",
       "version_major": 2,
       "version_minor": 0
      },
      "text/plain": [
       "Epoch training iterations:   0%|          | 0/196 [00:00<?, ?it/s]"
      ]
     },
     "metadata": {},
     "output_type": "display_data"
    },
    {
     "name": "stdout",
     "output_type": "stream",
     "text": [
      "\tIteration #0: training loss = 6.853405952453613\n",
      "\tIteration #39: training loss = 6.714999198913574\n",
      "\tIteration #78: training loss = 6.599868297576904\n",
      "\tIteration #117: training loss = 6.766123294830322\n",
      "\tIteration #156: training loss = 6.5262603759765625\n",
      "\tIteration #195: training loss = 6.607759952545166\n"
     ]
    },
    {
     "data": {
      "application/vnd.jupyter.widget-view+json": {
       "model_id": "213f9e5863e141b4a11cc041de2e64c7",
       "version_major": 2,
       "version_minor": 0
      },
      "text/plain": [
       "Epoch validating iterations:   0%|          | 0/10 [00:00<?, ?it/s]"
      ]
     },
     "metadata": {},
     "output_type": "display_data"
    },
    {
     "name": "stdout",
     "output_type": "stream",
     "text": [
      "\tValidation loss = 6.7294238090515135\n",
      "\tInput: ['<SOS>', 'такой', 'быть', 'в', 'мой', 'практика', 'впервые', '.', '<EOS>', '<PAD>', '<PAD>', '<PAD>', '<PAD>', '<PAD>', '<PAD>', '<PAD>', '<PAD>', '<PAD>', '<PAD>', '<PAD>', '<PAD>', '<PAD>', '<PAD>', '<PAD>', '<PAD>', '<PAD>', '<PAD>', '<PAD>', '<PAD>', '<PAD>', '<PAD>', '<PAD>', '<PAD>', '<PAD>', '<PAD>', '<PAD>', '<PAD>', '<PAD>', '<PAD>', '<PAD>', '<PAD>', '<PAD>', '<PAD>', '<PAD>', '<PAD>', '<PAD>', '<PAD>', '<PAD>', '<PAD>', '<PAD>', '<PAD>', '<PAD>']\n",
      "\tOutput: ['после', 'в', 'в', 'в', 'в', '.', '.']\n",
      "\tTarget: ['<SOS>', 'такое', 'было', 'в', 'моей', 'практике', 'впервые', '.', '<EOS>', '<PAD>', '<PAD>', '<PAD>', '<PAD>', '<PAD>', '<PAD>', '<PAD>', '<PAD>', '<PAD>', '<PAD>', '<PAD>', '<PAD>', '<PAD>', '<PAD>', '<PAD>', '<PAD>', '<PAD>', '<PAD>', '<PAD>', '<PAD>', '<PAD>', '<PAD>', '<PAD>', '<PAD>', '<PAD>', '<PAD>', '<PAD>', '<PAD>', '<PAD>', '<PAD>', '<PAD>', '<PAD>', '<PAD>', '<PAD>', '<PAD>', '<PAD>', '<PAD>', '<PAD>', '<PAD>', '<PAD>', '<PAD>', '<PAD>', '<PAD>']\n",
      "\n",
      "Epoch [3 / 50]\n"
     ]
    },
    {
     "data": {
      "application/vnd.jupyter.widget-view+json": {
       "model_id": "46c20a132d434dc39a917af135ca5435",
       "version_major": 2,
       "version_minor": 0
      },
      "text/plain": [
       "Epoch training iterations:   0%|          | 0/196 [00:00<?, ?it/s]"
      ]
     },
     "metadata": {},
     "output_type": "display_data"
    },
    {
     "name": "stdout",
     "output_type": "stream",
     "text": [
      "\tIteration #0: training loss = 6.445279121398926\n",
      "\tIteration #39: training loss = 6.359734058380127\n",
      "\tIteration #78: training loss = 6.265806674957275\n",
      "\tIteration #117: training loss = 6.227062225341797\n",
      "\tIteration #156: training loss = 6.406944274902344\n",
      "\tIteration #195: training loss = 6.206048488616943\n"
     ]
    },
    {
     "data": {
      "application/vnd.jupyter.widget-view+json": {
       "model_id": "f96d3d5986054f3983215c4a57ed958f",
       "version_major": 2,
       "version_minor": 0
      },
      "text/plain": [
       "Epoch validating iterations:   0%|          | 0/10 [00:00<?, ?it/s]"
      ]
     },
     "metadata": {},
     "output_type": "display_data"
    },
    {
     "name": "stdout",
     "output_type": "stream",
     "text": [
      "\tValidation loss = 6.369903993606568\n",
      "\tInput: ['<SOS>', 'ветхий', 'завет', 'отражать', 'позиция', 'сторонник', 'культ', 'луна', ',', 'культ', 'смерть', ',', 'в', 'то', 'время', 'как', 'славяный', '-', 'арийский', 'веда', '—', 'сторонник', 'культ', 'солнце', ',', 'культ', 'жизнь', '!', '<EOS>', '<PAD>', '<PAD>', '<PAD>', '<PAD>', '<PAD>', '<PAD>', '<PAD>', '<PAD>', '<PAD>', '<PAD>', '<PAD>', '<PAD>', '<PAD>', '<PAD>', '<PAD>', '<PAD>', '<PAD>', '<PAD>', '<PAD>', '<PAD>', '<PAD>', '<PAD>', '<PAD>']\n",
      "\tOutput: ['после', 'из', 'из', 'с', 'с', ':', ',', ',', ',', ',', 'в', 'то', ',', 'что', 'он', '-', 'то', '-', 'то', '-', 'либо', ',', ',', ',', ',', ',', '.', '!']\n",
      "\tTarget: ['<SOS>', 'ветхий', 'завет', 'отражал', 'позицию', 'сторонников', 'культа', 'луны', ',', 'культа', 'смерти', ',', 'в', 'то', 'время', 'как', 'славяно', '-', 'арийские', 'веды', '—', 'сторонников', 'культа', 'солнца', ',', 'культа', 'жизни', '!', '<EOS>', '<PAD>', '<PAD>', '<PAD>', '<PAD>', '<PAD>', '<PAD>', '<PAD>', '<PAD>', '<PAD>', '<PAD>', '<PAD>', '<PAD>', '<PAD>', '<PAD>', '<PAD>', '<PAD>', '<PAD>', '<PAD>', '<PAD>', '<PAD>', '<PAD>', '<PAD>', '<PAD>']\n",
      "\n",
      "Epoch [4 / 50]\n"
     ]
    },
    {
     "data": {
      "application/vnd.jupyter.widget-view+json": {
       "model_id": "32881efa1c724afd9a1f1a44c2cce7d4",
       "version_major": 2,
       "version_minor": 0
      },
      "text/plain": [
       "Epoch training iterations:   0%|          | 0/196 [00:00<?, ?it/s]"
      ]
     },
     "metadata": {},
     "output_type": "display_data"
    },
    {
     "name": "stdout",
     "output_type": "stream",
     "text": [
      "\tIteration #0: training loss = 6.039766311645508\n",
      "\tIteration #39: training loss = 5.674227237701416\n",
      "\tIteration #78: training loss = 6.015455722808838\n",
      "\tIteration #117: training loss = 5.6120076179504395\n",
      "\tIteration #156: training loss = 5.663328170776367\n",
      "\tIteration #195: training loss = 5.703289985656738\n"
     ]
    },
    {
     "data": {
      "application/vnd.jupyter.widget-view+json": {
       "model_id": "481fc7a8b0a24719bd1b5149fc5bb83a",
       "version_major": 2,
       "version_minor": 0
      },
      "text/plain": [
       "Epoch validating iterations:   0%|          | 0/10 [00:00<?, ?it/s]"
      ]
     },
     "metadata": {},
     "output_type": "display_data"
    },
    {
     "name": "stdout",
     "output_type": "stream",
     "text": [
      "\tValidation loss = 6.0207311630249025\n",
      "\tInput: ['<SOS>', 'когда', 'нечто', 'подобный', '<UNK>', ',', '<UNK>', ',', 'александр', 'и', 'джордж', ',', 'приезжать', 'к', 'я', ',', 'и', 'происходить', 'обсуждение', '.', '<EOS>', '<PAD>', '<PAD>', '<PAD>', '<PAD>', '<PAD>', '<PAD>', '<PAD>', '<PAD>', '<PAD>', '<PAD>', '<PAD>', '<PAD>', '<PAD>', '<PAD>', '<PAD>', '<PAD>', '<PAD>', '<PAD>', '<PAD>', '<PAD>', '<PAD>', '<PAD>', '<PAD>', '<PAD>', '<PAD>', '<PAD>', '<PAD>', '<PAD>', '<PAD>', '<PAD>', '<PAD>']\n",
      "\tOutput: ['когда', 'эти', 'несколько', ',', ',', 'конечно', ',', 'и', 'и', ',', ',', 'я', ',', ',', 'и', 'и', '.', '.', '.']\n",
      "\tTarget: ['<SOS>', 'когда', 'нечто', 'подобное', '<UNK>', ',', '<UNK>', ',', 'александр', 'и', 'джордж', ',', 'приезжали', 'ко', 'мне', ',', 'и', 'происходило', 'обсуждение', '.', '<EOS>', '<PAD>', '<PAD>', '<PAD>', '<PAD>', '<PAD>', '<PAD>', '<PAD>', '<PAD>', '<PAD>', '<PAD>', '<PAD>', '<PAD>', '<PAD>', '<PAD>', '<PAD>', '<PAD>', '<PAD>', '<PAD>', '<PAD>', '<PAD>', '<PAD>', '<PAD>', '<PAD>', '<PAD>', '<PAD>', '<PAD>', '<PAD>', '<PAD>', '<PAD>', '<PAD>', '<PAD>']\n",
      "\n",
      "Epoch [5 / 50]\n"
     ]
    },
    {
     "data": {
      "application/vnd.jupyter.widget-view+json": {
       "model_id": "3a8a5c1bf3a84eab9aac4042e7b24f72",
       "version_major": 2,
       "version_minor": 0
      },
      "text/plain": [
       "Epoch training iterations:   0%|          | 0/196 [00:00<?, ?it/s]"
      ]
     },
     "metadata": {},
     "output_type": "display_data"
    },
    {
     "name": "stdout",
     "output_type": "stream",
     "text": [
      "\tIteration #0: training loss = 5.603286266326904\n",
      "\tIteration #39: training loss = 5.116981029510498\n",
      "\tIteration #78: training loss = 4.952951431274414\n",
      "\tIteration #117: training loss = 5.068946838378906\n",
      "\tIteration #156: training loss = 4.794437885284424\n",
      "\tIteration #195: training loss = 5.021325588226318\n"
     ]
    },
    {
     "data": {
      "application/vnd.jupyter.widget-view+json": {
       "model_id": "1b2cf637b99b4847adf1d067e286e704",
       "version_major": 2,
       "version_minor": 0
      },
      "text/plain": [
       "Epoch validating iterations:   0%|          | 0/10 [00:00<?, ?it/s]"
      ]
     },
     "metadata": {},
     "output_type": "display_data"
    },
    {
     "name": "stdout",
     "output_type": "stream",
     "text": [
      "\tValidation loss = 5.282778596878051\n",
      "\tInput: ['<SOS>', 'теперь', 'в', 'план', 'легавый', 'включаться', 'следующий', 'фаза', ':', 'поиск', 'тот', ',', 'кто', 'не', 'попасть', 'под', 'общий', 'облава', '.', '<EOS>', '<PAD>', '<PAD>', '<PAD>', '<PAD>', '<PAD>', '<PAD>', '<PAD>', '<PAD>', '<PAD>', '<PAD>', '<PAD>', '<PAD>', '<PAD>', '<PAD>', '<PAD>', '<PAD>', '<PAD>', '<PAD>', '<PAD>', '<PAD>', '<PAD>', '<PAD>', '<PAD>', '<PAD>', '<PAD>', '<PAD>', '<PAD>', '<PAD>', '<PAD>', '<PAD>', '<PAD>', '<PAD>']\n",
      "\tOutput: ['петр', 'в', 'результате', 'царя', 'петр', ':', ':', ':', 'того', ',', 'чтобы', 'не', 'не', 'от', 'от', '.', '.']\n",
      "\tTarget: ['<SOS>', 'теперь', 'в', 'плане', 'легавых', '<UNK>', 'следующая', 'фаза', ':', 'поиск', 'тех', ',', 'кто', 'не', 'попал', 'под', 'общую', '<UNK>', '.', '<EOS>', '<PAD>', '<PAD>', '<PAD>', '<PAD>', '<PAD>', '<PAD>', '<PAD>', '<PAD>', '<PAD>', '<PAD>', '<PAD>', '<PAD>', '<PAD>', '<PAD>', '<PAD>', '<PAD>', '<PAD>', '<PAD>', '<PAD>', '<PAD>', '<PAD>', '<PAD>', '<PAD>', '<PAD>', '<PAD>', '<PAD>', '<PAD>', '<PAD>', '<PAD>', '<PAD>', '<PAD>', '<PAD>']\n",
      "\n",
      "Epoch [6 / 50]\n"
     ]
    },
    {
     "data": {
      "application/vnd.jupyter.widget-view+json": {
       "model_id": "660a25f3ab2e4c7084f71a721dcdbd76",
       "version_major": 2,
       "version_minor": 0
      },
      "text/plain": [
       "Epoch training iterations:   0%|          | 0/196 [00:00<?, ?it/s]"
      ]
     },
     "metadata": {},
     "output_type": "display_data"
    },
    {
     "name": "stdout",
     "output_type": "stream",
     "text": [
      "\tIteration #0: training loss = 4.912155628204346\n",
      "\tIteration #39: training loss = 4.529848098754883\n",
      "\tIteration #78: training loss = 4.832138538360596\n",
      "\tIteration #117: training loss = 4.76076078414917\n",
      "\tIteration #156: training loss = 4.5012688636779785\n",
      "\tIteration #195: training loss = 4.259932994842529\n"
     ]
    },
    {
     "data": {
      "application/vnd.jupyter.widget-view+json": {
       "model_id": "f0cbabf9647b4cd3972862bcc1cfd0a7",
       "version_major": 2,
       "version_minor": 0
      },
      "text/plain": [
       "Epoch validating iterations:   0%|          | 0/10 [00:00<?, ?it/s]"
      ]
     },
     "metadata": {},
     "output_type": "display_data"
    },
    {
     "name": "stdout",
     "output_type": "stream",
     "text": [
      "\tValidation loss = 4.864757013320923\n",
      "\tInput: ['<SOS>', 'следовать', 'пример', 'предок', ',', 'он', 'участвовать', 'в', 'весь', 'праздничный', 'церковный', 'богослужение', '.', '<EOS>', '<PAD>', '<PAD>', '<PAD>', '<PAD>', '<PAD>', '<PAD>', '<PAD>', '<PAD>', '<PAD>', '<PAD>', '<PAD>', '<PAD>', '<PAD>', '<PAD>', '<PAD>', '<PAD>', '<PAD>', '<PAD>', '<PAD>', '<PAD>', '<PAD>', '<PAD>', '<PAD>', '<PAD>', '<PAD>', '<PAD>', '<PAD>', '<PAD>', '<PAD>', '<PAD>', '<PAD>', '<PAD>', '<PAD>', '<PAD>', '<PAD>', '<PAD>', '<PAD>', '<PAD>']\n",
      "\tOutput: ['петр', 'петр', 'отовсюду', ',', 'он', 'решил', 'в', 'всех', 'милицейской', 'проституткой', '.', '.']\n",
      "\tTarget: ['<SOS>', 'следуя', 'примеру', 'предков', ',', 'он', 'участвовал', 'во', 'всех', 'праздничных', 'церковных', '<UNK>', '.', '<EOS>', '<PAD>', '<PAD>', '<PAD>', '<PAD>', '<PAD>', '<PAD>', '<PAD>', '<PAD>', '<PAD>', '<PAD>', '<PAD>', '<PAD>', '<PAD>', '<PAD>', '<PAD>', '<PAD>', '<PAD>', '<PAD>', '<PAD>', '<PAD>', '<PAD>', '<PAD>', '<PAD>', '<PAD>', '<PAD>', '<PAD>', '<PAD>', '<PAD>', '<PAD>', '<PAD>', '<PAD>', '<PAD>', '<PAD>', '<PAD>', '<PAD>', '<PAD>', '<PAD>', '<PAD>']\n",
      "\n",
      "Epoch [7 / 50]\n"
     ]
    },
    {
     "data": {
      "application/vnd.jupyter.widget-view+json": {
       "model_id": "e1d82ea39bd14b7f95850320d9ce8c95",
       "version_major": 2,
       "version_minor": 0
      },
      "text/plain": [
       "Epoch training iterations:   0%|          | 0/196 [00:00<?, ?it/s]"
      ]
     },
     "metadata": {},
     "output_type": "display_data"
    },
    {
     "name": "stdout",
     "output_type": "stream",
     "text": [
      "\tIteration #0: training loss = 4.36695671081543\n",
      "\tIteration #39: training loss = 4.136098384857178\n",
      "\tIteration #78: training loss = 3.755770683288574\n",
      "\tIteration #117: training loss = 3.9579415321350098\n",
      "\tIteration #156: training loss = 3.8201799392700195\n",
      "\tIteration #195: training loss = 3.8186757564544678\n"
     ]
    },
    {
     "data": {
      "application/vnd.jupyter.widget-view+json": {
       "model_id": "6bda2a4fbefd4b3686206641bd18e172",
       "version_major": 2,
       "version_minor": 0
      },
      "text/plain": [
       "Epoch validating iterations:   0%|          | 0/10 [00:00<?, ?it/s]"
      ]
     },
     "metadata": {},
     "output_type": "display_data"
    },
    {
     "name": "stdout",
     "output_type": "stream",
     "text": [
      "\tValidation loss = 4.356026935577392\n",
      "\tInput: ['<SOS>', 'они', 'слушать', 'перевод', 'мой', 'слово', ',', 'но', 'говорить', 'на', 'английский', 'язык', 'переводчик', 'не', 'обладать', 'ни', 'гипноз', ',', 'ни', 'любой', 'другой', 'словесный', 'внушение', ',', 'и', 'к', 'тот', 'же', ',', 'многие', 'свой', 'действие', 'я', 'не', 'комментировать', ',', 'а', 'только', 'спрашивать', 'через', 'переводчик', ',', 'каков', 'результат', 'мой', 'действие', '.', '<EOS>', '<PAD>', '<PAD>', '<PAD>', '<PAD>']\n",
      "\tOutput: ['они', 'часто', 'вместе', 'моего', 'слова', ',', 'но', 'никто', 'на', 'уровне', 'уровне', 'представления', 'не', 'менее', 'ни', ',', ',', 'ни', 'к', 'других', 'рода', ',', ',', 'и', 'к', 'тому', 'же', ',', 'каждый', 'своей', 'жизни', 'я', 'не', 'менее', ',', 'а', 'только', 'перед', 'через', 'тем', ',', 'конечно', 'моя', 'моего', '.', '.']\n",
      "\tTarget: ['<SOS>', 'они', 'слушали', 'перевод', 'моих', 'слов', ',', 'но', '<UNK>', 'на', 'английском', 'языке', 'переводчик', 'не', 'обладал', 'ни', 'гипнозом', ',', 'ни', 'любым', 'другим', 'словесным', 'внушением', ',', 'и', 'к', 'тому', 'же', ',', 'многие', 'свои', 'действия', 'я', 'не', 'комментировал', ',', 'а', 'только', 'спрашивал', 'через', 'переводчика', ',', 'каков', 'результат', 'моих', 'действий', '.', '<EOS>', '<PAD>', '<PAD>', '<PAD>', '<PAD>']\n",
      "\n",
      "Epoch [8 / 50]\n"
     ]
    },
    {
     "data": {
      "application/vnd.jupyter.widget-view+json": {
       "model_id": "154ddbe916534a698b19113fd0f901d5",
       "version_major": 2,
       "version_minor": 0
      },
      "text/plain": [
       "Epoch training iterations:   0%|          | 0/196 [00:00<?, ?it/s]"
      ]
     },
     "metadata": {},
     "output_type": "display_data"
    },
    {
     "name": "stdout",
     "output_type": "stream",
     "text": [
      "\tIteration #0: training loss = 3.908857583999634\n",
      "\tIteration #39: training loss = 3.518831729888916\n",
      "\tIteration #78: training loss = 3.403921365737915\n",
      "\tIteration #117: training loss = 3.600376605987549\n",
      "\tIteration #156: training loss = 2.9534521102905273\n",
      "\tIteration #195: training loss = 3.3188564777374268\n"
     ]
    },
    {
     "data": {
      "application/vnd.jupyter.widget-view+json": {
       "model_id": "7c39fc4fd52642829597ee7ca1b0b4d0",
       "version_major": 2,
       "version_minor": 0
      },
      "text/plain": [
       "Epoch validating iterations:   0%|          | 0/10 [00:00<?, ?it/s]"
      ]
     },
     "metadata": {},
     "output_type": "display_data"
    },
    {
     "name": "stdout",
     "output_type": "stream",
     "text": [
      "\tValidation loss = 3.940246272087097\n",
      "\tInput: ['<SOS>', 'в', 'следующий', 'мгновение', 'мы', 'буквально', 'упасть', 'на', 'шпала', '.', '<EOS>', '<PAD>', '<PAD>', '<PAD>', '<PAD>', '<PAD>', '<PAD>', '<PAD>', '<PAD>', '<PAD>', '<PAD>', '<PAD>', '<PAD>', '<PAD>', '<PAD>', '<PAD>', '<PAD>', '<PAD>', '<PAD>', '<PAD>', '<PAD>', '<PAD>', '<PAD>', '<PAD>', '<PAD>', '<PAD>', '<PAD>', '<PAD>', '<PAD>', '<PAD>', '<PAD>', '<PAD>', '<PAD>', '<PAD>', '<PAD>', '<PAD>', '<PAD>', '<PAD>', '<PAD>', '<PAD>', '<PAD>', '<PAD>']\n",
      "\tOutput: ['в', 'конце', 'вмешивалась', 'мы', 'оказались', 'гуляний', 'на', 'каменоломни', '.']\n",
      "\tTarget: ['<SOS>', 'в', 'следующее', 'мгновение', 'мы', 'буквально', 'упали', 'на', 'шпалы', '.', '<EOS>', '<PAD>', '<PAD>', '<PAD>', '<PAD>', '<PAD>', '<PAD>', '<PAD>', '<PAD>', '<PAD>', '<PAD>', '<PAD>', '<PAD>', '<PAD>', '<PAD>', '<PAD>', '<PAD>', '<PAD>', '<PAD>', '<PAD>', '<PAD>', '<PAD>', '<PAD>', '<PAD>', '<PAD>', '<PAD>', '<PAD>', '<PAD>', '<PAD>', '<PAD>', '<PAD>', '<PAD>', '<PAD>', '<PAD>', '<PAD>', '<PAD>', '<PAD>', '<PAD>', '<PAD>', '<PAD>', '<PAD>', '<PAD>']\n",
      "\n",
      "Epoch [9 / 50]\n"
     ]
    },
    {
     "data": {
      "application/vnd.jupyter.widget-view+json": {
       "model_id": "a63d26bc423b4620b31725c2bf1a0cd9",
       "version_major": 2,
       "version_minor": 0
      },
      "text/plain": [
       "Epoch training iterations:   0%|          | 0/196 [00:00<?, ?it/s]"
      ]
     },
     "metadata": {},
     "output_type": "display_data"
    },
    {
     "name": "stdout",
     "output_type": "stream",
     "text": [
      "\tIteration #0: training loss = 3.3342554569244385\n",
      "\tIteration #39: training loss = 2.9525489807128906\n",
      "\tIteration #78: training loss = 2.8890109062194824\n",
      "\tIteration #117: training loss = 3.0662262439727783\n",
      "\tIteration #156: training loss = 2.2410967350006104\n",
      "\tIteration #195: training loss = 2.911940813064575\n"
     ]
    },
    {
     "data": {
      "application/vnd.jupyter.widget-view+json": {
       "model_id": "564147728eba4d0797e0f0fbd91d7634",
       "version_major": 2,
       "version_minor": 0
      },
      "text/plain": [
       "Epoch validating iterations:   0%|          | 0/10 [00:00<?, ?it/s]"
      ]
     },
     "metadata": {},
     "output_type": "display_data"
    },
    {
     "name": "stdout",
     "output_type": "stream",
     "text": [
      "\tValidation loss = 3.7429566383361816\n",
      "\tInput: ['<SOS>', 'если', 'всё', 'же', 'что', '-', 'то', 'происходить', ',', 'братва', 'всегда', 'находить', 'дипломатический', 'разрешение', 'конфликт', '.', '<EOS>', '<PAD>', '<PAD>', '<PAD>', '<PAD>', '<PAD>', '<PAD>', '<PAD>', '<PAD>', '<PAD>', '<PAD>', '<PAD>', '<PAD>', '<PAD>', '<PAD>', '<PAD>', '<PAD>', '<PAD>', '<PAD>', '<PAD>', '<PAD>', '<PAD>', '<PAD>', '<PAD>', '<PAD>', '<PAD>', '<PAD>', '<PAD>', '<PAD>', '<PAD>', '<PAD>', '<PAD>', '<PAD>', '<PAD>', '<PAD>', '<PAD>']\n",
      "\tOutput: ['если', 'все', 'же', 'что', '-', 'то', 'происходило', ',', 'знатоки', 'всегда', 'любил', 'милицейской', 'морального', 'партнёру', '.']\n",
      "\tTarget: ['<SOS>', 'если', 'все', 'же', 'что', '-', 'то', 'происходило', ',', 'братва', 'всегда', 'находила', '<UNK>', 'разрешение', '<UNK>', '.', '<EOS>', '<PAD>', '<PAD>', '<PAD>', '<PAD>', '<PAD>', '<PAD>', '<PAD>', '<PAD>', '<PAD>', '<PAD>', '<PAD>', '<PAD>', '<PAD>', '<PAD>', '<PAD>', '<PAD>', '<PAD>', '<PAD>', '<PAD>', '<PAD>', '<PAD>', '<PAD>', '<PAD>', '<PAD>', '<PAD>', '<PAD>', '<PAD>', '<PAD>', '<PAD>', '<PAD>', '<PAD>', '<PAD>', '<PAD>', '<PAD>', '<PAD>']\n",
      "\n",
      "Epoch [10 / 50]\n"
     ]
    },
    {
     "data": {
      "application/vnd.jupyter.widget-view+json": {
       "model_id": "dbf2a9e82d8646338567cd36b8a3a642",
       "version_major": 2,
       "version_minor": 0
      },
      "text/plain": [
       "Epoch training iterations:   0%|          | 0/196 [00:00<?, ?it/s]"
      ]
     },
     "metadata": {},
     "output_type": "display_data"
    },
    {
     "name": "stdout",
     "output_type": "stream",
     "text": [
      "\tIteration #0: training loss = 3.117933750152588\n",
      "\tIteration #39: training loss = 2.3539350032806396\n",
      "\tIteration #78: training loss = 2.546858787536621\n",
      "\tIteration #117: training loss = 2.991727352142334\n",
      "\tIteration #156: training loss = 1.9534103870391846\n",
      "\tIteration #195: training loss = 2.3393683433532715\n"
     ]
    },
    {
     "data": {
      "application/vnd.jupyter.widget-view+json": {
       "model_id": "ed3d668486ee4f5590674975fed97aa4",
       "version_major": 2,
       "version_minor": 0
      },
      "text/plain": [
       "Epoch validating iterations:   0%|          | 0/10 [00:00<?, ?it/s]"
      ]
     },
     "metadata": {},
     "output_type": "display_data"
    },
    {
     "name": "stdout",
     "output_type": "stream",
     "text": [
      "\tValidation loss = 3.456839442253113\n",
      "\tInput: ['<SOS>', 'они', 'можно', 'быть', 'заблаговременно', 'вычислить', '.', '<EOS>', '<PAD>', '<PAD>', '<PAD>', '<PAD>', '<PAD>', '<PAD>', '<PAD>', '<PAD>', '<PAD>', '<PAD>', '<PAD>', '<PAD>', '<PAD>', '<PAD>', '<PAD>', '<PAD>', '<PAD>', '<PAD>', '<PAD>', '<PAD>', '<PAD>', '<PAD>', '<PAD>', '<PAD>', '<PAD>', '<PAD>', '<PAD>', '<PAD>', '<PAD>', '<PAD>', '<PAD>', '<PAD>', '<PAD>', '<PAD>', '<PAD>', '<PAD>', '<PAD>', '<PAD>', '<PAD>', '<PAD>', '<PAD>', '<PAD>', '<PAD>', '<PAD>']\n",
      "\tOutput: ['их', 'можно', 'было', 'настроено', 'решена', '.']\n",
      "\tTarget: ['<SOS>', 'их', 'можно', 'было', 'заблаговременно', 'вычислить', '.', '<EOS>', '<PAD>', '<PAD>', '<PAD>', '<PAD>', '<PAD>', '<PAD>', '<PAD>', '<PAD>', '<PAD>', '<PAD>', '<PAD>', '<PAD>', '<PAD>', '<PAD>', '<PAD>', '<PAD>', '<PAD>', '<PAD>', '<PAD>', '<PAD>', '<PAD>', '<PAD>', '<PAD>', '<PAD>', '<PAD>', '<PAD>', '<PAD>', '<PAD>', '<PAD>', '<PAD>', '<PAD>', '<PAD>', '<PAD>', '<PAD>', '<PAD>', '<PAD>', '<PAD>', '<PAD>', '<PAD>', '<PAD>', '<PAD>', '<PAD>', '<PAD>', '<PAD>']\n",
      "\n",
      "Epoch [11 / 50]\n"
     ]
    },
    {
     "data": {
      "application/vnd.jupyter.widget-view+json": {
       "model_id": "1ffc8fc7805642d98d8fd5fc3fd845b7",
       "version_major": 2,
       "version_minor": 0
      },
      "text/plain": [
       "Epoch training iterations:   0%|          | 0/196 [00:00<?, ?it/s]"
      ]
     },
     "metadata": {},
     "output_type": "display_data"
    },
    {
     "name": "stdout",
     "output_type": "stream",
     "text": [
      "\tIteration #0: training loss = 2.6719090938568115\n",
      "\tIteration #39: training loss = 2.098388195037842\n",
      "\tIteration #78: training loss = 1.9973584413528442\n",
      "\tIteration #117: training loss = 2.266570568084717\n",
      "\tIteration #156: training loss = 1.7108516693115234\n",
      "\tIteration #195: training loss = 1.7551660537719727\n"
     ]
    },
    {
     "data": {
      "application/vnd.jupyter.widget-view+json": {
       "model_id": "1291b3bbecf849e5a3e27561bb88580e",
       "version_major": 2,
       "version_minor": 0
      },
      "text/plain": [
       "Epoch validating iterations:   0%|          | 0/10 [00:00<?, ?it/s]"
      ]
     },
     "metadata": {},
     "output_type": "display_data"
    },
    {
     "name": "stdout",
     "output_type": "stream",
     "text": [
      "\tValidation loss = 3.237953305244446\n",
      "\tInput: ['<SOS>', 'до', 'пересылка', 'мы', 'ехать', 'где', '-', 'то', 'с', 'полчаса', '.', '<EOS>', '<PAD>', '<PAD>', '<PAD>', '<PAD>', '<PAD>', '<PAD>', '<PAD>', '<PAD>', '<PAD>', '<PAD>', '<PAD>', '<PAD>', '<PAD>', '<PAD>', '<PAD>', '<PAD>', '<PAD>', '<PAD>', '<PAD>', '<PAD>', '<PAD>', '<PAD>', '<PAD>', '<PAD>', '<PAD>', '<PAD>', '<PAD>', '<PAD>', '<PAD>', '<PAD>', '<PAD>', '<PAD>', '<PAD>', '<PAD>', '<PAD>', '<PAD>', '<PAD>', '<PAD>', '<PAD>', '<PAD>']\n",
      "\tOutput: ['до', 'прибыла', 'нас', 'обычно', 'где', '-', 'то', 'с', 'надеждой', '.']\n",
      "\tTarget: ['<SOS>', 'до', 'пересылки', 'мы', 'ехали', 'где', '-', 'то', 'с', 'полчаса', '.', '<EOS>', '<PAD>', '<PAD>', '<PAD>', '<PAD>', '<PAD>', '<PAD>', '<PAD>', '<PAD>', '<PAD>', '<PAD>', '<PAD>', '<PAD>', '<PAD>', '<PAD>', '<PAD>', '<PAD>', '<PAD>', '<PAD>', '<PAD>', '<PAD>', '<PAD>', '<PAD>', '<PAD>', '<PAD>', '<PAD>', '<PAD>', '<PAD>', '<PAD>', '<PAD>', '<PAD>', '<PAD>', '<PAD>', '<PAD>', '<PAD>', '<PAD>', '<PAD>', '<PAD>', '<PAD>', '<PAD>', '<PAD>']\n",
      "\n",
      "Epoch [12 / 50]\n"
     ]
    },
    {
     "data": {
      "application/vnd.jupyter.widget-view+json": {
       "model_id": "5084610d70fa4258bf9e1e19d88d4afb",
       "version_major": 2,
       "version_minor": 0
      },
      "text/plain": [
       "Epoch training iterations:   0%|          | 0/196 [00:00<?, ?it/s]"
      ]
     },
     "metadata": {},
     "output_type": "display_data"
    },
    {
     "name": "stdout",
     "output_type": "stream",
     "text": [
      "\tIteration #0: training loss = 1.8073463439941406\n",
      "\tIteration #39: training loss = 1.6551196575164795\n",
      "\tIteration #78: training loss = 1.7582452297210693\n",
      "\tIteration #117: training loss = 1.9105795621871948\n",
      "\tIteration #156: training loss = 1.3680821657180786\n",
      "\tIteration #195: training loss = 1.2798151969909668\n"
     ]
    },
    {
     "data": {
      "application/vnd.jupyter.widget-view+json": {
       "model_id": "d29420524d844ec2bddefe3ba144d243",
       "version_major": 2,
       "version_minor": 0
      },
      "text/plain": [
       "Epoch validating iterations:   0%|          | 0/10 [00:00<?, ?it/s]"
      ]
     },
     "metadata": {},
     "output_type": "display_data"
    },
    {
     "name": "stdout",
     "output_type": "stream",
     "text": [
      "\tValidation loss = 3.0165102958679197\n",
      "\tInput: ['<SOS>', 'поздний', 'он', 'обращаться', 'к', 'я', 'по', 'повод', 'он', 'здоровье', ',', 'и', 'всегда', 'когда', 'он', 'приходить', 'к', 'я', 'в', 'мой', 'офис', ',', 'мы', 'с', 'они', 'говорить', 'только', 'по', '-', 'английски', ',', 'и', 'он', 'даже', 'не', 'раз', 'не', 'попросить', 'я', 'произнести', 'что', '-', 'нибыть', 'по', '-', 'русски', ',', 'что', 'я', 'показаться', 'очень', '<EOS>']\n",
      "\tOutput: ['позже', 'он', 'дал', 'ко', 'мне', 'по', 'поводу', 'его', 'здоровья', ',', 'и', 'всегда', 'когда', 'он', 'обратился', 'ко', 'мне', 'в', 'моём', 'офисе', ',', 'мы', 'с', 'ним', 'говорил', 'только', 'по', '-', 'английски', ',', 'и', 'он', 'даже', 'не', 'раз', 'не', 'попросил', 'меня', 'закончится', 'что', '-', 'нибудь', 'по', '-', 'русски', ',', 'что', 'я', 'произвёл', 'очень']\n",
      "\tTarget: ['<SOS>', 'позже', 'он', 'обращался', 'ко', 'мне', 'по', 'поводу', 'его', 'здоровья', ',', 'и', 'всегда', 'когда', 'он', 'приходил', 'ко', 'мне', 'в', 'мой', 'офис', ',', 'мы', 'с', 'ним', 'говорили', 'только', 'по', '-', 'английски', ',', 'и', 'он', 'даже', 'не', 'разу', 'не', 'попросил', 'меня', 'произнести', 'что', '-', 'нибудь', 'по', '-', 'русски', ',', 'что', 'мне', 'показалось', 'очень', '<EOS>']\n",
      "\n",
      "Epoch [13 / 50]\n"
     ]
    },
    {
     "data": {
      "application/vnd.jupyter.widget-view+json": {
       "model_id": "14ff918aa7d342678c5557a56bf02d7c",
       "version_major": 2,
       "version_minor": 0
      },
      "text/plain": [
       "Epoch training iterations:   0%|          | 0/196 [00:00<?, ?it/s]"
      ]
     },
     "metadata": {},
     "output_type": "display_data"
    },
    {
     "name": "stdout",
     "output_type": "stream",
     "text": [
      "\tIteration #0: training loss = 1.4879478216171265\n",
      "\tIteration #39: training loss = 1.683529019355774\n",
      "\tIteration #78: training loss = 1.1930251121520996\n",
      "\tIteration #117: training loss = 1.3972703218460083\n",
      "\tIteration #156: training loss = 1.0800453424453735\n",
      "\tIteration #195: training loss = 0.8580084443092346\n"
     ]
    },
    {
     "data": {
      "application/vnd.jupyter.widget-view+json": {
       "model_id": "a93533b02e2f42d79f489d0418ae471e",
       "version_major": 2,
       "version_minor": 0
      },
      "text/plain": [
       "Epoch validating iterations:   0%|          | 0/10 [00:00<?, ?it/s]"
      ]
     },
     "metadata": {},
     "output_type": "display_data"
    },
    {
     "name": "stdout",
     "output_type": "stream",
     "text": [
      "\tValidation loss = 2.905629539489746\n",
      "\tInput: ['<SOS>', 'и', 'что', 'не', 'существовать', 'никакой', 'другой', 'метод', 'воздействие', 'на', 'человек', ',', 'как', 'только', 'через', 'физический', 'прибор', ',', 'излучение', 'который', 'всегда', 'можно', 'измерить', 'другой', 'реальный', 'прибор', '.', '<EOS>', '<PAD>', '<PAD>', '<PAD>', '<PAD>', '<PAD>', '<PAD>', '<PAD>', '<PAD>', '<PAD>', '<PAD>', '<PAD>', '<PAD>', '<PAD>', '<PAD>', '<PAD>', '<PAD>', '<PAD>', '<PAD>', '<PAD>', '<PAD>', '<PAD>', '<PAD>', '<PAD>', '<PAD>']\n",
      "\tOutput: ['и', 'что', 'не', 'существует', 'никакой', 'других', 'методы', 'воздействия', 'на', 'человека', ',', 'как', 'только', 'через', 'физического', 'прибор', ',', 'чертыхнувшись', 'которой', 'всегда', 'можно', 'окружающие', 'других', 'реальной', 'приборы', '.']\n",
      "\tTarget: ['<SOS>', 'и', 'что', 'не', 'существует', 'никаких', 'других', 'методов', 'воздействия', 'на', 'человека', ',', 'как', 'только', 'через', 'физические', 'приборы', ',', 'излучения', 'которых', 'всегда', 'можно', 'измерить', 'другими', 'реальными', 'приборами', '.', '<EOS>', '<PAD>', '<PAD>', '<PAD>', '<PAD>', '<PAD>', '<PAD>', '<PAD>', '<PAD>', '<PAD>', '<PAD>', '<PAD>', '<PAD>', '<PAD>', '<PAD>', '<PAD>', '<PAD>', '<PAD>', '<PAD>', '<PAD>', '<PAD>', '<PAD>', '<PAD>', '<PAD>', '<PAD>']\n",
      "\n",
      "Epoch [14 / 50]\n"
     ]
    },
    {
     "data": {
      "application/vnd.jupyter.widget-view+json": {
       "model_id": "7bc34d2d52194be5b5c036a32968f231",
       "version_major": 2,
       "version_minor": 0
      },
      "text/plain": [
       "Epoch training iterations:   0%|          | 0/196 [00:00<?, ?it/s]"
      ]
     },
     "metadata": {},
     "output_type": "display_data"
    },
    {
     "name": "stdout",
     "output_type": "stream",
     "text": [
      "\tIteration #0: training loss = 1.1077768802642822\n",
      "\tIteration #39: training loss = 1.0148813724517822\n",
      "\tIteration #78: training loss = 0.8488258719444275\n",
      "\tIteration #117: training loss = 1.0543283224105835\n",
      "\tIteration #156: training loss = 0.7134106755256653\n",
      "\tIteration #195: training loss = 0.6986494064331055\n"
     ]
    },
    {
     "data": {
      "application/vnd.jupyter.widget-view+json": {
       "model_id": "0a1c604821ae411a81ed8d6338939275",
       "version_major": 2,
       "version_minor": 0
      },
      "text/plain": [
       "Epoch validating iterations:   0%|          | 0/10 [00:00<?, ?it/s]"
      ]
     },
     "metadata": {},
     "output_type": "display_data"
    },
    {
     "name": "stdout",
     "output_type": "stream",
     "text": [
      "\tValidation loss = 2.8169330835342405\n",
      "\tInput: ['<SOS>', 'приближаться', 'очередной', 'проверка', ',', 'что', 'всегда', 'сопровождаться', 'дополнительный', 'суета', 'в', 'наш', 'воинский', 'часть', ',', 'как', 'и', 'в', 'любой', 'другой', '.', '<EOS>', '<PAD>', '<PAD>', '<PAD>', '<PAD>', '<PAD>', '<PAD>', '<PAD>', '<PAD>', '<PAD>', '<PAD>', '<PAD>', '<PAD>', '<PAD>', '<PAD>', '<PAD>', '<PAD>', '<PAD>', '<PAD>', '<PAD>', '<PAD>', '<PAD>', '<PAD>', '<PAD>', '<PAD>', '<PAD>', '<PAD>', '<PAD>', '<PAD>', '<PAD>', '<PAD>']\n",
      "\tOutput: ['московские', 'очередной', 'мразье', ',', 'что', 'всегда', 'сопровождалось', 'дополнительных', 'суета', 'в', 'нашем', 'валютный', 'части', ',', 'как', 'и', 'в', 'любой', 'других', '.']\n",
      "\tTarget: ['<SOS>', 'приближалась', 'очередная', 'проверка', ',', 'что', 'всегда', 'сопровождалось', 'дополнительной', 'суетой', 'в', 'нашей', 'воинской', 'части', ',', 'как', 'и', 'в', 'любой', 'другой', '.', '<EOS>', '<PAD>', '<PAD>', '<PAD>', '<PAD>', '<PAD>', '<PAD>', '<PAD>', '<PAD>', '<PAD>', '<PAD>', '<PAD>', '<PAD>', '<PAD>', '<PAD>', '<PAD>', '<PAD>', '<PAD>', '<PAD>', '<PAD>', '<PAD>', '<PAD>', '<PAD>', '<PAD>', '<PAD>', '<PAD>', '<PAD>', '<PAD>', '<PAD>', '<PAD>', '<PAD>']\n",
      "\n",
      "Epoch [15 / 50]\n"
     ]
    },
    {
     "data": {
      "application/vnd.jupyter.widget-view+json": {
       "model_id": "3dd1e384ba5346e49587aa6b9d90d09a",
       "version_major": 2,
       "version_minor": 0
      },
      "text/plain": [
       "Epoch training iterations:   0%|          | 0/196 [00:00<?, ?it/s]"
      ]
     },
     "metadata": {},
     "output_type": "display_data"
    },
    {
     "name": "stdout",
     "output_type": "stream",
     "text": [
      "\tIteration #0: training loss = 0.8136497735977173\n",
      "\tIteration #39: training loss = 0.755009651184082\n",
      "\tIteration #78: training loss = 0.767555832862854\n",
      "\tIteration #117: training loss = 0.8855839371681213\n",
      "\tIteration #156: training loss = 0.6961755752563477\n",
      "\tIteration #195: training loss = 0.6503024697303772\n"
     ]
    },
    {
     "data": {
      "application/vnd.jupyter.widget-view+json": {
       "model_id": "1b455d7e43d54f5aab053aff2ee276d8",
       "version_major": 2,
       "version_minor": 0
      },
      "text/plain": [
       "Epoch validating iterations:   0%|          | 0/10 [00:00<?, ?it/s]"
      ]
     },
     "metadata": {},
     "output_type": "display_data"
    },
    {
     "name": "stdout",
     "output_type": "stream",
     "text": [
      "\tValidation loss = 2.740530180931091\n",
      "\tInput: ['<SOS>', 'именно', 'поэтому', 'в', 'этот', 'маленький', 'комната', 'мы', 'с', 'светлана', 'вернуться', 'к', 'свой', 'другой', 'работа', '.', '<EOS>', '<PAD>', '<PAD>', '<PAD>', '<PAD>', '<PAD>', '<PAD>', '<PAD>', '<PAD>', '<PAD>', '<PAD>', '<PAD>', '<PAD>', '<PAD>', '<PAD>', '<PAD>', '<PAD>', '<PAD>', '<PAD>', '<PAD>', '<PAD>', '<PAD>', '<PAD>', '<PAD>', '<PAD>', '<PAD>', '<PAD>', '<PAD>', '<PAD>', '<PAD>', '<PAD>', '<PAD>', '<PAD>', '<PAD>', '<PAD>', '<PAD>']\n",
      "\tOutput: ['именно', 'поэтому', 'в', 'этих', 'маленький', 'комнату', 'мы', 'со', 'светланой', 'вернулся', 'к', 'своим', 'других', 'работе', '.']\n",
      "\tTarget: ['<SOS>', 'именно', 'поэтому', 'в', 'этой', 'маленькой', 'комнате', 'мы', 'со', 'светланой', 'вернулись', 'к', 'своей', 'другой', 'работе', '.', '<EOS>', '<PAD>', '<PAD>', '<PAD>', '<PAD>', '<PAD>', '<PAD>', '<PAD>', '<PAD>', '<PAD>', '<PAD>', '<PAD>', '<PAD>', '<PAD>', '<PAD>', '<PAD>', '<PAD>', '<PAD>', '<PAD>', '<PAD>', '<PAD>', '<PAD>', '<PAD>', '<PAD>', '<PAD>', '<PAD>', '<PAD>', '<PAD>', '<PAD>', '<PAD>', '<PAD>', '<PAD>', '<PAD>', '<PAD>', '<PAD>', '<PAD>']\n",
      "\n",
      "Epoch [16 / 50]\n"
     ]
    },
    {
     "data": {
      "application/vnd.jupyter.widget-view+json": {
       "model_id": "e5147de12e434c5590acfd5b5100e8d0",
       "version_major": 2,
       "version_minor": 0
      },
      "text/plain": [
       "Epoch training iterations:   0%|          | 0/196 [00:00<?, ?it/s]"
      ]
     },
     "metadata": {},
     "output_type": "display_data"
    },
    {
     "name": "stdout",
     "output_type": "stream",
     "text": [
      "\tIteration #0: training loss = 0.5091155171394348\n",
      "\tIteration #39: training loss = 0.5577375292778015\n",
      "\tIteration #78: training loss = 0.7372707724571228\n",
      "\tIteration #117: training loss = 0.7804316878318787\n",
      "\tIteration #156: training loss = 0.5233370065689087\n",
      "\tIteration #195: training loss = 0.47181227803230286\n"
     ]
    },
    {
     "data": {
      "application/vnd.jupyter.widget-view+json": {
       "model_id": "107cc7a7158649fca23ae6ddb287dd3a",
       "version_major": 2,
       "version_minor": 0
      },
      "text/plain": [
       "Epoch validating iterations:   0%|          | 0/10 [00:00<?, ?it/s]"
      ]
     },
     "metadata": {},
     "output_type": "display_data"
    },
    {
     "name": "stdout",
     "output_type": "stream",
     "text": [
      "\tValidation loss = 2.681762623786926\n",
      "\tInput: ['<SOS>', 'этот', 'неразрывный', 'сцепка', 'с', 'наркота', ',', 'скорее', 'весь', ',', 'объясняться', 'образ', 'наш', 'жизнь', '.', '<EOS>', '<PAD>', '<PAD>', '<PAD>', '<PAD>', '<PAD>', '<PAD>', '<PAD>', '<PAD>', '<PAD>', '<PAD>', '<PAD>', '<PAD>', '<PAD>', '<PAD>', '<PAD>', '<PAD>', '<PAD>', '<PAD>', '<PAD>', '<PAD>', '<PAD>', '<PAD>', '<PAD>', '<PAD>', '<PAD>', '<PAD>', '<PAD>', '<PAD>', '<PAD>', '<PAD>', '<PAD>', '<PAD>', '<PAD>', '<PAD>', '<PAD>', '<PAD>']\n",
      "\tOutput: ['этот', 'юный', 'богослужений', 'с', 'бреднем', ',', 'скорее', 'всего', ',', 'перепродавали', 'образом', 'нашим', 'жизнью', '.']\n",
      "\tTarget: ['<SOS>', 'эта', '<UNK>', '<UNK>', 'с', '<UNK>', ',', 'скорее', 'всего', ',', 'объяснялась', 'образом', 'нашей', 'жизни', '.', '<EOS>', '<PAD>', '<PAD>', '<PAD>', '<PAD>', '<PAD>', '<PAD>', '<PAD>', '<PAD>', '<PAD>', '<PAD>', '<PAD>', '<PAD>', '<PAD>', '<PAD>', '<PAD>', '<PAD>', '<PAD>', '<PAD>', '<PAD>', '<PAD>', '<PAD>', '<PAD>', '<PAD>', '<PAD>', '<PAD>', '<PAD>', '<PAD>', '<PAD>', '<PAD>', '<PAD>', '<PAD>', '<PAD>', '<PAD>', '<PAD>', '<PAD>', '<PAD>']\n",
      "\n",
      "Epoch [17 / 50]\n"
     ]
    },
    {
     "data": {
      "application/vnd.jupyter.widget-view+json": {
       "model_id": "38eabcd073bb41fd87546ed7f1ab8a36",
       "version_major": 2,
       "version_minor": 0
      },
      "text/plain": [
       "Epoch training iterations:   0%|          | 0/196 [00:00<?, ?it/s]"
      ]
     },
     "metadata": {},
     "output_type": "display_data"
    },
    {
     "name": "stdout",
     "output_type": "stream",
     "text": [
      "\tIteration #0: training loss = 0.47594472765922546\n",
      "\tIteration #39: training loss = 0.4300965666770935\n",
      "\tIteration #78: training loss = 0.5342912673950195\n",
      "\tIteration #117: training loss = 0.7321290969848633\n",
      "\tIteration #156: training loss = 0.42541176080703735\n",
      "\tIteration #195: training loss = 0.4095151722431183\n"
     ]
    },
    {
     "data": {
      "application/vnd.jupyter.widget-view+json": {
       "model_id": "688e734a0a334e75af0f1377e0dded2a",
       "version_major": 2,
       "version_minor": 0
      },
      "text/plain": [
       "Epoch validating iterations:   0%|          | 0/10 [00:00<?, ?it/s]"
      ]
     },
     "metadata": {},
     "output_type": "display_data"
    },
    {
     "name": "stdout",
     "output_type": "stream",
     "text": [
      "\tValidation loss = 2.630984354019165\n",
      "\tInput: ['<SOS>', 'я', 'пробовать', 'и', 'так', ',', 'и', 'сякнуть', ',', 'результат', 'быть', 'один', 'и', 'тот', 'же', '.', '<EOS>', '<PAD>', '<PAD>', '<PAD>', '<PAD>', '<PAD>', '<PAD>', '<PAD>', '<PAD>', '<PAD>', '<PAD>', '<PAD>', '<PAD>', '<PAD>', '<PAD>', '<PAD>', '<PAD>', '<PAD>', '<PAD>', '<PAD>', '<PAD>', '<PAD>', '<PAD>', '<PAD>', '<PAD>', '<PAD>', '<PAD>', '<PAD>', '<PAD>', '<PAD>', '<PAD>', '<PAD>', '<PAD>', '<PAD>', '<PAD>', '<PAD>']\n",
      "\tOutput: ['я', 'пробовал', 'и', 'так', ',', 'и', 'нескептики', ',', 'результаты', 'быть', 'один', 'и', 'тот', 'же', '.']\n",
      "\tTarget: ['<SOS>', 'я', 'пробовал', 'и', 'так', ',', 'и', 'сяк', ',', 'результат', 'был', 'один', 'и', 'тот', 'же', '.', '<EOS>', '<PAD>', '<PAD>', '<PAD>', '<PAD>', '<PAD>', '<PAD>', '<PAD>', '<PAD>', '<PAD>', '<PAD>', '<PAD>', '<PAD>', '<PAD>', '<PAD>', '<PAD>', '<PAD>', '<PAD>', '<PAD>', '<PAD>', '<PAD>', '<PAD>', '<PAD>', '<PAD>', '<PAD>', '<PAD>', '<PAD>', '<PAD>', '<PAD>', '<PAD>', '<PAD>', '<PAD>', '<PAD>', '<PAD>', '<PAD>', '<PAD>']\n",
      "\n",
      "Epoch [18 / 50]\n"
     ]
    },
    {
     "data": {
      "application/vnd.jupyter.widget-view+json": {
       "model_id": "d7bedb76dd114768a77aa5bf34ac46fa",
       "version_major": 2,
       "version_minor": 0
      },
      "text/plain": [
       "Epoch training iterations:   0%|          | 0/196 [00:00<?, ?it/s]"
      ]
     },
     "metadata": {},
     "output_type": "display_data"
    },
    {
     "name": "stdout",
     "output_type": "stream",
     "text": [
      "\tIteration #0: training loss = 0.36981093883514404\n",
      "\tIteration #39: training loss = 0.4487408995628357\n",
      "\tIteration #78: training loss = 0.5481322407722473\n",
      "\tIteration #117: training loss = 0.5662454962730408\n",
      "\tIteration #156: training loss = 0.5176780223846436\n",
      "\tIteration #195: training loss = 0.39732375741004944\n"
     ]
    },
    {
     "data": {
      "application/vnd.jupyter.widget-view+json": {
       "model_id": "0e313591f2334eeb8f4d1f3f04ad24ef",
       "version_major": 2,
       "version_minor": 0
      },
      "text/plain": [
       "Epoch validating iterations:   0%|          | 0/10 [00:00<?, ?it/s]"
      ]
     },
     "metadata": {},
     "output_type": "display_data"
    },
    {
     "name": "stdout",
     "output_type": "stream",
     "text": [
      "\tValidation loss = 2.702491545677185\n",
      "\tInput: ['<SOS>', 'но', ',', 'так', 'или', 'иначе', ',', 'никакой', 'супервзрыв', 'не', 'произойти', 'ни', 'в', 'тот', 'день', ',', 'ни', 'на', 'следующий', 'и', 'ни', 'в', 'какой', 'другой', 'день', '.', '<EOS>', '<PAD>', '<PAD>', '<PAD>', '<PAD>', '<PAD>', '<PAD>', '<PAD>', '<PAD>', '<PAD>', '<PAD>', '<PAD>', '<PAD>', '<PAD>', '<PAD>', '<PAD>', '<PAD>', '<PAD>', '<PAD>', '<PAD>', '<PAD>', '<PAD>', '<PAD>', '<PAD>', '<PAD>', '<PAD>']\n",
      "\tOutput: ['но', ',', 'так', 'или', 'иначе', ',', 'никакой', 'ад', 'не', 'произошло', 'ни', 'в', 'той', 'день', ',', 'ни', 'на', 'следующий', 'и', 'ни', 'в', 'каких', 'других', 'день', '.']\n",
      "\tTarget: ['<SOS>', 'но', ',', 'так', 'или', 'иначе', ',', 'никакого', 'супервзрыва', 'не', 'произошло', 'ни', 'в', 'тот', 'день', ',', 'ни', 'на', 'следующий', 'и', 'ни', 'в', 'какой', 'другой', 'день', '.', '<EOS>', '<PAD>', '<PAD>', '<PAD>', '<PAD>', '<PAD>', '<PAD>', '<PAD>', '<PAD>', '<PAD>', '<PAD>', '<PAD>', '<PAD>', '<PAD>', '<PAD>', '<PAD>', '<PAD>', '<PAD>', '<PAD>', '<PAD>', '<PAD>', '<PAD>', '<PAD>', '<PAD>', '<PAD>', '<PAD>']\n",
      "\n",
      "Epoch [19 / 50]\n"
     ]
    },
    {
     "data": {
      "application/vnd.jupyter.widget-view+json": {
       "model_id": "a66cdd64b9d6458dbb7324b26a5baa5d",
       "version_major": 2,
       "version_minor": 0
      },
      "text/plain": [
       "Epoch training iterations:   0%|          | 0/196 [00:00<?, ?it/s]"
      ]
     },
     "metadata": {},
     "output_type": "display_data"
    },
    {
     "name": "stdout",
     "output_type": "stream",
     "text": [
      "\tIteration #0: training loss = 0.3720553517341614\n",
      "\tIteration #39: training loss = 0.3570234775543213\n",
      "\tIteration #78: training loss = 0.33192670345306396\n",
      "\tIteration #117: training loss = 0.41072824597358704\n",
      "\tIteration #156: training loss = 0.47272467613220215\n",
      "\tIteration #195: training loss = 0.36736300587654114\n"
     ]
    },
    {
     "data": {
      "application/vnd.jupyter.widget-view+json": {
       "model_id": "573ef1d2b101415290f8e029ab6ccbcf",
       "version_major": 2,
       "version_minor": 0
      },
      "text/plain": [
       "Epoch validating iterations:   0%|          | 0/10 [00:00<?, ?it/s]"
      ]
     },
     "metadata": {},
     "output_type": "display_data"
    },
    {
     "name": "stdout",
     "output_type": "stream",
     "text": [
      "\tValidation loss = 2.6991315126419066\n",
      "\tInput: ['<SOS>', 'но', 'и', 'оставлять', 'всё', 'это', ',', 'как', 'есть', ',', 'быть', 'недопустимо', '.', '<EOS>', '<PAD>', '<PAD>', '<PAD>', '<PAD>', '<PAD>', '<PAD>', '<PAD>', '<PAD>', '<PAD>', '<PAD>', '<PAD>', '<PAD>', '<PAD>', '<PAD>', '<PAD>', '<PAD>', '<PAD>', '<PAD>', '<PAD>', '<PAD>', '<PAD>', '<PAD>', '<PAD>', '<PAD>', '<PAD>', '<PAD>', '<PAD>', '<PAD>', '<PAD>', '<PAD>', '<PAD>', '<PAD>', '<PAD>', '<PAD>', '<PAD>', '<PAD>', '<PAD>', '<PAD>']\n",
      "\tOutput: ['но', 'и', 'волноваться', 'все', 'это', ',', 'как', 'есть', ',', 'было', 'недопустимо', '.']\n",
      "\tTarget: ['<SOS>', 'но', 'и', 'оставлять', 'всё', 'это', ',', 'как', 'есть', ',', 'было', 'недопустимо', '.', '<EOS>', '<PAD>', '<PAD>', '<PAD>', '<PAD>', '<PAD>', '<PAD>', '<PAD>', '<PAD>', '<PAD>', '<PAD>', '<PAD>', '<PAD>', '<PAD>', '<PAD>', '<PAD>', '<PAD>', '<PAD>', '<PAD>', '<PAD>', '<PAD>', '<PAD>', '<PAD>', '<PAD>', '<PAD>', '<PAD>', '<PAD>', '<PAD>', '<PAD>', '<PAD>', '<PAD>', '<PAD>', '<PAD>', '<PAD>', '<PAD>', '<PAD>', '<PAD>', '<PAD>', '<PAD>']\n",
      "\n",
      "Epoch [20 / 50]\n"
     ]
    },
    {
     "data": {
      "application/vnd.jupyter.widget-view+json": {
       "model_id": "7bdc9b9a8b7e4053a0e6459befadadf0",
       "version_major": 2,
       "version_minor": 0
      },
      "text/plain": [
       "Epoch training iterations:   0%|          | 0/196 [00:00<?, ?it/s]"
      ]
     },
     "metadata": {},
     "output_type": "display_data"
    },
    {
     "name": "stdout",
     "output_type": "stream",
     "text": [
      "\tIteration #0: training loss = 0.4287690222263336\n",
      "\tIteration #39: training loss = 0.3818984031677246\n",
      "\tIteration #78: training loss = 0.34286239743232727\n",
      "\tIteration #117: training loss = 0.3756346106529236\n",
      "\tIteration #156: training loss = 0.31432750821113586\n",
      "\tIteration #195: training loss = 0.29604578018188477\n"
     ]
    },
    {
     "data": {
      "application/vnd.jupyter.widget-view+json": {
       "model_id": "f482fa1554c8415d94e87c86bbaef85b",
       "version_major": 2,
       "version_minor": 0
      },
      "text/plain": [
       "Epoch validating iterations:   0%|          | 0/10 [00:00<?, ?it/s]"
      ]
     },
     "metadata": {},
     "output_type": "display_data"
    },
    {
     "name": "stdout",
     "output_type": "stream",
     "text": [
      "\tValidation loss = 2.5262630701065065\n",
      "\tInput: ['<SOS>', 'но', ',', 'так', 'или', 'иначе', ',', 'никакой', 'супервзрыв', 'не', 'произойти', 'ни', 'в', 'тот', 'день', ',', 'ни', 'на', 'следующий', 'и', 'ни', 'в', 'какой', 'другой', 'день', '.', '<EOS>', '<PAD>', '<PAD>', '<PAD>', '<PAD>', '<PAD>', '<PAD>', '<PAD>', '<PAD>', '<PAD>', '<PAD>', '<PAD>', '<PAD>', '<PAD>', '<PAD>', '<PAD>', '<PAD>', '<PAD>', '<PAD>', '<PAD>', '<PAD>', '<PAD>', '<PAD>', '<PAD>', '<PAD>', '<PAD>']\n",
      "\tOutput: ['но', ',', 'так', 'или', 'иначе', ',', 'никакой', 'экспертов', 'не', 'произошло', 'ни', 'в', 'той', 'день', ',', 'ни', 'на', 'следующий', 'и', 'ни', 'в', 'каких', 'других', 'день', '.']\n",
      "\tTarget: ['<SOS>', 'но', ',', 'так', 'или', 'иначе', ',', 'никакого', 'супервзрыва', 'не', 'произошло', 'ни', 'в', 'тот', 'день', ',', 'ни', 'на', 'следующий', 'и', 'ни', 'в', 'какой', 'другой', 'день', '.', '<EOS>', '<PAD>', '<PAD>', '<PAD>', '<PAD>', '<PAD>', '<PAD>', '<PAD>', '<PAD>', '<PAD>', '<PAD>', '<PAD>', '<PAD>', '<PAD>', '<PAD>', '<PAD>', '<PAD>', '<PAD>', '<PAD>', '<PAD>', '<PAD>', '<PAD>', '<PAD>', '<PAD>', '<PAD>', '<PAD>']\n",
      "\n",
      "Epoch [21 / 50]\n"
     ]
    },
    {
     "data": {
      "application/vnd.jupyter.widget-view+json": {
       "model_id": "1057c8444da740579c38fa69868220cf",
       "version_major": 2,
       "version_minor": 0
      },
      "text/plain": [
       "Epoch training iterations:   0%|          | 0/196 [00:00<?, ?it/s]"
      ]
     },
     "metadata": {},
     "output_type": "display_data"
    },
    {
     "name": "stdout",
     "output_type": "stream",
     "text": [
      "\tIteration #0: training loss = 0.3860301077365875\n",
      "\tIteration #39: training loss = 0.39656874537467957\n",
      "\tIteration #78: training loss = 0.3344833552837372\n",
      "\tIteration #117: training loss = 0.30438318848609924\n",
      "\tIteration #156: training loss = 0.31087738275527954\n",
      "\tIteration #195: training loss = 0.26665452122688293\n"
     ]
    },
    {
     "data": {
      "application/vnd.jupyter.widget-view+json": {
       "model_id": "02169791bb8643048452464a45416bd0",
       "version_major": 2,
       "version_minor": 0
      },
      "text/plain": [
       "Epoch validating iterations:   0%|          | 0/10 [00:00<?, ?it/s]"
      ]
     },
     "metadata": {},
     "output_type": "display_data"
    },
    {
     "name": "stdout",
     "output_type": "stream",
     "text": [
      "\tValidation loss = 2.5285409927368163\n",
      "\tInput: ['<SOS>', 'приближаться', 'очередной', 'проверка', ',', 'что', 'всегда', 'сопровождаться', 'дополнительный', 'суета', 'в', 'наш', 'воинский', 'часть', ',', 'как', 'и', 'в', 'любой', 'другой', '.', '<EOS>', '<PAD>', '<PAD>', '<PAD>', '<PAD>', '<PAD>', '<PAD>', '<PAD>', '<PAD>', '<PAD>', '<PAD>', '<PAD>', '<PAD>', '<PAD>', '<PAD>', '<PAD>', '<PAD>', '<PAD>', '<PAD>', '<PAD>', '<PAD>', '<PAD>', '<PAD>', '<PAD>', '<PAD>', '<PAD>', '<PAD>', '<PAD>', '<PAD>', '<PAD>', '<PAD>']\n",
      "\tOutput: ['однако', 'очередной', 'проверку', ',', 'что', 'всегда', 'сопровождалось', 'дополнительных', 'суета', 'в', 'нашем', 'тринадцати', 'части', ',', 'как', 'и', 'в', 'любых', 'других', '.']\n",
      "\tTarget: ['<SOS>', 'приближалась', 'очередная', 'проверка', ',', 'что', 'всегда', 'сопровождалось', 'дополнительной', 'суетой', 'в', 'нашей', 'воинской', 'части', ',', 'как', 'и', 'в', 'любой', 'другой', '.', '<EOS>', '<PAD>', '<PAD>', '<PAD>', '<PAD>', '<PAD>', '<PAD>', '<PAD>', '<PAD>', '<PAD>', '<PAD>', '<PAD>', '<PAD>', '<PAD>', '<PAD>', '<PAD>', '<PAD>', '<PAD>', '<PAD>', '<PAD>', '<PAD>', '<PAD>', '<PAD>', '<PAD>', '<PAD>', '<PAD>', '<PAD>', '<PAD>', '<PAD>', '<PAD>', '<PAD>']\n",
      "\n",
      "Epoch [22 / 50]\n"
     ]
    },
    {
     "data": {
      "application/vnd.jupyter.widget-view+json": {
       "model_id": "5e525787e4e94fc9aae3fe4debca6fc8",
       "version_major": 2,
       "version_minor": 0
      },
      "text/plain": [
       "Epoch training iterations:   0%|          | 0/196 [00:00<?, ?it/s]"
      ]
     },
     "metadata": {},
     "output_type": "display_data"
    },
    {
     "name": "stdout",
     "output_type": "stream",
     "text": [
      "\tIteration #0: training loss = 0.3013753890991211\n",
      "\tIteration #39: training loss = 0.27830299735069275\n",
      "\tIteration #78: training loss = 0.24199748039245605\n",
      "\tIteration #117: training loss = 0.29523229598999023\n",
      "\tIteration #156: training loss = 0.39363572001457214\n",
      "\tIteration #195: training loss = 0.23548895120620728\n"
     ]
    },
    {
     "data": {
      "application/vnd.jupyter.widget-view+json": {
       "model_id": "52b34c76684f4e32b78b78d249670b57",
       "version_major": 2,
       "version_minor": 0
      },
      "text/plain": [
       "Epoch validating iterations:   0%|          | 0/10 [00:00<?, ?it/s]"
      ]
     },
     "metadata": {},
     "output_type": "display_data"
    },
    {
     "name": "stdout",
     "output_type": "stream",
     "text": [
      "\tValidation loss = 2.4943639516830443\n",
      "\tInput: ['<SOS>', 'и', 'когда', 'приходиться', 'сталкиваться', 'с', 'проявление', 'такой', 'ограниченность', 'и', 'невежество', ',', 'первый', 'время', 'я', 'реагировать', 'на', 'этот', 'проявление', '.', '<EOS>', '<PAD>', '<PAD>', '<PAD>', '<PAD>', '<PAD>', '<PAD>', '<PAD>', '<PAD>', '<PAD>', '<PAD>', '<PAD>', '<PAD>', '<PAD>', '<PAD>', '<PAD>', '<PAD>', '<PAD>', '<PAD>', '<PAD>', '<PAD>', '<PAD>', '<PAD>', '<PAD>', '<PAD>', '<PAD>', '<PAD>', '<PAD>', '<PAD>', '<PAD>', '<PAD>', '<PAD>']\n",
      "\tOutput: ['и', 'когда', 'приходилось', 'сталкиваться', 'с', 'проявление', 'такой', 'ограниченности', 'и', 'невежество', ',', 'первым', 'время', 'я', 'реагирует', 'на', 'эту', 'проявление', '.']\n",
      "\tTarget: ['<SOS>', 'и', 'когда', 'приходилось', 'сталкиваться', 'с', 'проявлением', 'такой', 'ограниченности', 'и', 'невежества', ',', 'первое', 'время', 'я', 'реагировал', 'на', 'эти', 'проявления', '.', '<EOS>', '<PAD>', '<PAD>', '<PAD>', '<PAD>', '<PAD>', '<PAD>', '<PAD>', '<PAD>', '<PAD>', '<PAD>', '<PAD>', '<PAD>', '<PAD>', '<PAD>', '<PAD>', '<PAD>', '<PAD>', '<PAD>', '<PAD>', '<PAD>', '<PAD>', '<PAD>', '<PAD>', '<PAD>', '<PAD>', '<PAD>', '<PAD>', '<PAD>', '<PAD>', '<PAD>', '<PAD>']\n",
      "\n",
      "Epoch [23 / 50]\n"
     ]
    },
    {
     "data": {
      "application/vnd.jupyter.widget-view+json": {
       "model_id": "7d7d063409ea454e85f5296a420e81ad",
       "version_major": 2,
       "version_minor": 0
      },
      "text/plain": [
       "Epoch training iterations:   0%|          | 0/196 [00:00<?, ?it/s]"
      ]
     },
     "metadata": {},
     "output_type": "display_data"
    },
    {
     "name": "stdout",
     "output_type": "stream",
     "text": [
      "\tIteration #0: training loss = 0.2788509428501129\n",
      "\tIteration #39: training loss = 0.2680429518222809\n",
      "\tIteration #78: training loss = 0.23562800884246826\n",
      "\tIteration #117: training loss = 0.4760149121284485\n",
      "\tIteration #156: training loss = 0.27607375383377075\n",
      "\tIteration #195: training loss = 0.25837793946266174\n"
     ]
    },
    {
     "data": {
      "application/vnd.jupyter.widget-view+json": {
       "model_id": "51a3ed1602fa4f5c92f3816706957048",
       "version_major": 2,
       "version_minor": 0
      },
      "text/plain": [
       "Epoch validating iterations:   0%|          | 0/10 [00:00<?, ?it/s]"
      ]
     },
     "metadata": {},
     "output_type": "display_data"
    },
    {
     "name": "stdout",
     "output_type": "stream",
     "text": [
      "\tValidation loss = 2.485103130340576\n",
      "\tInput: ['<SOS>', 'одуматься', ',', 'не', 'спешить', '.', '<EOS>', '<PAD>', '<PAD>', '<PAD>', '<PAD>', '<PAD>', '<PAD>', '<PAD>', '<PAD>', '<PAD>', '<PAD>', '<PAD>', '<PAD>', '<PAD>', '<PAD>', '<PAD>', '<PAD>', '<PAD>', '<PAD>', '<PAD>', '<PAD>', '<PAD>', '<PAD>', '<PAD>', '<PAD>', '<PAD>', '<PAD>', '<PAD>', '<PAD>', '<PAD>', '<PAD>', '<PAD>', '<PAD>', '<PAD>', '<PAD>', '<PAD>', '<PAD>', '<PAD>', '<PAD>', '<PAD>', '<PAD>', '<PAD>', '<PAD>', '<PAD>', '<PAD>', '<PAD>']\n",
      "\tOutput: ['обезоруженный', ',', 'не', 'спешили', '.']\n",
      "\tTarget: ['<SOS>', '<UNK>', ',', 'не', 'спеши', '.', '<EOS>', '<PAD>', '<PAD>', '<PAD>', '<PAD>', '<PAD>', '<PAD>', '<PAD>', '<PAD>', '<PAD>', '<PAD>', '<PAD>', '<PAD>', '<PAD>', '<PAD>', '<PAD>', '<PAD>', '<PAD>', '<PAD>', '<PAD>', '<PAD>', '<PAD>', '<PAD>', '<PAD>', '<PAD>', '<PAD>', '<PAD>', '<PAD>', '<PAD>', '<PAD>', '<PAD>', '<PAD>', '<PAD>', '<PAD>', '<PAD>', '<PAD>', '<PAD>', '<PAD>', '<PAD>', '<PAD>', '<PAD>', '<PAD>', '<PAD>', '<PAD>', '<PAD>', '<PAD>']\n",
      "\n",
      "Epoch [24 / 50]\n"
     ]
    },
    {
     "data": {
      "application/vnd.jupyter.widget-view+json": {
       "model_id": "adf027ffce8044659c6fb5851ebeaa54",
       "version_major": 2,
       "version_minor": 0
      },
      "text/plain": [
       "Epoch training iterations:   0%|          | 0/196 [00:00<?, ?it/s]"
      ]
     },
     "metadata": {},
     "output_type": "display_data"
    },
    {
     "name": "stdout",
     "output_type": "stream",
     "text": [
      "\tIteration #0: training loss = 0.2241639941930771\n",
      "\tIteration #39: training loss = 0.23440220952033997\n",
      "\tIteration #78: training loss = 0.3593817353248596\n",
      "\tIteration #117: training loss = 0.26715630292892456\n",
      "\tIteration #156: training loss = 0.2502494156360626\n",
      "\tIteration #195: training loss = 0.19911493360996246\n"
     ]
    },
    {
     "data": {
      "application/vnd.jupyter.widget-view+json": {
       "model_id": "4375d32c130d42b480b91c7931242061",
       "version_major": 2,
       "version_minor": 0
      },
      "text/plain": [
       "Epoch validating iterations:   0%|          | 0/10 [00:00<?, ?it/s]"
      ]
     },
     "metadata": {},
     "output_type": "display_data"
    },
    {
     "name": "stdout",
     "output_type": "stream",
     "text": [
      "\tValidation loss = 2.484826683998108\n",
      "\tInput: ['<SOS>', 'кроме', 'тот', ',', 'очень', 'редко', 'случаться', ',', 'чтобы', 'корабль', 'строиться', ',', '<UNK>', 'для', 'плавание', 'и', 'управляться', 'один', 'и', 'тем', 'же', 'лицо', '.', '<EOS>', '<PAD>', '<PAD>', '<PAD>', '<PAD>', '<PAD>', '<PAD>', '<PAD>', '<PAD>', '<PAD>', '<PAD>', '<PAD>', '<PAD>', '<PAD>', '<PAD>', '<PAD>', '<PAD>', '<PAD>', '<PAD>', '<PAD>', '<PAD>', '<PAD>', '<PAD>', '<PAD>', '<PAD>', '<PAD>', '<PAD>', '<PAD>', '<PAD>']\n",
      "\tOutput: ['кроме', 'того', ',', 'очень', 'редко', 'случается', ',', 'чтобы', 'корабль', 'патриарху', ',', 'приговоренные', 'для', 'чиновников', 'и', 'порядочным', 'один', 'и', 'тем', 'же', 'лицо', '.']\n",
      "\tTarget: ['<SOS>', 'кроме', 'того', ',', 'очень', 'редко', 'случается', ',', 'чтобы', 'корабль', 'строился', ',', '<UNK>', 'для', 'плавания', 'и', 'управлялся', 'одним', 'и', 'тем', 'же', 'лицом', '.', '<EOS>', '<PAD>', '<PAD>', '<PAD>', '<PAD>', '<PAD>', '<PAD>', '<PAD>', '<PAD>', '<PAD>', '<PAD>', '<PAD>', '<PAD>', '<PAD>', '<PAD>', '<PAD>', '<PAD>', '<PAD>', '<PAD>', '<PAD>', '<PAD>', '<PAD>', '<PAD>', '<PAD>', '<PAD>', '<PAD>', '<PAD>', '<PAD>', '<PAD>']\n",
      "\n",
      "Epoch [25 / 50]\n"
     ]
    },
    {
     "data": {
      "application/vnd.jupyter.widget-view+json": {
       "model_id": "294beea35093491891acca47339a0883",
       "version_major": 2,
       "version_minor": 0
      },
      "text/plain": [
       "Epoch training iterations:   0%|          | 0/196 [00:00<?, ?it/s]"
      ]
     },
     "metadata": {},
     "output_type": "display_data"
    },
    {
     "name": "stdout",
     "output_type": "stream",
     "text": [
      "\tIteration #0: training loss = 0.19890505075454712\n",
      "\tIteration #39: training loss = 0.2795063257217407\n",
      "\tIteration #78: training loss = 0.2044450342655182\n",
      "\tIteration #117: training loss = 0.3942613899707794\n",
      "\tIteration #156: training loss = 0.2562796175479889\n",
      "\tIteration #195: training loss = 0.19538423418998718\n"
     ]
    },
    {
     "data": {
      "application/vnd.jupyter.widget-view+json": {
       "model_id": "25f577519cef4f67b6984db531ae61c0",
       "version_major": 2,
       "version_minor": 0
      },
      "text/plain": [
       "Epoch validating iterations:   0%|          | 0/10 [00:00<?, ?it/s]"
      ]
     },
     "metadata": {},
     "output_type": "display_data"
    },
    {
     "name": "stdout",
     "output_type": "stream",
     "text": [
      "\tValidation loss = 2.4615981340408326\n",
      "\tInput: ['<SOS>', 'конец', 'этот', 'страна', 'быть', 'ужасный', ',', '–', 'писать', 'он', ',', '–', 'потому', 'что', 'жалоба', 'миллион', 'человек', 'на', 'царь', 'быть', 'услышать', 'небо', 'и', 'так', 'как', 'в', 'каждый', 'человек', 'заложить', 'искра', 'ярость', ',', 'который', 'только', 'и', 'ждать', 'ветер', ',', 'чтобы', 'превратиться', 'в', 'пожар', '.', '<EOS>', '<PAD>', '<PAD>', '<PAD>', '<PAD>', '<PAD>', '<PAD>', '<PAD>', '<PAD>']\n",
      "\tOutput: ['жители', 'этих', 'страны', 'был', 'успокоиться', ',', '–', 'писал', 'он', ',', '–', 'потому', 'что', 'некоторые', 'миллионы', 'людей', 'на', 'царя', 'был', 'услышать', 'небо', 'и', 'так', 'как', 'в', 'каждом', 'человеке', 'заложили', 'коры', 'яростью', ',', 'который', 'только', 'и', 'ждать', 'ветер', ',', 'чтобы', 'превратилась', 'в', 'метро', '.']\n",
      "\tTarget: ['<SOS>', 'конец', 'этой', 'страны', 'будет', '<UNK>', ',', '–', 'писал', 'он', ',', '–', 'потому', 'что', 'жалобы', 'миллионов', 'людей', 'на', 'царя', 'будут', 'услышаны', 'небом', 'и', 'так', 'как', 'в', 'каждом', 'человеке', 'заложена', 'искра', 'ярости', ',', 'которая', 'только', 'и', 'ждет', 'ветра', ',', 'чтобы', 'превратиться', 'в', 'пожар', '.', '<EOS>', '<PAD>', '<PAD>', '<PAD>', '<PAD>', '<PAD>', '<PAD>', '<PAD>', '<PAD>']\n",
      "\n",
      "Epoch [26 / 50]\n"
     ]
    },
    {
     "data": {
      "application/vnd.jupyter.widget-view+json": {
       "model_id": "1bf6d87aec0044d79ad8e444c8aea735",
       "version_major": 2,
       "version_minor": 0
      },
      "text/plain": [
       "Epoch training iterations:   0%|          | 0/196 [00:00<?, ?it/s]"
      ]
     },
     "metadata": {},
     "output_type": "display_data"
    },
    {
     "name": "stdout",
     "output_type": "stream",
     "text": [
      "\tIteration #0: training loss = 0.30687615275382996\n",
      "\tIteration #39: training loss = 0.204884335398674\n",
      "\tIteration #78: training loss = 0.2055242955684662\n",
      "\tIteration #117: training loss = 0.22161968052387238\n",
      "\tIteration #156: training loss = 0.210462287068367\n",
      "\tIteration #195: training loss = 0.17602291703224182\n"
     ]
    },
    {
     "data": {
      "application/vnd.jupyter.widget-view+json": {
       "model_id": "08bdc25ec7584999856cc2e5368f1a1e",
       "version_major": 2,
       "version_minor": 0
      },
      "text/plain": [
       "Epoch validating iterations:   0%|          | 0/10 [00:00<?, ?it/s]"
      ]
     },
     "metadata": {},
     "output_type": "display_data"
    },
    {
     "name": "stdout",
     "output_type": "stream",
     "text": [
      "\tValidation loss = 2.4720893621444704\n",
      "\tInput: ['<SOS>', 'идти', 'время', ',', 'и', 'валерий', ',', 'многое', 'передумать', ',', 'решить', ',', 'что', 'быть', 'верхом', 'несправедливость', 'уехать', 'и', 'не', 'известить', 'я', 'о', 'тот', ',', 'что', 'у', 'я', 'родиться', 'сын', '.', '<EOS>', '<PAD>', '<PAD>', '<PAD>', '<PAD>', '<PAD>', '<PAD>', '<PAD>', '<PAD>', '<PAD>', '<PAD>', '<PAD>', '<PAD>', '<PAD>', '<PAD>', '<PAD>', '<PAD>', '<PAD>', '<PAD>', '<PAD>', '<PAD>', '<PAD>']\n",
      "\tOutput: ['шел', 'время', ',', 'и', 'валерия', ',', 'многое', 'медиумы', ',', 'решил', ',', 'что', 'будет', 'верхом', 'проявление', 'уехал', 'и', 'не', 'принадлежу', 'мне', 'о', 'том', ',', 'что', 'у', 'меня', 'родился', 'сын', '.']\n",
      "\tTarget: ['<SOS>', 'шло', 'время', ',', 'и', 'валерия', ',', 'многое', '<UNK>', ',', 'решила', ',', 'что', 'будет', 'верхом', 'несправедливости', 'уехать', 'и', 'не', '<UNK>', 'меня', 'о', 'том', ',', 'что', 'у', 'меня', 'родился', 'сын', '.', '<EOS>', '<PAD>', '<PAD>', '<PAD>', '<PAD>', '<PAD>', '<PAD>', '<PAD>', '<PAD>', '<PAD>', '<PAD>', '<PAD>', '<PAD>', '<PAD>', '<PAD>', '<PAD>', '<PAD>', '<PAD>', '<PAD>', '<PAD>', '<PAD>', '<PAD>']\n",
      "\n",
      "Epoch [27 / 50]\n"
     ]
    },
    {
     "data": {
      "application/vnd.jupyter.widget-view+json": {
       "model_id": "5ce3d9a2f42d4e96b9951982d32580f7",
       "version_major": 2,
       "version_minor": 0
      },
      "text/plain": [
       "Epoch training iterations:   0%|          | 0/196 [00:00<?, ?it/s]"
      ]
     },
     "metadata": {},
     "output_type": "display_data"
    },
    {
     "name": "stdout",
     "output_type": "stream",
     "text": [
      "\tIteration #0: training loss = 0.18784183263778687\n",
      "\tIteration #39: training loss = 0.2501581609249115\n",
      "\tIteration #78: training loss = 0.1882394403219223\n",
      "\tIteration #117: training loss = 0.20958544313907623\n",
      "\tIteration #156: training loss = 0.2975027561187744\n",
      "\tIteration #195: training loss = 0.2427852749824524\n"
     ]
    },
    {
     "data": {
      "application/vnd.jupyter.widget-view+json": {
       "model_id": "4057b4a798504088aa70f6df31303278",
       "version_major": 2,
       "version_minor": 0
      },
      "text/plain": [
       "Epoch validating iterations:   0%|          | 0/10 [00:00<?, ?it/s]"
      ]
     },
     "metadata": {},
     "output_type": "display_data"
    },
    {
     "name": "stdout",
     "output_type": "stream",
     "text": [
      "\tValidation loss = 2.6690765857696532\n",
      "\tInput: ['<SOS>', 'маленький', 'чем', 'за', 'год', 'быть', 'скачать', 'в', 'четыре', 'раз', 'большой', 'книга', ',', 'чем', 'быть', 'издать', '!', '<EOS>', '<PAD>', '<PAD>', '<PAD>', '<PAD>', '<PAD>', '<PAD>', '<PAD>', '<PAD>', '<PAD>', '<PAD>', '<PAD>', '<PAD>', '<PAD>', '<PAD>', '<PAD>', '<PAD>', '<PAD>', '<PAD>', '<PAD>', '<PAD>', '<PAD>', '<PAD>', '<PAD>', '<PAD>', '<PAD>', '<PAD>', '<PAD>', '<PAD>', '<PAD>', '<PAD>', '<PAD>', '<PAD>', '<PAD>', '<PAD>']\n",
      "\tOutput: ['маленькая', 'чем', 'за', 'год', 'были', 'отправлено', 'в', 'четыре', 'раза', 'больше', 'книг', ',', 'чем', 'было', 'вкусно', '!']\n",
      "\tTarget: ['<SOS>', 'меньше', 'чем', 'за', 'год', 'было', 'скачано', 'в', 'четыре', 'раза', 'больше', 'книг', ',', 'чем', 'было', 'издано', '!', '<EOS>', '<PAD>', '<PAD>', '<PAD>', '<PAD>', '<PAD>', '<PAD>', '<PAD>', '<PAD>', '<PAD>', '<PAD>', '<PAD>', '<PAD>', '<PAD>', '<PAD>', '<PAD>', '<PAD>', '<PAD>', '<PAD>', '<PAD>', '<PAD>', '<PAD>', '<PAD>', '<PAD>', '<PAD>', '<PAD>', '<PAD>', '<PAD>', '<PAD>', '<PAD>', '<PAD>', '<PAD>', '<PAD>', '<PAD>', '<PAD>']\n",
      "\n",
      "Epoch [28 / 50]\n"
     ]
    },
    {
     "data": {
      "application/vnd.jupyter.widget-view+json": {
       "model_id": "42fbb2c4537b427f979fbbe021660b29",
       "version_major": 2,
       "version_minor": 0
      },
      "text/plain": [
       "Epoch training iterations:   0%|          | 0/196 [00:00<?, ?it/s]"
      ]
     },
     "metadata": {},
     "output_type": "display_data"
    },
    {
     "name": "stdout",
     "output_type": "stream",
     "text": [
      "\tIteration #0: training loss = 0.293797105550766\n",
      "\tIteration #39: training loss = 0.3691249191761017\n",
      "\tIteration #78: training loss = 0.20361781120300293\n",
      "\tIteration #117: training loss = 0.21367426216602325\n",
      "\tIteration #156: training loss = 0.20273177325725555\n",
      "\tIteration #195: training loss = 0.3097838759422302\n"
     ]
    },
    {
     "data": {
      "application/vnd.jupyter.widget-view+json": {
       "model_id": "bf90f14a18114fb780ddd185e5f9dac1",
       "version_major": 2,
       "version_minor": 0
      },
      "text/plain": [
       "Epoch validating iterations:   0%|          | 0/10 [00:00<?, ?it/s]"
      ]
     },
     "metadata": {},
     "output_type": "display_data"
    },
    {
     "name": "stdout",
     "output_type": "stream",
     "text": [
      "\tValidation loss = 2.461364197731018\n",
      "\tInput: ['<SOS>', 'но', ',', 'думать', 'пётр', ',', 'в', 'россия', 'благосостояние', 'и', 'свобода', 'мочь', 'лишь', 'размягчить', 'душа', '.', '<EOS>', '<PAD>', '<PAD>', '<PAD>', '<PAD>', '<PAD>', '<PAD>', '<PAD>', '<PAD>', '<PAD>', '<PAD>', '<PAD>', '<PAD>', '<PAD>', '<PAD>', '<PAD>', '<PAD>', '<PAD>', '<PAD>', '<PAD>', '<PAD>', '<PAD>', '<PAD>', '<PAD>', '<PAD>', '<PAD>', '<PAD>', '<PAD>', '<PAD>', '<PAD>', '<PAD>', '<PAD>', '<PAD>', '<PAD>', '<PAD>', '<PAD>']\n",
      "\tOutput: ['но', ',', 'думал', 'петр', ',', 'в', 'россии', 'шкаф', 'и', 'свободы', 'могли', 'лишь', 'растянется', 'душу', '.']\n",
      "\tTarget: ['<SOS>', 'но', ',', 'думал', 'петр', ',', 'в', 'россии', 'благосостояние', 'и', 'свобода', 'могут', 'лишь', '<UNK>', 'душу', '.', '<EOS>', '<PAD>', '<PAD>', '<PAD>', '<PAD>', '<PAD>', '<PAD>', '<PAD>', '<PAD>', '<PAD>', '<PAD>', '<PAD>', '<PAD>', '<PAD>', '<PAD>', '<PAD>', '<PAD>', '<PAD>', '<PAD>', '<PAD>', '<PAD>', '<PAD>', '<PAD>', '<PAD>', '<PAD>', '<PAD>', '<PAD>', '<PAD>', '<PAD>', '<PAD>', '<PAD>', '<PAD>', '<PAD>', '<PAD>', '<PAD>', '<PAD>']\n",
      "\n",
      "Epoch [29 / 50]\n"
     ]
    },
    {
     "data": {
      "application/vnd.jupyter.widget-view+json": {
       "model_id": "571e046392714d3caf18f3b467d5926b",
       "version_major": 2,
       "version_minor": 0
      },
      "text/plain": [
       "Epoch training iterations:   0%|          | 0/196 [00:00<?, ?it/s]"
      ]
     },
     "metadata": {},
     "output_type": "display_data"
    },
    {
     "name": "stdout",
     "output_type": "stream",
     "text": [
      "\tIteration #0: training loss = 0.1745309680700302\n",
      "\tIteration #39: training loss = 0.21270060539245605\n",
      "\tIteration #78: training loss = 0.25147131085395813\n",
      "\tIteration #117: training loss = 0.20886170864105225\n",
      "\tIteration #156: training loss = 0.3070618808269501\n",
      "\tIteration #195: training loss = 0.172510027885437\n"
     ]
    },
    {
     "data": {
      "application/vnd.jupyter.widget-view+json": {
       "model_id": "570dd5d3017b41c881b5babe47849c5f",
       "version_major": 2,
       "version_minor": 0
      },
      "text/plain": [
       "Epoch validating iterations:   0%|          | 0/10 [00:00<?, ?it/s]"
      ]
     },
     "metadata": {},
     "output_type": "display_data"
    },
    {
     "name": "stdout",
     "output_type": "stream",
     "text": [
      "\tValidation loss = 2.599688768386841\n",
      "\tInput: ['<SOS>', 'конечно', ',', 'я', 'очень', 'хотеться', ',', 'чтобы', 'мой', '<UNK>', 'не', 'продолжаться', 'долго', '.', '<EOS>', '<PAD>', '<PAD>', '<PAD>', '<PAD>', '<PAD>', '<PAD>', '<PAD>', '<PAD>', '<PAD>', '<PAD>', '<PAD>', '<PAD>', '<PAD>', '<PAD>', '<PAD>', '<PAD>', '<PAD>', '<PAD>', '<PAD>', '<PAD>', '<PAD>', '<PAD>', '<PAD>', '<PAD>', '<PAD>', '<PAD>', '<PAD>', '<PAD>', '<PAD>', '<PAD>', '<PAD>', '<PAD>', '<PAD>', '<PAD>', '<PAD>', '<PAD>', '<PAD>']\n",
      "\tOutput: ['конечно', ',', 'мне', 'очень', 'хотелось', ',', 'чтобы', 'мои', 'отказ', 'не', 'продолжалось', 'долго', '.']\n",
      "\tTarget: ['<SOS>', 'конечно', ',', 'мне', 'очень', 'хотелось', ',', 'чтобы', 'моё', '<UNK>', 'не', 'продолжалось', 'долго', '.', '<EOS>', '<PAD>', '<PAD>', '<PAD>', '<PAD>', '<PAD>', '<PAD>', '<PAD>', '<PAD>', '<PAD>', '<PAD>', '<PAD>', '<PAD>', '<PAD>', '<PAD>', '<PAD>', '<PAD>', '<PAD>', '<PAD>', '<PAD>', '<PAD>', '<PAD>', '<PAD>', '<PAD>', '<PAD>', '<PAD>', '<PAD>', '<PAD>', '<PAD>', '<PAD>', '<PAD>', '<PAD>', '<PAD>', '<PAD>', '<PAD>', '<PAD>', '<PAD>', '<PAD>']\n",
      "\n",
      "Epoch [30 / 50]\n"
     ]
    },
    {
     "data": {
      "application/vnd.jupyter.widget-view+json": {
       "model_id": "9a06dee81d784004a40f5d2e3ce949a3",
       "version_major": 2,
       "version_minor": 0
      },
      "text/plain": [
       "Epoch training iterations:   0%|          | 0/196 [00:00<?, ?it/s]"
      ]
     },
     "metadata": {},
     "output_type": "display_data"
    },
    {
     "name": "stdout",
     "output_type": "stream",
     "text": [
      "\tIteration #0: training loss = 0.1741044968366623\n",
      "\tIteration #39: training loss = 0.3472939431667328\n",
      "\tIteration #78: training loss = 0.17020554840564728\n",
      "\tIteration #117: training loss = 0.23451364040374756\n",
      "\tIteration #156: training loss = 0.20197606086730957\n",
      "\tIteration #195: training loss = 0.18590810894966125\n"
     ]
    },
    {
     "data": {
      "application/vnd.jupyter.widget-view+json": {
       "model_id": "cef80c169a6540108f8d052a8661c85a",
       "version_major": 2,
       "version_minor": 0
      },
      "text/plain": [
       "Epoch validating iterations:   0%|          | 0/10 [00:00<?, ?it/s]"
      ]
     },
     "metadata": {},
     "output_type": "display_data"
    },
    {
     "name": "stdout",
     "output_type": "stream",
     "text": [
      "\tValidation loss = 2.4551206111907957\n",
      "\tInput: ['<SOS>', 'вот', 'это', 'я', 'не', 'пожелать', 'бы', 'и', 'свой', 'враг', ',', 'как', 'говориться', '!', '<EOS>', '<PAD>', '<PAD>', '<PAD>', '<PAD>', '<PAD>', '<PAD>', '<PAD>', '<PAD>', '<PAD>', '<PAD>', '<PAD>', '<PAD>', '<PAD>', '<PAD>', '<PAD>', '<PAD>', '<PAD>', '<PAD>', '<PAD>', '<PAD>', '<PAD>', '<PAD>', '<PAD>', '<PAD>', '<PAD>', '<PAD>', '<PAD>', '<PAD>', '<PAD>', '<PAD>', '<PAD>', '<PAD>', '<PAD>', '<PAD>', '<PAD>', '<PAD>', '<PAD>']\n",
      "\tOutput: ['вот', 'это', 'я', 'не', 'пожелал', 'бы', 'и', 'свои', 'врага', ',', 'как', 'говорится', '!']\n",
      "\tTarget: ['<SOS>', 'вот', 'этого', 'я', 'не', 'пожелал', 'бы', 'и', 'своему', 'врагу', ',', 'как', 'говорится', '!', '<EOS>', '<PAD>', '<PAD>', '<PAD>', '<PAD>', '<PAD>', '<PAD>', '<PAD>', '<PAD>', '<PAD>', '<PAD>', '<PAD>', '<PAD>', '<PAD>', '<PAD>', '<PAD>', '<PAD>', '<PAD>', '<PAD>', '<PAD>', '<PAD>', '<PAD>', '<PAD>', '<PAD>', '<PAD>', '<PAD>', '<PAD>', '<PAD>', '<PAD>', '<PAD>', '<PAD>', '<PAD>', '<PAD>', '<PAD>', '<PAD>', '<PAD>', '<PAD>', '<PAD>']\n",
      "\n",
      "Epoch [31 / 50]\n"
     ]
    },
    {
     "data": {
      "application/vnd.jupyter.widget-view+json": {
       "model_id": "eed4385052524ee0944a75a49ffc6c9a",
       "version_major": 2,
       "version_minor": 0
      },
      "text/plain": [
       "Epoch training iterations:   0%|          | 0/196 [00:00<?, ?it/s]"
      ]
     },
     "metadata": {},
     "output_type": "display_data"
    },
    {
     "name": "stdout",
     "output_type": "stream",
     "text": [
      "\tIteration #0: training loss = 0.22241553664207458\n",
      "\tIteration #39: training loss = 0.16552391648292542\n",
      "\tIteration #78: training loss = 0.17172834277153015\n",
      "\tIteration #117: training loss = 0.1956997513771057\n",
      "\tIteration #156: training loss = 0.18412736058235168\n",
      "\tIteration #195: training loss = 0.14277347922325134\n"
     ]
    },
    {
     "data": {
      "application/vnd.jupyter.widget-view+json": {
       "model_id": "d4582a4ef72842c1af223d5de82e03ec",
       "version_major": 2,
       "version_minor": 0
      },
      "text/plain": [
       "Epoch validating iterations:   0%|          | 0/10 [00:00<?, ?it/s]"
      ]
     },
     "metadata": {},
     "output_type": "display_data"
    },
    {
     "name": "stdout",
     "output_type": "stream",
     "text": [
      "\tValidation loss = 2.446889591217041\n",
      "\tInput: ['<SOS>', 'сильный', 'желание', 'понять', 'быть', 'происходить', 'на', 'экран', 'и', 'внимательный', 'наблюдение', 'за', 'происходить', ',', 'постепенно', 'делать', 'свой', 'дело', '.', '<EOS>', '<PAD>', '<PAD>', '<PAD>', '<PAD>', '<PAD>', '<PAD>', '<PAD>', '<PAD>', '<PAD>', '<PAD>', '<PAD>', '<PAD>', '<PAD>', '<PAD>', '<PAD>', '<PAD>', '<PAD>', '<PAD>', '<PAD>', '<PAD>', '<PAD>', '<PAD>', '<PAD>', '<PAD>', '<PAD>', '<PAD>', '<PAD>', '<PAD>', '<PAD>', '<PAD>', '<PAD>', '<PAD>']\n",
      "\tOutput: ['сильный', 'желание', 'понять', 'было', 'происходит', 'на', 'экране', 'и', 'переводить', 'наблюдение', 'за', 'происходящим', ',', 'постепенно', 'делать', 'своё', 'дело', '.']\n",
      "\tTarget: ['<SOS>', 'сильное', 'желание', 'понять', 'суть', 'происходящего', 'на', 'экране', 'и', '<UNK>', 'наблюдение', 'за', 'происходящим', ',', 'постепенно', 'делало', 'своё', 'дело', '.', '<EOS>', '<PAD>', '<PAD>', '<PAD>', '<PAD>', '<PAD>', '<PAD>', '<PAD>', '<PAD>', '<PAD>', '<PAD>', '<PAD>', '<PAD>', '<PAD>', '<PAD>', '<PAD>', '<PAD>', '<PAD>', '<PAD>', '<PAD>', '<PAD>', '<PAD>', '<PAD>', '<PAD>', '<PAD>', '<PAD>', '<PAD>', '<PAD>', '<PAD>', '<PAD>', '<PAD>', '<PAD>', '<PAD>']\n",
      "\n",
      "Epoch [32 / 50]\n"
     ]
    },
    {
     "data": {
      "application/vnd.jupyter.widget-view+json": {
       "model_id": "53331daf6d8644d6bdd1f9bcfa304500",
       "version_major": 2,
       "version_minor": 0
      },
      "text/plain": [
       "Epoch training iterations:   0%|          | 0/196 [00:00<?, ?it/s]"
      ]
     },
     "metadata": {},
     "output_type": "display_data"
    },
    {
     "name": "stdout",
     "output_type": "stream",
     "text": [
      "\tIteration #0: training loss = 0.15861396491527557\n",
      "\tIteration #39: training loss = 0.20548947155475616\n",
      "\tIteration #78: training loss = 0.147774338722229\n",
      "\tIteration #117: training loss = 0.16815932095050812\n",
      "\tIteration #156: training loss = 0.1548861265182495\n",
      "\tIteration #195: training loss = 0.13490332663059235\n"
     ]
    },
    {
     "data": {
      "application/vnd.jupyter.widget-view+json": {
       "model_id": "e29505b9e960424da0d2e94b3658b4b5",
       "version_major": 2,
       "version_minor": 0
      },
      "text/plain": [
       "Epoch validating iterations:   0%|          | 0/10 [00:00<?, ?it/s]"
      ]
     },
     "metadata": {},
     "output_type": "display_data"
    },
    {
     "name": "stdout",
     "output_type": "stream",
     "text": [
      "\tValidation loss = 2.4606279611587523\n",
      "\tInput: ['<SOS>', 'топор', 'тяжело', 'обрушиться', 'на', 'она', 'голова', '.', '<EOS>', '<PAD>', '<PAD>', '<PAD>', '<PAD>', '<PAD>', '<PAD>', '<PAD>', '<PAD>', '<PAD>', '<PAD>', '<PAD>', '<PAD>', '<PAD>', '<PAD>', '<PAD>', '<PAD>', '<PAD>', '<PAD>', '<PAD>', '<PAD>', '<PAD>', '<PAD>', '<PAD>', '<PAD>', '<PAD>', '<PAD>', '<PAD>', '<PAD>', '<PAD>', '<PAD>', '<PAD>', '<PAD>', '<PAD>', '<PAD>', '<PAD>', '<PAD>', '<PAD>', '<PAD>', '<PAD>', '<PAD>', '<PAD>', '<PAD>', '<PAD>']\n",
      "\tOutput: ['поражает', 'тяжело', 'обрушились', 'на', 'ее', 'головами', '.']\n",
      "\tTarget: ['<SOS>', 'топор', 'тяжело', 'обрушился', 'на', 'ее', 'голову', '.', '<EOS>', '<PAD>', '<PAD>', '<PAD>', '<PAD>', '<PAD>', '<PAD>', '<PAD>', '<PAD>', '<PAD>', '<PAD>', '<PAD>', '<PAD>', '<PAD>', '<PAD>', '<PAD>', '<PAD>', '<PAD>', '<PAD>', '<PAD>', '<PAD>', '<PAD>', '<PAD>', '<PAD>', '<PAD>', '<PAD>', '<PAD>', '<PAD>', '<PAD>', '<PAD>', '<PAD>', '<PAD>', '<PAD>', '<PAD>', '<PAD>', '<PAD>', '<PAD>', '<PAD>', '<PAD>', '<PAD>', '<PAD>', '<PAD>', '<PAD>', '<PAD>']\n",
      "\n",
      "Epoch [33 / 50]\n"
     ]
    },
    {
     "data": {
      "application/vnd.jupyter.widget-view+json": {
       "model_id": "51c84a22c16f45b688c50bedc5b3c916",
       "version_major": 2,
       "version_minor": 0
      },
      "text/plain": [
       "Epoch training iterations:   0%|          | 0/196 [00:00<?, ?it/s]"
      ]
     },
     "metadata": {},
     "output_type": "display_data"
    },
    {
     "name": "stdout",
     "output_type": "stream",
     "text": [
      "\tIteration #0: training loss = 0.15630139410495758\n",
      "\tIteration #39: training loss = 0.17407351732254028\n",
      "\tIteration #78: training loss = 0.15892720222473145\n",
      "\tIteration #117: training loss = 0.28177982568740845\n",
      "\tIteration #156: training loss = 0.14915761351585388\n",
      "\tIteration #195: training loss = 0.2056819349527359\n"
     ]
    },
    {
     "data": {
      "application/vnd.jupyter.widget-view+json": {
       "model_id": "30c20f10923d4eeb888d6b93bcccc03b",
       "version_major": 2,
       "version_minor": 0
      },
      "text/plain": [
       "Epoch validating iterations:   0%|          | 0/10 [00:00<?, ?it/s]"
      ]
     },
     "metadata": {},
     "output_type": "display_data"
    },
    {
     "name": "stdout",
     "output_type": "stream",
     "text": [
      "\tValidation loss = 2.4485265016555786\n",
      "\tInput: ['<SOS>', 'зугум', ',', 'на', 'выход', '!', '<EOS>', '<PAD>', '<PAD>', '<PAD>', '<PAD>', '<PAD>', '<PAD>', '<PAD>', '<PAD>', '<PAD>', '<PAD>', '<PAD>', '<PAD>', '<PAD>', '<PAD>', '<PAD>', '<PAD>', '<PAD>', '<PAD>', '<PAD>', '<PAD>', '<PAD>', '<PAD>', '<PAD>', '<PAD>', '<PAD>', '<PAD>', '<PAD>', '<PAD>', '<PAD>', '<PAD>', '<PAD>', '<PAD>', '<PAD>', '<PAD>', '<PAD>', '<PAD>', '<PAD>', '<PAD>', '<PAD>', '<PAD>', '<PAD>', '<PAD>', '<PAD>', '<PAD>', '<PAD>']\n",
      "\tOutput: ['конечно', ',', 'на', 'выход', '!']\n",
      "\tTarget: ['<SOS>', 'зугумов', ',', 'на', 'выход', '!', '<EOS>', '<PAD>', '<PAD>', '<PAD>', '<PAD>', '<PAD>', '<PAD>', '<PAD>', '<PAD>', '<PAD>', '<PAD>', '<PAD>', '<PAD>', '<PAD>', '<PAD>', '<PAD>', '<PAD>', '<PAD>', '<PAD>', '<PAD>', '<PAD>', '<PAD>', '<PAD>', '<PAD>', '<PAD>', '<PAD>', '<PAD>', '<PAD>', '<PAD>', '<PAD>', '<PAD>', '<PAD>', '<PAD>', '<PAD>', '<PAD>', '<PAD>', '<PAD>', '<PAD>', '<PAD>', '<PAD>', '<PAD>', '<PAD>', '<PAD>', '<PAD>', '<PAD>', '<PAD>']\n",
      "\n",
      "Epoch [34 / 50]\n"
     ]
    },
    {
     "data": {
      "application/vnd.jupyter.widget-view+json": {
       "model_id": "41310f6dfd9a40bf825be308268475ce",
       "version_major": 2,
       "version_minor": 0
      },
      "text/plain": [
       "Epoch training iterations:   0%|          | 0/196 [00:00<?, ?it/s]"
      ]
     },
     "metadata": {},
     "output_type": "display_data"
    },
    {
     "name": "stdout",
     "output_type": "stream",
     "text": [
      "\tIteration #0: training loss = 0.1501777470111847\n",
      "\tIteration #39: training loss = 0.16160909831523895\n",
      "\tIteration #78: training loss = 0.14984187483787537\n",
      "\tIteration #117: training loss = 0.27422288060188293\n",
      "\tIteration #156: training loss = 0.1489097625017166\n",
      "\tIteration #195: training loss = 0.13394218683242798\n"
     ]
    },
    {
     "data": {
      "application/vnd.jupyter.widget-view+json": {
       "model_id": "d877b75fdba947e3bb062b4451733228",
       "version_major": 2,
       "version_minor": 0
      },
      "text/plain": [
       "Epoch validating iterations:   0%|          | 0/10 [00:00<?, ?it/s]"
      ]
     },
     "metadata": {},
     "output_type": "display_data"
    },
    {
     "name": "stdout",
     "output_type": "stream",
     "text": [
      "\tValidation loss = 2.4568264961242674\n",
      "\tInput: ['<SOS>', 'в', '-', 'первый', ',', 'он', 'дать', 'я', 'очень', 'дельный', 'совет', ',', 'а', 'в', '-', 'второй', ',', 'сказать', 'правда', 'о', 'тот', ',', 'что', 'я', 'ожидать', 'в', 'сам', 'скорый', 'будущее', '.', '<EOS>', '<PAD>', '<PAD>', '<PAD>', '<PAD>', '<PAD>', '<PAD>', '<PAD>', '<PAD>', '<PAD>', '<PAD>', '<PAD>', '<PAD>', '<PAD>', '<PAD>', '<PAD>', '<PAD>', '<PAD>', '<PAD>', '<PAD>', '<PAD>', '<PAD>']\n",
      "\tOutput: ['во', '-', 'первых', ',', 'он', 'дал', 'мне', 'очень', 'русле', 'совет', ',', 'а', 'во', '-', 'вторых', ',', 'сказав', 'правду', 'о', 'том', ',', 'что', 'я', 'ожидал', 'в', 'самом', 'скором', 'будущем', '.']\n",
      "\tTarget: ['<SOS>', 'во', '-', 'первых', ',', 'он', 'дал', 'мне', 'очень', '<UNK>', 'совет', ',', 'а', 'во', '-', 'вторых', ',', 'сказал', 'правду', 'о', 'том', ',', 'что', 'меня', 'ожидало', 'в', 'самом', 'скором', 'будущем', '.', '<EOS>', '<PAD>', '<PAD>', '<PAD>', '<PAD>', '<PAD>', '<PAD>', '<PAD>', '<PAD>', '<PAD>', '<PAD>', '<PAD>', '<PAD>', '<PAD>', '<PAD>', '<PAD>', '<PAD>', '<PAD>', '<PAD>', '<PAD>', '<PAD>', '<PAD>']\n",
      "\n",
      "Epoch [35 / 50]\n"
     ]
    },
    {
     "data": {
      "application/vnd.jupyter.widget-view+json": {
       "model_id": "7bb7dc3fc25042a686e946a5e247c5c5",
       "version_major": 2,
       "version_minor": 0
      },
      "text/plain": [
       "Epoch training iterations:   0%|          | 0/196 [00:00<?, ?it/s]"
      ]
     },
     "metadata": {},
     "output_type": "display_data"
    },
    {
     "name": "stdout",
     "output_type": "stream",
     "text": [
      "\tIteration #0: training loss = 0.15588977932929993\n",
      "\tIteration #39: training loss = 0.14776259660720825\n",
      "\tIteration #78: training loss = 0.13387462496757507\n",
      "\tIteration #117: training loss = 0.16684240102767944\n",
      "\tIteration #156: training loss = 0.251324862241745\n",
      "\tIteration #195: training loss = 0.13090567290782928\n"
     ]
    },
    {
     "data": {
      "application/vnd.jupyter.widget-view+json": {
       "model_id": "8a0c804738dd4188835d90cbc924dd18",
       "version_major": 2,
       "version_minor": 0
      },
      "text/plain": [
       "Epoch validating iterations:   0%|          | 0/10 [00:00<?, ?it/s]"
      ]
     },
     "metadata": {},
     "output_type": "display_data"
    },
    {
     "name": "stdout",
     "output_type": "stream",
     "text": [
      "\tValidation loss = 2.511005401611328\n",
      "\tInput: ['<SOS>', 'но', 'я', 'думать', ',', 'что', 'он', 'действительный', 'мнение', 'быть', 'гораздо', 'более', '<UNK>', ',', 'чем', 'он', 'заявление', '.', '<EOS>', '<PAD>', '<PAD>', '<PAD>', '<PAD>', '<PAD>', '<PAD>', '<PAD>', '<PAD>', '<PAD>', '<PAD>', '<PAD>', '<PAD>', '<PAD>', '<PAD>', '<PAD>', '<PAD>', '<PAD>', '<PAD>', '<PAD>', '<PAD>', '<PAD>', '<PAD>', '<PAD>', '<PAD>', '<PAD>', '<PAD>', '<PAD>', '<PAD>', '<PAD>', '<PAD>', '<PAD>', '<PAD>', '<PAD>']\n",
      "\tOutput: ['но', 'я', 'думал', ',', 'что', 'его', 'ассистентки', 'мнение', 'было', 'гораздо', 'более', 'листиком', ',', 'чем', 'он', 'заявления', '.']\n",
      "\tTarget: ['<SOS>', 'но', 'я', 'думаю', ',', 'что', 'его', 'действительное', 'мнение', 'было', 'гораздо', 'более', '<UNK>', ',', 'чем', 'его', 'заявления', '.', '<EOS>', '<PAD>', '<PAD>', '<PAD>', '<PAD>', '<PAD>', '<PAD>', '<PAD>', '<PAD>', '<PAD>', '<PAD>', '<PAD>', '<PAD>', '<PAD>', '<PAD>', '<PAD>', '<PAD>', '<PAD>', '<PAD>', '<PAD>', '<PAD>', '<PAD>', '<PAD>', '<PAD>', '<PAD>', '<PAD>', '<PAD>', '<PAD>', '<PAD>', '<PAD>', '<PAD>', '<PAD>', '<PAD>', '<PAD>']\n",
      "\n",
      "Epoch [36 / 50]\n"
     ]
    },
    {
     "data": {
      "application/vnd.jupyter.widget-view+json": {
       "model_id": "92756def36fb4ad1b31032833a50730c",
       "version_major": 2,
       "version_minor": 0
      },
      "text/plain": [
       "Epoch training iterations:   0%|          | 0/196 [00:00<?, ?it/s]"
      ]
     },
     "metadata": {},
     "output_type": "display_data"
    },
    {
     "name": "stdout",
     "output_type": "stream",
     "text": [
      "\tIteration #0: training loss = 0.18291057646274567\n",
      "\tIteration #39: training loss = 0.14774258434772491\n",
      "\tIteration #78: training loss = 0.22441820800304413\n",
      "\tIteration #117: training loss = 0.22081471979618073\n",
      "\tIteration #156: training loss = 0.2017490118741989\n",
      "\tIteration #195: training loss = 0.13059298694133759\n"
     ]
    },
    {
     "data": {
      "application/vnd.jupyter.widget-view+json": {
       "model_id": "e079acf7702f4f709bcac176799fab03",
       "version_major": 2,
       "version_minor": 0
      },
      "text/plain": [
       "Epoch validating iterations:   0%|          | 0/10 [00:00<?, ?it/s]"
      ]
     },
     "metadata": {},
     "output_type": "display_data"
    },
    {
     "name": "stdout",
     "output_type": "stream",
     "text": [
      "\tValidation loss = 2.458213520050049\n",
      "\tInput: ['<SOS>', 'единственный', 'отличие', 'человек', ',', 'владеть', 'этот', 'возможность', 'от', 'человек', ',', 'уметь', 'плавать', ',', 'заключаться', 'в', 'уровень', 'ответственность', 'за', 'свой', 'действие', 'или', 'бездействие', '.', '<EOS>', '<PAD>', '<PAD>', '<PAD>', '<PAD>', '<PAD>', '<PAD>', '<PAD>', '<PAD>', '<PAD>', '<PAD>', '<PAD>', '<PAD>', '<PAD>', '<PAD>', '<PAD>', '<PAD>', '<PAD>', '<PAD>', '<PAD>', '<PAD>', '<PAD>', '<PAD>', '<PAD>', '<PAD>', '<PAD>', '<PAD>', '<PAD>']\n",
      "\tOutput: ['единственным', 'отличием', 'человека', ',', 'обученные', 'этих', 'возможности', 'от', 'человека', ',', 'умеет', 'плавать', ',', 'заключалась', 'в', 'уровне', 'ответственности', 'за', 'свои', 'действия', 'или', 'бездействие', '.']\n",
      "\tTarget: ['<SOS>', 'единственным', 'отличием', 'человека', ',', '<UNK>', 'этими', 'возможностями', 'от', 'человека', ',', 'умеющего', 'плавать', ',', 'заключается', 'в', 'уровне', 'ответственности', 'за', 'свои', 'действия', 'или', 'бездействия', '.', '<EOS>', '<PAD>', '<PAD>', '<PAD>', '<PAD>', '<PAD>', '<PAD>', '<PAD>', '<PAD>', '<PAD>', '<PAD>', '<PAD>', '<PAD>', '<PAD>', '<PAD>', '<PAD>', '<PAD>', '<PAD>', '<PAD>', '<PAD>', '<PAD>', '<PAD>', '<PAD>', '<PAD>', '<PAD>', '<PAD>', '<PAD>', '<PAD>']\n",
      "\n",
      "Model learning finished due to early stopping\n"
     ]
    }
   ],
   "source": [
    "train(model, optimizer, criterion, train_loader, val_loader, test_loader, epochs_amount, max_norm, patience, epoch)"
   ]
  },
  {
   "cell_type": "code",
   "execution_count": 34,
   "metadata": {},
   "outputs": [],
   "source": [
    "# import gc\n",
    "# del model\n",
    "# del optimizer\n",
    "# gc.collect()\n",
    "# torch.cuda.empty_cache()\n",
    "# gc.collect()"
   ]
  },
  {
   "cell_type": "code",
   "execution_count": 35,
   "metadata": {},
   "outputs": [],
   "source": [
    "test_sample = test_df.sample(10)\n",
    "test_input = test_sample.lemm_texts.to_list()\n",
    "test_target = test_sample.orig_texts.to_list()\n",
    "test_pair = list(zip(test_input, test_target))"
   ]
  },
  {
   "cell_type": "code",
   "execution_count": 38,
   "metadata": {
    "tags": []
   },
   "outputs": [
    {
     "name": "stdout",
     "output_type": "stream",
     "text": [
      "Input: тогда я рассудить, что если слабый женщина мочь подмести такой улица за три час, то сильный, энергичный мужчина мочь сделать это за вдвое малый время.\n",
      "Output: ['тогда', 'я', 'единственное', ',', 'что', 'если', 'слабые', 'женщина', 'могла', 'контролировать', 'такую', 'улицы', 'за', 'три', 'часа', ',', 'то', 'сильнее', ',', 'захотят', 'мужчина', 'могут', 'сделать', 'это', 'за', 'рамки', 'присутствия', 'времени', '.']\n",
      "Target: тогда я рассудил, что если слабая женщина могла подмести такую улицу за три часа, то сильный, энергичный мужчина может сделать это за вдвое меньшее время.\n",
      "\n",
      "\n",
      "Input: никто даже не понять, что у я происходить беседа, и я это понять, только тогда, когда телепатический обмен информация закончиться, и я стать слышать голос остальной привычный для мы способ.\n",
      "Output: ['никто', 'даже', 'не', 'понять', ',', 'что', 'у', 'меня', 'происходили', 'беседу', ',', 'и', 'я', 'это', 'понял', ',', 'только', 'тогда', ',', 'когда', 'ожидаемое', 'обмен', 'информацию', 'закончилось', ',', 'и', 'мне', 'стал', 'слышать', 'голос', 'остальным', 'привычные', 'для', 'нас', 'способы', '.']\n",
      "Target: никто даже не понял, что у меня происходила беседа, и я это понял, только тогда, когда телепатический обмен информацией закончился, и я стал слышать голоса остальных привычным для нас способом.\n",
      "\n",
      "\n",
      "Input: на что второй, спокойно облизывать палец, ответить: да, жаль, что у ты нет яблоко!.\n",
      "Output: ['на', 'что', 'вторая', ',', 'спокойно', 'неплохой', 'пальцев', ',', 'ответила', ':', 'да', ',', 'жаль', ',', 'что', 'у', 'тебя', 'нет', 'яблоко', '!.']\n",
      "Target: на что второй, спокойно облизывая пальцы, ответил: да, жаль, что у тебя нет яблока!.\n",
      "\n",
      "\n",
      "Input: в это они, к тот же, помогать доброжелатель, который восхвалять они и просить они в что - то помочь.\n",
      "Output: ['в', 'этом', 'они', ',', 'к', 'тому', 'же', ',', 'помогает', 'зрелищем', ',', 'которые', 'центр', 'их', 'и', 'просили', 'их', 'в', 'чём', '-', 'то', 'помочь', '.']\n",
      "Target: в этом им, к тому же, помогали доброжелатели, которые восхваляли их и просили им в чём - то помочь.\n",
      "\n",
      "\n",
      "Input: она ответить я, что её ладонь оказаться в тиски, который начать сжиматься, и она ощутить, как её кость начать, как бы, сплющиваться в этот тиски, и она закричать от боль.\n",
      "Output: ['она', 'ответила', 'мне', ',', 'что', 'её', 'пробил', 'оказалась', 'в', 'буре', ',', 'который', 'начал', 'товарищество', ',', 'и', 'она', 'ощутил', ',', 'как', 'её', 'кости', 'начал', ',', 'как', 'бы', ',', 'находящемуся', 'в', 'этих', 'ящик', ',', 'и', 'она', 'бродила', 'от', 'боли', '.']\n",
      "Target: она ответила мне, что её ладонь оказалась в тисках, которые начали сжиматься, и она ощутила, как её кости начали, как бы, сплющиваться в этих тисках, и она закричала от боли.\n",
      "\n",
      "\n",
      "Input: этот человек или испугаться сказать правда перед камера, или он просто непорядочный человек.\n",
      "Output: ['этот', 'человек', 'или', 'испугался', 'сказать', 'правды', 'перед', 'камеры', ',', 'или', 'его', 'просто', 'спасением', 'люди', '.']\n",
      "Target: этот человек или испугался сказать правду перед камерой, или он просто непорядочный человек.\n",
      "\n",
      "\n",
      "Input: роды быть очень тяжёлый, она делать кесарев сечение, и по какой - то там женский причина она уже большой не мочь иметь ребёнок.\n",
      "Output: ['попадались', 'было', 'очень', 'тяжёлыми', ',', 'она', 'делает', 'крайне', 'подчеркнуть', ',', 'и', 'по', 'каким', '-', 'то', 'там', 'женского', 'причину', 'неё', 'уже', 'больше', 'не', 'могут', 'иметь', 'ребенка', '.']\n",
      "Target: роды были очень тяжелыми, ей делали кесарево сечение, и по каким - то там женским причинам она уже больше не могла иметь детей.\n",
      "\n",
      "\n",
      "Input: но вместо тот чтобы остановиться в большой торговый город, он нанять судно и отправиться в заанда, маленький портовый город, о который он слышать в россия от свой друг, голландский корабельный мастер.\n",
      "Output: ['но', 'вместо', 'того', 'чтобы', 'остановиться', 'в', 'большом', 'государственной', 'город', ',', 'он', 'угодливо', 'судно', 'и', 'отправился', 'в', 'лавках', ',', 'маленький', 'испытывать', 'город', ',', 'о', 'котором', 'он', 'слышали', 'в', 'россию', 'от', 'своих', 'друзей', ',', 'ошарашен', 'нарядился', 'мастера', '.']\n",
      "Target: но вместо того чтобы остановиться в большом торговом городе, он нанял судно и отправился в заандам, маленький портовый город, о котором он слышал в россии от своих друзей, голландских корабельных мастеров.\n",
      "\n",
      "\n",
      "Input: казаться бы, за что?\n",
      "Output: ['казалось', 'бы', ',', 'за', 'что', '?']\n",
      "Target: казалось бы, за что?\n",
      "\n",
      "\n",
      "Input: я прийтись неоднократно беседовать с учитель американский школа, который с я говорить откровенно, не бояться тот, что я написать на они донос, что, кстати, очень приветствоваться в америка.\n",
      "Output: ['мне', 'пришлось', 'неоднократно', 'беседовали', 'с', 'цивилизацией', 'американской', 'школы', ',', 'которые', 'со', 'мной', 'говорил', 'откровенно', ',', 'не', 'боялся', 'того', ',', 'что', 'я', 'написано', 'на', 'них', 'утверждения', ',', 'что', ',', 'кстати', ',', 'очень', 'ввести', 'в', 'америке', '.']\n",
      "Target: мне пришлось неоднократно беседовать с учителями американских школ, которые со мной говорили откровенно, не боясь того, что я напишу на них донос, что, кстати, очень приветствуется в америке.\n",
      "\n",
      "\n"
     ]
    }
   ],
   "source": [
    "for input_sentence, target_sentence in test_pair:\n",
    "    model_output = evaluate(model, input_sentence, max_seq_len)\n",
    "    print(f'Input: {input_sentence}')\n",
    "    print(f'Output: {model_output}')\n",
    "    print(f'Target: {target_sentence}')\n",
    "    print('\\n')"
   ]
  },
  {
   "cell_type": "code",
   "execution_count": 39,
   "metadata": {},
   "outputs": [],
   "source": [
    "test_input = test_df.lemm_texts.to_list()\n",
    "test_target = test_df.orig_texts.to_list()"
   ]
  },
  {
   "cell_type": "code",
   "execution_count": 42,
   "metadata": {},
   "outputs": [
    {
     "data": {
      "application/vnd.jupyter.widget-view+json": {
       "model_id": "f4daa74bbcf64412ace6cfaf1d10fa81",
       "version_major": 2,
       "version_minor": 0
      },
      "text/plain": [
       "  0%|          | 0/1395 [00:00<?, ?it/s]"
      ]
     },
     "metadata": {},
     "output_type": "display_data"
    },
    {
     "data": {
      "application/vnd.jupyter.widget-view+json": {
       "model_id": "56d0c3f7f2f64aef9abb026247aebb17",
       "version_major": 2,
       "version_minor": 0
      },
      "text/plain": [
       "  0%|          | 0/1395 [00:00<?, ?it/s]"
      ]
     },
     "metadata": {},
     "output_type": "display_data"
    }
   ],
   "source": [
    "outputs = [evaluate(model, input, 50) for input in tqdm(test_input)]\n",
    "targets = [[orig_text_transformer.tokenize(target)] for target in tqdm(test_target)]"
   ]
  },
  {
   "cell_type": "code",
   "execution_count": 44,
   "metadata": {},
   "outputs": [
    {
     "data": {
      "text/plain": [
       "0.675"
      ]
     },
     "execution_count": 44,
     "metadata": {},
     "output_type": "execute_result"
    }
   ],
   "source": [
    "score = round(bleu_score(outputs, targets, max_n=1, weights=[1]), 3)\n",
    "score"
   ]
  },
  {
   "cell_type": "code",
   "execution_count": null,
   "metadata": {},
   "outputs": [],
   "source": []
  }
 ],
 "metadata": {
  "kernelspec": {
   "display_name": "Python 3",
   "language": "python",
   "name": "python3"
  },
  "language_info": {
   "codemirror_mode": {
    "name": "ipython",
    "version": 3
   },
   "file_extension": ".py",
   "mimetype": "text/x-python",
   "name": "python",
   "nbconvert_exporter": "python",
   "pygments_lexer": "ipython3",
   "version": "3.9.2"
  }
 },
 "nbformat": 4,
 "nbformat_minor": 4
}

{
 "cells": [
  {
   "cell_type": "code",
   "execution_count": 1,
   "id": "6124a58c-1760-4fb0-b585-acc51dd8b824",
   "metadata": {},
   "outputs": [],
   "source": [
    "import pandas as pd\n",
    "import numpy as np\n",
    "import pickle\n",
    "import nltk\n",
    "import seaborn as sns\n",
    "import pymorphy2\n",
    "import re\n",
    "\n",
    "from random import randint, random\n",
    "from nltk.tokenize.treebank import TreebankWordDetokenizer\n",
    "from nerus import load_nerus\n",
    "from itertools import chain\n",
    "from collections import Counter\n",
    "from tqdm.auto import tqdm"
   ]
  },
  {
   "cell_type": "code",
   "execution_count": 2,
   "id": "ba71115a-8d99-4378-9739-64635aed9b15",
   "metadata": {},
   "outputs": [],
   "source": [
    "nerus_path = './data/nerus_lenta/nerus_lenta.conllu.gz'"
   ]
  },
  {
   "cell_type": "code",
   "execution_count": 3,
   "id": "4f257529-e59b-4597-87f1-c7ed8f32f79f",
   "metadata": {},
   "outputs": [],
   "source": [
    "sents_path = './data/nerus_lenta/sents.list'"
   ]
  },
  {
   "cell_type": "code",
   "execution_count": 4,
   "id": "aeeacc0b-2da0-4eed-9b3b-65833bbbb1c9",
   "metadata": {},
   "outputs": [],
   "source": [
    "lemm_sents_path = './data/nerus_lenta/part_lemm_sents.txt'"
   ]
  },
  {
   "cell_type": "code",
   "execution_count": 5,
   "id": "881e9ff0-51b4-4e34-90aa-826e99d6cfe7",
   "metadata": {},
   "outputs": [],
   "source": [
    "morph = pymorphy2.MorphAnalyzer()"
   ]
  },
  {
   "cell_type": "code",
   "execution_count": 6,
   "id": "381262c6-97bf-43ae-ab5d-cb82948de80c",
   "metadata": {},
   "outputs": [],
   "source": [
    "detokenizer = TreebankWordDetokenizer()"
   ]
  },
  {
   "cell_type": "code",
   "execution_count": 7,
   "id": "859ef15e-eb29-4fd4-bd87-cbc450253ca8",
   "metadata": {
    "tags": []
   },
   "outputs": [
    {
     "data": {
      "application/vnd.jupyter.widget-view+json": {
       "model_id": "86af8b6152a9428d96c279cdd12a113c",
       "version_major": 2,
       "version_minor": 0
      },
      "text/plain": [
       "HBox(children=(FloatProgress(value=0.0, max=800000.0), HTML(value='')))"
      ]
     },
     "metadata": {},
     "output_type": "display_data"
    },
    {
     "name": "stdout",
     "output_type": "stream",
     "text": [
      "\n"
     ]
    }
   ],
   "source": [
    "docs = load_nerus(nerus_path)\n",
    "\n",
    "sents = []\n",
    "\n",
    "for doc in tqdm(docs, total=800000):\n",
    "    for sent in doc.sents:\n",
    "        \n",
    "        sent_len = len(sent.tokens)\n",
    "        if sent_len < 3 or sent_len > 40:\n",
    "            continue\n",
    "        \n",
    "        root_id = None\n",
    "        nsubj = None\n",
    "        gender = None\n",
    "        tense = None\n",
    "        number = None\n",
    "        \n",
    "        for token in sent.tokens:\n",
    "\n",
    "            if token.rel == 'nsubj':\n",
    "                root_id = token.head_id\n",
    "                nsubj = token.text\n",
    "                gender = token.feats.get('Gender')\n",
    "                number = token.feats.get('Number', 'undefined')\n",
    "                break\n",
    "                \n",
    "        if root_id is None:\n",
    "            break\n",
    "        \n",
    "        root = sent.tokens[int(root_id) - 1]\n",
    "        if root.rel != 'root':\n",
    "            break\n",
    "        \n",
    "        tense = root.feats.get('Tense')\n",
    "        if tense is None:\n",
    "            break\n",
    "        \n",
    "        gender = gender if gender is not None else root.feats.get('Gender')\n",
    "        if gender is None:\n",
    "            gender = 'undefined'\n",
    "            \n",
    "        \n",
    "        part_lemm_sent = []\n",
    "        \n",
    "        n_lemmas = randint(sent_len // 2, sent_len)\n",
    "        lemma_prob = n_lemmas / sent_len\n",
    "            \n",
    "        for token in sent.tokens:\n",
    "            if lemma_prob >= random():\n",
    "                parsed_token = morph.parse(token.text)[0]\n",
    "                # если часть речи == причастие\n",
    "                if parsed_token.tag.POS == 'PRTF':\n",
    "                    lemma = parsed_token.inflect({'sing', 'nomn', 'masc'}).word\n",
    "                else:\n",
    "                    lemma = parsed_token.normal_form\n",
    "                part_lemm_sent.append(lemma)\n",
    "            else:\n",
    "                part_lemm_sent.append(token.text)\n",
    "            \n",
    "        part_lemm_sent = detokenizer.detokenize(part_lemm_sent)\n",
    "        \n",
    "        sents.append({'sent': sent.text,\n",
    "                      'part_lemm_sent': part_lemm_sent,\n",
    "                      'length': sent_len,\n",
    "                      'nsubj': nsubj,\n",
    "                      'gender': gender.lower(),\n",
    "                      'tense': tense.lower(),\n",
    "                      'number': number.lower()})\n",
    "\n",
    "with open(sents_path, 'wb') as f:\n",
    "    pickle.dump(sents, f)"
   ]
  },
  {
   "cell_type": "code",
   "execution_count": 43,
   "id": "393309bd-4051-49fd-908b-441b6b02b578",
   "metadata": {},
   "outputs": [
    {
     "data": {
      "text/plain": [
       "[Parse(word='идти', tag=OpencorporaTag('INFN,impf,intr'), normal_form='идти', score=1.0, methods_stack=((DictionaryAnalyzer(), 'идти', 1696, 0),))]"
      ]
     },
     "execution_count": 43,
     "metadata": {},
     "output_type": "execute_result"
    }
   ],
   "source": [
    "# pymorphy2.MorphAnalyzer().parse('идти')"
   ]
  },
  {
   "cell_type": "code",
   "execution_count": 6,
   "id": "4159f7e1-947d-4a11-acd7-6b323971662b",
   "metadata": {},
   "outputs": [
    {
     "data": {
      "application/vnd.jupyter.widget-view+json": {
       "model_id": "a618a7eee5464cb98d20f05c20aa7222",
       "version_major": 2,
       "version_minor": 0
      },
      "text/plain": [
       "  0%|          | 0/1852723 [00:00<?, ?it/s]"
      ]
     },
     "metadata": {},
     "output_type": "display_data"
    }
   ],
   "source": [
    "# sent_texts = [sent.get('text') for sent in tqdm(sents)]"
   ]
  },
  {
   "cell_type": "code",
   "execution_count": 7,
   "id": "e69f728b-ac49-4b6e-ac7d-d6549e75c858",
   "metadata": {},
   "outputs": [
    {
     "data": {
      "application/vnd.jupyter.widget-view+json": {
       "model_id": "f1f82f78957340759539372f5b6b5734",
       "version_major": 2,
       "version_minor": 0
      },
      "text/plain": [
       "  0%|          | 0/1852723 [00:00<?, ?it/s]"
      ]
     },
     "metadata": {},
     "output_type": "display_data"
    }
   ],
   "source": [
    "# tokenized_sents = [nltk.tokenize.word_tokenize(text, language='russian') for text in tqdm(sent_texts)]"
   ]
  },
  {
   "cell_type": "code",
   "execution_count": 8,
   "id": "6320cb3a-be05-4b96-bf66-15e05b346a4f",
   "metadata": {},
   "outputs": [
    {
     "data": {
      "application/vnd.jupyter.widget-view+json": {
       "model_id": "fb76b91f435644c7af939b758e757034",
       "version_major": 2,
       "version_minor": 0
      },
      "text/plain": [
       "  0%|          | 0/1852723 [00:00<?, ?it/s]"
      ]
     },
     "metadata": {},
     "output_type": "display_data"
    }
   ],
   "source": [
    "# sents_len = np.array([len(tokenized_sent) for tokenized_sent in tqdm(tokenized_sents)])"
   ]
  },
  {
   "cell_type": "code",
   "execution_count": 9,
   "id": "6d984740-4610-4d69-91e9-acc732475a31",
   "metadata": {},
   "outputs": [
    {
     "data": {
      "text/plain": [
       "48.223178440745"
      ]
     },
     "execution_count": 9,
     "metadata": {},
     "output_type": "execute_result"
    }
   ],
   "source": [
    "# sents_len.mean() + 3 * sents_len.std()"
   ]
  },
  {
   "cell_type": "code",
   "execution_count": 10,
   "id": "5a090c0f-8ffc-44a8-893d-88e2fbb012a7",
   "metadata": {},
   "outputs": [],
   "source": [
    "# sns.set(rc={'figure.figsize':(11.7, 8.27)})"
   ]
  },
  {
   "cell_type": "code",
   "execution_count": 11,
   "id": "05a5e41c-5404-49f6-ba90-60b5d3c00c2e",
   "metadata": {},
   "outputs": [
    {
     "data": {
      "image/png": "[encoded data removed]",
      "text/plain": [
       "<Figure size 842.4x595.44 with 1 Axes>"
      ]
     },
     "metadata": {},
     "output_type": "display_data"
    }
   ],
   "source": [
    "# sns.histplot(data=sents_len);"
   ]
  },
  {
   "cell_type": "code",
   "execution_count": 13,
   "id": "79b47a60-9617-4087-8be6-c0850ac5ff07",
   "metadata": {},
   "outputs": [],
   "source": [
    "# tokenized_lemm_sents = []"
   ]
  },
  {
   "cell_type": "code",
   "execution_count": 15,
   "id": "fc61f0b0-424b-44d0-a24b-dbb08ff3836a",
   "metadata": {
    "tags": []
   },
   "outputs": [
    {
     "data": {
      "application/vnd.jupyter.widget-view+json": {
       "model_id": "9f17afef2fb94a128fcd3970f970412f",
       "version_major": 2,
       "version_minor": 0
      },
      "text/plain": [
       "  0%|          | 0/1852723 [00:00<?, ?it/s]"
      ]
     },
     "metadata": {},
     "output_type": "display_data"
    }
   ],
   "source": [
    "# for tokenized_sent in tqdm(tokenized_sents):\n",
    "#     tokenized_lemm_sent = []\n",
    "#     for token in tokenized_sent:\n",
    "#         parsed_token = morph.parse(token)[0]\n",
    "        \n",
    "#         # если часть речи == причастие\n",
    "#         if parsed_token.tag.POS == 'PRTF':\n",
    "#             lemma = parsed_token.inflect({'sing', 'nomn', 'masc'}).word\n",
    "#         else:\n",
    "#             lemma = parsed_token.normal_form\n",
    "            \n",
    "#         tokenized_lemm_sent.append(lemma)\n",
    "        \n",
    "#     tokenized_lemm_sents.append(tokenized_lemm_sent)"
   ]
  },
  {
   "cell_type": "code",
   "execution_count": 27,
   "id": "00775ae4-3a94-46a5-8d62-41b34f5bee08",
   "metadata": {},
   "outputs": [
    {
     "data": {
      "application/vnd.jupyter.widget-view+json": {
       "model_id": "7b33ff7627614c9888ea2c98d1179a78",
       "version_major": 2,
       "version_minor": 0
      },
      "text/plain": [
       "  0%|          | 0/1852723 [00:00<?, ?it/s]"
      ]
     },
     "metadata": {},
     "output_type": "display_data"
    }
   ],
   "source": [
    "# lemm_sents = [detokenizer.detokenize(sent) for sent in tqdm(tokenized_lemm_sents)]"
   ]
  },
  {
   "cell_type": "code",
   "execution_count": 29,
   "id": "176b4720-4158-49fe-9d97-056e6c0bc445",
   "metadata": {},
   "outputs": [],
   "source": [
    "# with open('./data/nerus_lenta/lemm_sents.txt', 'w', encoding='utf-8') as f:\n",
    "#     for sent in lemm_sents:\n",
    "#         f.write(sent + '\\n')"
   ]
  },
  {
   "cell_type": "code",
   "execution_count": 30,
   "id": "3a0bc1f1-9814-41c5-9f3a-241b088b64e8",
   "metadata": {},
   "outputs": [],
   "source": [
    "# tokens = list(chain(*tokenized_sents))"
   ]
  },
  {
   "cell_type": "code",
   "execution_count": 31,
   "id": "9fa73e56-cee3-46e0-a650-2e6af66f5ef1",
   "metadata": {},
   "outputs": [],
   "source": [
    "# counted_tokens = Counter(tokens)"
   ]
  },
  {
   "cell_type": "code",
   "execution_count": 32,
   "id": "d4e88388-def1-409d-a9e8-7127b081af69",
   "metadata": {},
   "outputs": [
    {
     "data": {
      "application/vnd.jupyter.widget-view+json": {
       "model_id": "51d58152adc44fbbaf03d693e74d4f17",
       "version_major": 2,
       "version_minor": 0
      },
      "text/plain": [
       "  0%|          | 0/688064 [00:00<?, ?it/s]"
      ]
     },
     "metadata": {},
     "output_type": "display_data"
    }
   ],
   "source": [
    "# new_tokens = []\n",
    "# for word, count in tqdm(counted_tokens.items()):\n",
    "#     if count >= 4:\n",
    "#         new_tokens.append(word)"
   ]
  },
  {
   "cell_type": "code",
   "execution_count": 33,
   "id": "f14be7b5-0a2c-4660-b9e6-3a249a1f9da7",
   "metadata": {},
   "outputs": [
    {
     "data": {
      "text/plain": [
       "215759"
      ]
     },
     "execution_count": 33,
     "metadata": {},
     "output_type": "execute_result"
    }
   ],
   "source": [
    "# len(new_tokens)"
   ]
  },
  {
   "cell_type": "code",
   "execution_count": 34,
   "id": "9b58346c-5a45-44cd-8bdd-0899002053fe",
   "metadata": {},
   "outputs": [
    {
     "data": {
      "text/plain": [
       "688064"
      ]
     },
     "execution_count": 34,
     "metadata": {},
     "output_type": "execute_result"
    }
   ],
   "source": [
    "# len(counted_tokens)"
   ]
  },
  {
   "cell_type": "code",
   "execution_count": 35,
   "id": "db4fb5f7-f1c8-4c5c-8881-5b118aac99dc",
   "metadata": {},
   "outputs": [],
   "source": [
    "# lemm_tokens = list(chain(*tokenized_lemm_sents))"
   ]
  },
  {
   "cell_type": "code",
   "execution_count": 36,
   "id": "d1d7d6b6-f8a4-49f4-8531-f4d46ea85b76",
   "metadata": {},
   "outputs": [],
   "source": [
    "# counted_lemm_tokens = Counter(lemm_tokens)"
   ]
  },
  {
   "cell_type": "code",
   "execution_count": 37,
   "id": "3c207497-9d6c-4e8b-b990-bb1777e57956",
   "metadata": {},
   "outputs": [],
   "source": [
    "# new_lemm_tokens = []"
   ]
  },
  {
   "cell_type": "code",
   "execution_count": 38,
   "id": "666fedf9-590f-4df8-b7f6-f26a09fd48dd",
   "metadata": {},
   "outputs": [
    {
     "data": {
      "application/vnd.jupyter.widget-view+json": {
       "model_id": "71e364c276ad4c6f895033af86bcadb7",
       "version_major": 2,
       "version_minor": 0
      },
      "text/plain": [
       "  0%|          | 0/417567 [00:00<?, ?it/s]"
      ]
     },
     "metadata": {},
     "output_type": "display_data"
    }
   ],
   "source": [
    "# for word, count in tqdm(counted_lemm_tokens.items()):\n",
    "#     if count >= 2:\n",
    "#         new_lemm_tokens.append(word)"
   ]
  },
  {
   "cell_type": "code",
   "execution_count": 39,
   "id": "839de2eb-799a-4806-a948-67d173bb24af",
   "metadata": {},
   "outputs": [
    {
     "data": {
      "text/plain": [
       "200568"
      ]
     },
     "execution_count": 39,
     "metadata": {},
     "output_type": "execute_result"
    }
   ],
   "source": [
    "# len(new_lemm_tokens)"
   ]
  },
  {
   "cell_type": "code",
   "execution_count": 40,
   "id": "095fec74-4f1d-432d-8058-0c79c0d9fc10",
   "metadata": {},
   "outputs": [
    {
     "data": {
      "text/plain": [
       "417567"
      ]
     },
     "execution_count": 40,
     "metadata": {},
     "output_type": "execute_result"
    }
   ],
   "source": [
    "# len(counted_lemm_tokens)"
   ]
  },
  {
   "cell_type": "code",
   "execution_count": 6,
   "id": "19af2f34-c0c3-4710-9cba-20329de798a6",
   "metadata": {},
   "outputs": [],
   "source": [
    "with open(sents_path, 'rb') as f:\n",
    "    sents = pickle.load(f)"
   ]
  },
  {
   "cell_type": "code",
   "execution_count": 7,
   "id": "a067815f-60c7-4bab-ae0c-0fd8ac8af7be",
   "metadata": {},
   "outputs": [
    {
     "data": {
      "text/plain": [
       "[{'text': 'вице-премьер по социальным вопросам татьяна голикова рассказала, в каких регионах россии зафиксирована наиболее высокая смертность от рака, сообщает риа новости.',\n",
       "  'nsubj': 'вице-премьер',\n",
       "  'gender': 'masc',\n",
       "  'tense': 'past'},\n",
       " {'text': 'по словам голиковой, чаще всего онкологические заболевания становились причиной смерти в псковской, тверской, тульской и орловской областях, а также в севастополе.',\n",
       "  'nsubj': 'заболевания',\n",
       "  'gender': 'neut',\n",
       "  'tense': 'past'},\n",
       " {'text': 'вице-премьер напомнила, что главные факторы смертности в россии — рак и болезни системы кровообращения.',\n",
       "  'nsubj': 'вице-премьер',\n",
       "  'gender': 'masc',\n",
       "  'tense': 'past'}]"
      ]
     },
     "execution_count": 7,
     "metadata": {},
     "output_type": "execute_result"
    }
   ],
   "source": [
    "sents[:3]"
   ]
  },
  {
   "cell_type": "code",
   "execution_count": 8,
   "id": "bbaee36d-c289-4e1f-9cd2-b89c47ab4d8e",
   "metadata": {},
   "outputs": [],
   "source": [
    "data = {'orig_texts': [], 'part_lemm_texts': [], 'length': [], 'nsubj': [], 'gender': [], 'tense': [], 'number': []}"
   ]
  },
  {
   "cell_type": "code",
   "execution_count": 9,
   "id": "ba08c465-ea9c-488a-a229-32ec51452bf2",
   "metadata": {},
   "outputs": [
    {
     "data": {
      "application/vnd.jupyter.widget-view+json": {
       "model_id": "9d87246001c846b79c80e8c4a181072f",
       "version_major": 2,
       "version_minor": 0
      },
      "text/plain": [
       "HBox(children=(FloatProgress(value=0.0, max=1835692.0), HTML(value='')))"
      ]
     },
     "metadata": {},
     "output_type": "display_data"
    },
    {
     "name": "stdout",
     "output_type": "stream",
     "text": [
      "\n"
     ]
    }
   ],
   "source": [
    "for i in tqdm(range(len(sents))):\n",
    "    data['orig_texts'].append(sents[i].get('sent'))\n",
    "    data['part_lemm_texts'].append(sents[i].get('part_lemm_sent'))\n",
    "    data['length'].append(sents[i].get('length'))\n",
    "    data['nsubj'].append(sents[i].get('nsubj'))\n",
    "    data['gender'].append(sents[i].get('gender'))\n",
    "    data['tense'].append(sents[i].get('tense'))\n",
    "    data['number'].append(sents[i].get('number'))"
   ]
  },
  {
   "cell_type": "code",
   "execution_count": 15,
   "id": "1f158e91-1e74-4f60-b593-6d9984393850",
   "metadata": {},
   "outputs": [],
   "source": [
    "df = pd.DataFrame(data)"
   ]
  },
  {
   "cell_type": "code",
   "execution_count": 16,
   "id": "385e910d-ac29-4175-a315-6c80b976ddb0",
   "metadata": {},
   "outputs": [],
   "source": [
    "df.part_lemm_texts = df.part_lemm_texts.map(lambda s: s.replace('``', ' \"'))"
   ]
  },
  {
   "cell_type": "code",
   "execution_count": 17,
   "id": "45b9da66-d57b-4db2-987e-0744aabebe06",
   "metadata": {},
   "outputs": [],
   "source": [
    "df.part_lemm_texts = df.part_lemm_texts.map(lambda s: re.sub(r'\\w\"\\w', lambda m: f'{m.group()[:2]} {m.group()[-1]}', s))"
   ]
  },
  {
   "cell_type": "code",
   "execution_count": 18,
   "id": "0088f09f-a85d-492b-8460-0f1747166007",
   "metadata": {},
   "outputs": [
    {
     "data": {
      "text/html": [
       "<div>\n",
       "<style scoped>\n",
       "    .dataframe tbody tr th:only-of-type {\n",
       "        vertical-align: middle;\n",
       "    }\n",
       "\n",
       "    .dataframe tbody tr th {\n",
       "        vertical-align: top;\n",
       "    }\n",
       "\n",
       "    .dataframe thead th {\n",
       "        text-align: right;\n",
       "    }\n",
       "</style>\n",
       "<table border=\"1\" class=\"dataframe\">\n",
       "  <thead>\n",
       "    <tr style=\"text-align: right;\">\n",
       "      <th></th>\n",
       "      <th>orig_texts</th>\n",
       "      <th>part_lemm_texts</th>\n",
       "      <th>length</th>\n",
       "      <th>nsubj</th>\n",
       "      <th>gender</th>\n",
       "      <th>tense</th>\n",
       "      <th>number</th>\n",
       "    </tr>\n",
       "  </thead>\n",
       "  <tbody>\n",
       "    <tr>\n",
       "      <th>0</th>\n",
       "      <td>Вице-премьер по социальным вопросам Татьяна Го...</td>\n",
       "      <td>вице-премьер по социальный вопросам татьяна го...</td>\n",
       "      <td>23</td>\n",
       "      <td>Вице-премьер</td>\n",
       "      <td>masc</td>\n",
       "      <td>past</td>\n",
       "      <td>sing</td>\n",
       "    </tr>\n",
       "    <tr>\n",
       "      <th>1</th>\n",
       "      <td>По словам Голиковой, чаще всего онкологические...</td>\n",
       "      <td>по слово голиков, частый весь онкологический з...</td>\n",
       "      <td>26</td>\n",
       "      <td>заболевания</td>\n",
       "      <td>neut</td>\n",
       "      <td>past</td>\n",
       "      <td>plur</td>\n",
       "    </tr>\n",
       "    <tr>\n",
       "      <th>2</th>\n",
       "      <td>Вице-премьер напомнила, что главные факторы см...</td>\n",
       "      <td>вице-премьер напомнить, что главный факторы см...</td>\n",
       "      <td>16</td>\n",
       "      <td>Вице-премьер</td>\n",
       "      <td>masc</td>\n",
       "      <td>past</td>\n",
       "      <td>sing</td>\n",
       "    </tr>\n",
       "    <tr>\n",
       "      <th>3</th>\n",
       "      <td>Австрийские правоохранительные органы не предс...</td>\n",
       "      <td>австрийский правоохранительный орган не предст...</td>\n",
       "      <td>12</td>\n",
       "      <td>органы</td>\n",
       "      <td>masc</td>\n",
       "      <td>past</td>\n",
       "      <td>plur</td>\n",
       "    </tr>\n",
       "    <tr>\n",
       "      <th>4</th>\n",
       "      <td>Об этом сообщил посол России в Вене Дмитрий Лю...</td>\n",
       "      <td>Об этом сообщить посол россия в Вене дмитрий Л...</td>\n",
       "      <td>23</td>\n",
       "      <td>посол</td>\n",
       "      <td>masc</td>\n",
       "      <td>past</td>\n",
       "      <td>sing</td>\n",
       "    </tr>\n",
       "    <tr>\n",
       "      <th>...</th>\n",
       "      <td>...</td>\n",
       "      <td>...</td>\n",
       "      <td>...</td>\n",
       "      <td>...</td>\n",
       "      <td>...</td>\n",
       "      <td>...</td>\n",
       "      <td>...</td>\n",
       "    </tr>\n",
       "    <tr>\n",
       "      <th>1835687</th>\n",
       "      <td>Как сообщили \"Интерфаксу\" во временном пресс-ц...</td>\n",
       "      <td>как сообщить \" Интерфаксу \" в временной пресс-...</td>\n",
       "      <td>24</td>\n",
       "      <td>они</td>\n",
       "      <td>undefined</td>\n",
       "      <td>pres</td>\n",
       "      <td>plur</td>\n",
       "    </tr>\n",
       "    <tr>\n",
       "      <th>1835688</th>\n",
       "      <td>Всего, по имеющимся в пресс-центре сведениям, ...</td>\n",
       "      <td>весь, по имеющийся в пресс-центр сведение, гру...</td>\n",
       "      <td>18</td>\n",
       "      <td>группировка</td>\n",
       "      <td>fem</td>\n",
       "      <td>pres</td>\n",
       "      <td>sing</td>\n",
       "    </tr>\n",
       "    <tr>\n",
       "      <th>1835689</th>\n",
       "      <td>Намеченная на сегодняшний день церемония вступ...</td>\n",
       "      <td>намеченный на сегодняшний день церемония вступ...</td>\n",
       "      <td>17</td>\n",
       "      <td>церемония</td>\n",
       "      <td>fem</td>\n",
       "      <td>fut</td>\n",
       "      <td>sing</td>\n",
       "    </tr>\n",
       "    <tr>\n",
       "      <th>1835690</th>\n",
       "      <td>Владимир Семенов находится в Москве, где вмест...</td>\n",
       "      <td>владимир семён находиться в москва, где вместе...</td>\n",
       "      <td>39</td>\n",
       "      <td>Владимир</td>\n",
       "      <td>masc</td>\n",
       "      <td>pres</td>\n",
       "      <td>sing</td>\n",
       "    </tr>\n",
       "    <tr>\n",
       "      <th>1835691</th>\n",
       "      <td>На состоявшейся сегодня в Москве пресс-конфере...</td>\n",
       "      <td>на состоявшейся сегодня в Москве пресс-конфере...</td>\n",
       "      <td>30</td>\n",
       "      <td>шеф</td>\n",
       "      <td>masc</td>\n",
       "      <td>past</td>\n",
       "      <td>sing</td>\n",
       "    </tr>\n",
       "  </tbody>\n",
       "</table>\n",
       "<p>1835692 rows × 7 columns</p>\n",
       "</div>"
      ],
      "text/plain": [
       "                                                orig_texts  \\\n",
       "0        Вице-премьер по социальным вопросам Татьяна Го...   \n",
       "1        По словам Голиковой, чаще всего онкологические...   \n",
       "2        Вице-премьер напомнила, что главные факторы см...   \n",
       "3        Австрийские правоохранительные органы не предс...   \n",
       "4        Об этом сообщил посол России в Вене Дмитрий Лю...   \n",
       "...                                                    ...   \n",
       "1835687  Как сообщили \"Интерфаксу\" во временном пресс-ц...   \n",
       "1835688  Всего, по имеющимся в пресс-центре сведениям, ...   \n",
       "1835689  Намеченная на сегодняшний день церемония вступ...   \n",
       "1835690  Владимир Семенов находится в Москве, где вмест...   \n",
       "1835691  На состоявшейся сегодня в Москве пресс-конфере...   \n",
       "\n",
       "                                           part_lemm_texts  length  \\\n",
       "0        вице-премьер по социальный вопросам татьяна го...      23   \n",
       "1        по слово голиков, частый весь онкологический з...      26   \n",
       "2        вице-премьер напомнить, что главный факторы см...      16   \n",
       "3        австрийский правоохранительный орган не предст...      12   \n",
       "4        Об этом сообщить посол россия в Вене дмитрий Л...      23   \n",
       "...                                                    ...     ...   \n",
       "1835687  как сообщить \" Интерфаксу \" в временной пресс-...      24   \n",
       "1835688  весь, по имеющийся в пресс-центр сведение, гру...      18   \n",
       "1835689  намеченный на сегодняшний день церемония вступ...      17   \n",
       "1835690  владимир семён находиться в москва, где вместе...      39   \n",
       "1835691  на состоявшейся сегодня в Москве пресс-конфере...      30   \n",
       "\n",
       "                nsubj     gender tense number  \n",
       "0        Вице-премьер       masc  past   sing  \n",
       "1         заболевания       neut  past   plur  \n",
       "2        Вице-премьер       masc  past   sing  \n",
       "3              органы       masc  past   plur  \n",
       "4               посол       masc  past   sing  \n",
       "...               ...        ...   ...    ...  \n",
       "1835687           они  undefined  pres   plur  \n",
       "1835688   группировка        fem  pres   sing  \n",
       "1835689     церемония        fem   fut   sing  \n",
       "1835690      Владимир       masc  pres   sing  \n",
       "1835691           шеф       masc  past   sing  \n",
       "\n",
       "[1835692 rows x 7 columns]"
      ]
     },
     "execution_count": 18,
     "metadata": {},
     "output_type": "execute_result"
    }
   ],
   "source": [
    "df"
   ]
  },
  {
   "cell_type": "code",
   "execution_count": 19,
   "id": "09f416c2-a2f5-426a-a5b4-cf464544147b",
   "metadata": {},
   "outputs": [],
   "source": [
    "df.to_csv('./data/nerus_lenta/dataset.csv', index=False)"
   ]
  },
  {
   "cell_type": "code",
   "execution_count": 2,
   "id": "db12dd46-019c-466d-be09-ce29d2cb3bd3",
   "metadata": {},
   "outputs": [],
   "source": [
    "df = pd.read_csv('./data/nerus_lenta/dataset.csv')"
   ]
  },
  {
   "cell_type": "code",
   "execution_count": 3,
   "id": "c2f3bb10-0a5a-443e-a4f3-11df55972c3e",
   "metadata": {},
   "outputs": [
    {
     "data": {
      "text/html": [
       "<div>\n",
       "<style scoped>\n",
       "    .dataframe tbody tr th:only-of-type {\n",
       "        vertical-align: middle;\n",
       "    }\n",
       "\n",
       "    .dataframe tbody tr th {\n",
       "        vertical-align: top;\n",
       "    }\n",
       "\n",
       "    .dataframe thead th {\n",
       "        text-align: right;\n",
       "    }\n",
       "</style>\n",
       "<table border=\"1\" class=\"dataframe\">\n",
       "  <thead>\n",
       "    <tr style=\"text-align: right;\">\n",
       "      <th></th>\n",
       "      <th>orig_texts</th>\n",
       "      <th>part_lemm_texts</th>\n",
       "      <th>length</th>\n",
       "      <th>nsubj</th>\n",
       "      <th>gender</th>\n",
       "      <th>tense</th>\n",
       "      <th>number</th>\n",
       "    </tr>\n",
       "  </thead>\n",
       "  <tbody>\n",
       "    <tr>\n",
       "      <th>0</th>\n",
       "      <td>Вице-премьер по социальным вопросам Татьяна Го...</td>\n",
       "      <td>вице-премьер по социальный вопросам татьяна го...</td>\n",
       "      <td>23</td>\n",
       "      <td>Вице-премьер</td>\n",
       "      <td>masc</td>\n",
       "      <td>past</td>\n",
       "      <td>sing</td>\n",
       "    </tr>\n",
       "    <tr>\n",
       "      <th>1</th>\n",
       "      <td>По словам Голиковой, чаще всего онкологические...</td>\n",
       "      <td>по слово голиков, частый весь онкологический з...</td>\n",
       "      <td>26</td>\n",
       "      <td>заболевания</td>\n",
       "      <td>neut</td>\n",
       "      <td>past</td>\n",
       "      <td>plur</td>\n",
       "    </tr>\n",
       "    <tr>\n",
       "      <th>2</th>\n",
       "      <td>Вице-премьер напомнила, что главные факторы см...</td>\n",
       "      <td>вице-премьер напомнить, что главный факторы см...</td>\n",
       "      <td>16</td>\n",
       "      <td>Вице-премьер</td>\n",
       "      <td>masc</td>\n",
       "      <td>past</td>\n",
       "      <td>sing</td>\n",
       "    </tr>\n",
       "    <tr>\n",
       "      <th>3</th>\n",
       "      <td>Австрийские правоохранительные органы не предс...</td>\n",
       "      <td>австрийский правоохранительный орган не предст...</td>\n",
       "      <td>12</td>\n",
       "      <td>органы</td>\n",
       "      <td>masc</td>\n",
       "      <td>past</td>\n",
       "      <td>plur</td>\n",
       "    </tr>\n",
       "    <tr>\n",
       "      <th>4</th>\n",
       "      <td>Об этом сообщил посол России в Вене Дмитрий Лю...</td>\n",
       "      <td>Об этом сообщить посол россия в Вене дмитрий Л...</td>\n",
       "      <td>23</td>\n",
       "      <td>посол</td>\n",
       "      <td>masc</td>\n",
       "      <td>past</td>\n",
       "      <td>sing</td>\n",
       "    </tr>\n",
       "    <tr>\n",
       "      <th>...</th>\n",
       "      <td>...</td>\n",
       "      <td>...</td>\n",
       "      <td>...</td>\n",
       "      <td>...</td>\n",
       "      <td>...</td>\n",
       "      <td>...</td>\n",
       "      <td>...</td>\n",
       "    </tr>\n",
       "    <tr>\n",
       "      <th>1835687</th>\n",
       "      <td>Как сообщили \"Интерфаксу\" во временном пресс-ц...</td>\n",
       "      <td>как сообщить \" Интерфаксу \" в временной пресс-...</td>\n",
       "      <td>24</td>\n",
       "      <td>они</td>\n",
       "      <td>undefined</td>\n",
       "      <td>pres</td>\n",
       "      <td>plur</td>\n",
       "    </tr>\n",
       "    <tr>\n",
       "      <th>1835688</th>\n",
       "      <td>Всего, по имеющимся в пресс-центре сведениям, ...</td>\n",
       "      <td>весь, по имеющийся в пресс-центр сведение, гру...</td>\n",
       "      <td>18</td>\n",
       "      <td>группировка</td>\n",
       "      <td>fem</td>\n",
       "      <td>pres</td>\n",
       "      <td>sing</td>\n",
       "    </tr>\n",
       "    <tr>\n",
       "      <th>1835689</th>\n",
       "      <td>Намеченная на сегодняшний день церемония вступ...</td>\n",
       "      <td>намеченный на сегодняшний день церемония вступ...</td>\n",
       "      <td>17</td>\n",
       "      <td>церемония</td>\n",
       "      <td>fem</td>\n",
       "      <td>fut</td>\n",
       "      <td>sing</td>\n",
       "    </tr>\n",
       "    <tr>\n",
       "      <th>1835690</th>\n",
       "      <td>Владимир Семенов находится в Москве, где вмест...</td>\n",
       "      <td>владимир семён находиться в москва, где вместе...</td>\n",
       "      <td>39</td>\n",
       "      <td>Владимир</td>\n",
       "      <td>masc</td>\n",
       "      <td>pres</td>\n",
       "      <td>sing</td>\n",
       "    </tr>\n",
       "    <tr>\n",
       "      <th>1835691</th>\n",
       "      <td>На состоявшейся сегодня в Москве пресс-конфере...</td>\n",
       "      <td>на состоявшейся сегодня в Москве пресс-конфере...</td>\n",
       "      <td>30</td>\n",
       "      <td>шеф</td>\n",
       "      <td>masc</td>\n",
       "      <td>past</td>\n",
       "      <td>sing</td>\n",
       "    </tr>\n",
       "  </tbody>\n",
       "</table>\n",
       "<p>1835692 rows × 7 columns</p>\n",
       "</div>"
      ],
      "text/plain": [
       "                                                orig_texts  \\\n",
       "0        Вице-премьер по социальным вопросам Татьяна Го...   \n",
       "1        По словам Голиковой, чаще всего онкологические...   \n",
       "2        Вице-премьер напомнила, что главные факторы см...   \n",
       "3        Австрийские правоохранительные органы не предс...   \n",
       "4        Об этом сообщил посол России в Вене Дмитрий Лю...   \n",
       "...                                                    ...   \n",
       "1835687  Как сообщили \"Интерфаксу\" во временном пресс-ц...   \n",
       "1835688  Всего, по имеющимся в пресс-центре сведениям, ...   \n",
       "1835689  Намеченная на сегодняшний день церемония вступ...   \n",
       "1835690  Владимир Семенов находится в Москве, где вмест...   \n",
       "1835691  На состоявшейся сегодня в Москве пресс-конфере...   \n",
       "\n",
       "                                           part_lemm_texts  length  \\\n",
       "0        вице-премьер по социальный вопросам татьяна го...      23   \n",
       "1        по слово голиков, частый весь онкологический з...      26   \n",
       "2        вице-премьер напомнить, что главный факторы см...      16   \n",
       "3        австрийский правоохранительный орган не предст...      12   \n",
       "4        Об этом сообщить посол россия в Вене дмитрий Л...      23   \n",
       "...                                                    ...     ...   \n",
       "1835687  как сообщить \" Интерфаксу \" в временной пресс-...      24   \n",
       "1835688  весь, по имеющийся в пресс-центр сведение, гру...      18   \n",
       "1835689  намеченный на сегодняшний день церемония вступ...      17   \n",
       "1835690  владимир семён находиться в москва, где вместе...      39   \n",
       "1835691  на состоявшейся сегодня в Москве пресс-конфере...      30   \n",
       "\n",
       "                nsubj     gender tense number  \n",
       "0        Вице-премьер       masc  past   sing  \n",
       "1         заболевания       neut  past   plur  \n",
       "2        Вице-премьер       masc  past   sing  \n",
       "3              органы       masc  past   plur  \n",
       "4               посол       masc  past   sing  \n",
       "...               ...        ...   ...    ...  \n",
       "1835687           они  undefined  pres   plur  \n",
       "1835688   группировка        fem  pres   sing  \n",
       "1835689     церемония        fem   fut   sing  \n",
       "1835690      Владимир       masc  pres   sing  \n",
       "1835691           шеф       masc  past   sing  \n",
       "\n",
       "[1835692 rows x 7 columns]"
      ]
     },
     "execution_count": 3,
     "metadata": {},
     "output_type": "execute_result"
    }
   ],
   "source": [
    "df"
   ]
  },
  {
   "cell_type": "code",
   "execution_count": null,
   "id": "4c3250cf-80df-4419-95cb-30f78be78fd4",
   "metadata": {},
   "outputs": [],
   "source": []
  }
 ],
 "metadata": {
  "kernelspec": {
   "display_name": "Python 3",
   "language": "python",
   "name": "python3"
  },
  "language_info": {
   "codemirror_mode": {
    "name": "ipython",
    "version": 3
   },
   "file_extension": ".py",
   "mimetype": "text/x-python",
   "name": "python",
   "nbconvert_exporter": "python",
   "pygments_lexer": "ipython3",
   "version": "3.9.2"
  }
 },
 "nbformat": 4,
 "nbformat_minor": 5
}
